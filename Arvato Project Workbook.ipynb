{
 "cells": [
  {
   "cell_type": "markdown",
   "metadata": {},
   "source": [
    "# Capstone Project: Create a Customer Segmentation Report for Arvato Financial Services\n",
    "\n",
    "In this project, you will analyze demographics data for customers of a mail-order sales company in Germany, comparing it against demographics information for the general population. You'll use unsupervised learning techniques to perform customer segmentation, identifying the parts of the population that best describe the core customer base of the company. Then, you'll apply what you've learned on a third dataset with demographics information for targets of a marketing campaign for the company, and use a model to predict which individuals are most likely to convert into becoming customers for the company. The data that you will use has been provided by our partners at Bertelsmann Arvato Analytics, and represents a real-life data science task.\n",
    "\n",
    "If you completed the first term of this program, you will be familiar with the first part of this project, from the unsupervised learning project. The versions of those two datasets used in this project will include many more features and has not been pre-cleaned. You are also free to choose whatever approach you'd like to analyzing the data rather than follow pre-determined steps. In your work on this project, make sure that you carefully document your steps and decisions, since your main deliverable for this project will be a blog post reporting your findings."
   ]
  },
  {
   "cell_type": "markdown",
   "metadata": {},
   "source": [
    "# IMPORT"
   ]
  },
  {
   "cell_type": "code",
   "execution_count": 1,
   "metadata": {},
   "outputs": [
    {
     "name": "stdout",
     "output_type": "stream",
     "text": [
      "Collecting seaborn==0.10.1\n",
      "\u001b[?25l  Downloading https://files.pythonhosted.org/packages/c7/e6/54aaaafd0b87f51dfba92ba73da94151aa3bc179e5fe88fc5dfb3038e860/seaborn-0.10.1-py3-none-any.whl (215kB)\n",
      "\u001b[K    100% |████████████████████████████████| 225kB 12.6MB/s ta 0:00:01\n",
      "\u001b[?25hRequirement already satisfied: pandas>=0.22.0 in /home/ec2-user/anaconda3/envs/amazonei_mxnet_p36/lib/python3.6/site-packages (from seaborn==0.10.1) (0.24.2)\n",
      "Requirement already satisfied: numpy>=1.13.3 in /home/ec2-user/anaconda3/envs/amazonei_mxnet_p36/lib/python3.6/site-packages (from seaborn==0.10.1) (1.14.6)\n",
      "Requirement already satisfied: scipy>=1.0.1 in /home/ec2-user/anaconda3/envs/amazonei_mxnet_p36/lib/python3.6/site-packages (from seaborn==0.10.1) (1.1.0)\n",
      "Requirement already satisfied: matplotlib>=2.1.2 in /home/ec2-user/anaconda3/envs/amazonei_mxnet_p36/lib/python3.6/site-packages (from seaborn==0.10.1) (3.0.3)\n",
      "Requirement already satisfied: python-dateutil>=2.5.0 in /home/ec2-user/anaconda3/envs/amazonei_mxnet_p36/lib/python3.6/site-packages (from pandas>=0.22.0->seaborn==0.10.1) (2.7.3)\n",
      "Requirement already satisfied: pytz>=2011k in /home/ec2-user/anaconda3/envs/amazonei_mxnet_p36/lib/python3.6/site-packages (from pandas>=0.22.0->seaborn==0.10.1) (2018.4)\n",
      "Requirement already satisfied: cycler>=0.10 in /home/ec2-user/anaconda3/envs/amazonei_mxnet_p36/lib/python3.6/site-packages (from matplotlib>=2.1.2->seaborn==0.10.1) (0.10.0)\n",
      "Requirement already satisfied: pyparsing!=2.0.4,!=2.1.2,!=2.1.6,>=2.0.1 in /home/ec2-user/anaconda3/envs/amazonei_mxnet_p36/lib/python3.6/site-packages (from matplotlib>=2.1.2->seaborn==0.10.1) (2.2.0)\n",
      "Requirement already satisfied: kiwisolver>=1.0.1 in /home/ec2-user/anaconda3/envs/amazonei_mxnet_p36/lib/python3.6/site-packages (from matplotlib>=2.1.2->seaborn==0.10.1) (1.0.1)\n",
      "Requirement already satisfied: six>=1.5 in /home/ec2-user/anaconda3/envs/amazonei_mxnet_p36/lib/python3.6/site-packages (from python-dateutil>=2.5.0->pandas>=0.22.0->seaborn==0.10.1) (1.11.0)\n",
      "Requirement already satisfied: setuptools in /home/ec2-user/anaconda3/envs/amazonei_mxnet_p36/lib/python3.6/site-packages (from kiwisolver>=1.0.1->matplotlib>=2.1.2->seaborn==0.10.1) (39.1.0)\n",
      "Installing collected packages: seaborn\n",
      "  Found existing installation: seaborn 0.8.1\n",
      "    Uninstalling seaborn-0.8.1:\n",
      "      Successfully uninstalled seaborn-0.8.1\n",
      "Successfully installed seaborn-0.10.1\n",
      "\u001b[33mYou are using pip version 10.0.1, however version 20.2b1 is available.\n",
      "You should consider upgrading via the 'pip install --upgrade pip' command.\u001b[0m\n"
     ]
    }
   ],
   "source": [
    "!pip install seaborn==0.10.1"
   ]
  },
  {
   "cell_type": "code",
   "execution_count": 2,
   "metadata": {},
   "outputs": [],
   "source": [
    "# import libraries here; add more as necessary\n",
    "import numpy as np\n",
    "import pandas as pd\n",
    "import matplotlib.pyplot as plt\n",
    "import seaborn as sns\n",
    "\n",
    "# magic word for producing visualizations in notebook\n",
    "%matplotlib inline"
   ]
  },
  {
   "cell_type": "markdown",
   "metadata": {},
   "source": [
    "# DATA EXPLANATION"
   ]
  },
  {
   "cell_type": "markdown",
   "metadata": {},
   "source": [
    "There are four data files associated with this project:\n",
    "\n",
    "- `Udacity_AZDIAS_052018.csv`: Demographics data for the general population of Germany; 891 211 persons (rows) x 366 features (columns).\n",
    "- `Udacity_CUSTOMERS_052018.csv`: Demographics data for customers of a mail-order company; 191 652 persons (rows) x 369 features (columns).\n",
    "- `Udacity_MAILOUT_052018_TRAIN.csv`: Demographics data for individuals who were targets of a marketing campaign; 42 982 persons (rows) x 367 (columns).\n",
    "- `Udacity_MAILOUT_052018_TEST.csv`: Demographics data for individuals who were targets of a marketing campaign; 42 833 persons (rows) x 366 (columns).\n",
    "\n",
    "Each row of the demographics files represents a single person, but also includes information outside of individuals, including information about their household, building, and neighborhood. Use the information from the first two files to figure out how customers (\"CUSTOMERS\") are similar to or differ from the general population at large (\"AZDIAS\"), then use your analysis to make predictions on the other two files (\"MAILOUT\"), predicting which recipients are most likely to become a customer for the mail-order company.\n",
    "\n",
    "The \"CUSTOMERS\" file contains three extra columns ('CUSTOMER_GROUP', 'ONLINE_PURCHASE', and 'PRODUCT_GROUP'), which provide broad information about the customers depicted in the file. The original \"MAILOUT\" file included one additional column, \"RESPONSE\", which indicated whether or not each recipient became a customer of the company. For the \"TRAIN\" subset, this column has been retained, but in the \"TEST\" subset it has been removed; it is against that withheld column that your final predictions will be assessed in the Kaggle competition.\n",
    "\n",
    "Otherwise, all of the remaining columns are the same between the three data files. For more information about the columns depicted in the files, you can refer to two Excel spreadsheets provided in the workspace. [One of them](./DIAS Information Levels - Attributes 2017.xlsx) is a top-level list of attributes and descriptions, organized by informational category. [The other](./DIAS Attributes - Values 2017.xlsx) is a detailed mapping of data values for each feature in alphabetical order.\n",
    "\n",
    "In the below cell, we've provided some initial code to load in the first two datasets. Note for all of the `.csv` data files in this project that they're semicolon (`;`) delimited, so an additional argument in the [`read_csv()`](https://pandas.pydata.org/pandas-docs/stable/generated/pandas.read_csv.html) call has been included to read in the data properly. Also, considering the size of the datasets, it may take some time for them to load completely.\n",
    "\n",
    "You'll notice when the data is loaded in that a warning message will immediately pop up. Before you really start digging into the modeling and analysis, you're going to need to perform some cleaning. Take some time to browse the structure of the data and look over the informational spreadsheets to understand the data values. Make some decisions on which features to keep, which features to drop, and if any revisions need to be made on data formats. It'll be a good idea to create a function with pre-processing steps, since you'll need to clean all of the datasets before you work with them."
   ]
  },
  {
   "cell_type": "markdown",
   "metadata": {},
   "source": [
    "# DATA STORAGE TO S3"
   ]
  },
  {
   "cell_type": "code",
   "execution_count": 3,
   "metadata": {},
   "outputs": [],
   "source": [
    "import sagemaker\n",
    "session = sagemaker.session.Session\n",
    "bucket = 'auto-ml-exploration'"
   ]
  },
  {
   "cell_type": "code",
   "execution_count": 13,
   "metadata": {},
   "outputs": [],
   "source": [
    "s3_dataset_path = f's3://{bucket}/dataset'\n",
    "\n",
    "sagemaker.s3.S3Uploader.upload('Udacity_AZDIAS_052018.csv', s3_dataset_path)\n",
    "sagemaker.s3.S3Uploader.upload('Udacity_CUSTOMERS_052018.csv', s3_dataset_path)\n",
    "sagemaker.s3.S3Uploader.upload('Udacity_MAILOUT_052018_TEST.csv', s3_dataset_path)\n",
    "sagemaker.s3.S3Uploader.upload('Udacity_MAILOUT_052018_TRAIN.csv', s3_dataset_path)"
   ]
  },
  {
   "cell_type": "markdown",
   "metadata": {},
   "source": [
    "# DATA EXPLORATION"
   ]
  },
  {
   "cell_type": "markdown",
   "metadata": {},
   "source": [
    "## Load data partial"
   ]
  },
  {
   "cell_type": "code",
   "execution_count": 5,
   "metadata": {},
   "outputs": [
    {
     "name": "stderr",
     "output_type": "stream",
     "text": [
      "/home/ec2-user/anaconda3/envs/amazonei_mxnet_p36/lib/python3.6/site-packages/IPython/core/interactiveshell.py:2785: DtypeWarning: Columns (18,19) have mixed types. Specify dtype option on import or set low_memory=False.\n",
      "  interactivity=interactivity, compiler=compiler, result=result)\n"
     ]
    }
   ],
   "source": [
    "# load in the data, first only a few rows to get an idea\n",
    "# I had a memory issue when loading the complete file\n",
    "pop_dataset_loc = f's3://{bucket}/dataset/Udacity_AZDIAS_052018.csv'\n",
    "\n",
    "azdias_df = pd.read_csv(pop_dataset_loc, sep=';', skiprows = lambda x: x%2) # skiprows because much data... Let's see if one can convert some to categorical to reduce memory usage"
   ]
  },
  {
   "cell_type": "markdown",
   "metadata": {},
   "source": [
    "## First exploration"
   ]
  },
  {
   "cell_type": "code",
   "execution_count": 11,
   "metadata": {},
   "outputs": [
    {
     "name": "stdout",
     "output_type": "stream",
     "text": [
      "<class 'pandas.core.frame.DataFrame'>\n",
      "RangeIndex: 726424 entries, 0 to 726423\n",
      "Columns: 366 entries, LNR to ALTERSKATEGORIE_GROB\n",
      "dtypes: category(365), int64(1)\n",
      "memory usage: 261.6 MB\n"
     ]
    }
   ],
   "source": [
    "azdias_df.info()"
   ]
  },
  {
   "cell_type": "markdown",
   "metadata": {},
   "source": [
    "### Let's identify categorical columns via a heuristic to gain some memory"
   ]
  },
  {
   "cell_type": "code",
   "execution_count": 7,
   "metadata": {},
   "outputs": [],
   "source": [
    "likely_cat = {}\n",
    "for var in azdias_df.columns:\n",
    "    likely_cat[var] = 1.*azdias_df[var].nunique()/azdias_df[var].count() < 0.05 #or some other threshold"
   ]
  },
  {
   "cell_type": "code",
   "execution_count": 8,
   "metadata": {},
   "outputs": [],
   "source": [
    "cat_col = {}\n",
    "for key, value in likely_cat.items():\n",
    "    if value : \n",
    "        cat_col[key] = 'category'"
   ]
  },
  {
   "cell_type": "code",
   "execution_count": 22,
   "metadata": {},
   "outputs": [],
   "source": [
    "# read again but with categorical identified and see memory GAINZ\n",
    "azdias_df = pd.read_csv(pop_dataset_loc, sep=';', skiprows = lambda x: x%2, dtype = cat_col)\n",
    "re.search('memory', azdias_df.info())"
   ]
  },
  {
   "cell_type": "markdown",
   "metadata": {},
   "source": [
    "## Load full"
   ]
  },
  {
   "cell_type": "code",
   "execution_count": 9,
   "metadata": {},
   "outputs": [],
   "source": [
    "azdias_df = pd.read_csv(pop_dataset_loc, sep=';', dtype = cat_col)"
   ]
  },
  {
   "cell_type": "code",
   "execution_count": 10,
   "metadata": {},
   "outputs": [],
   "source": [
    "cat_col_customers = cat_col.copy()\n",
    "cat_col_customers['CUSTOMER_GROUP'] = 'category'\n",
    "cat_col_customers['ONLINE_PURCHASE'] = 'category'\n",
    "cat_col_customers['PRODUCT_GROUP'] = 'category'\n",
    "\n",
    "customers_dataset_loc = f's3://{bucket}/dataset/Udacity_CUSTOMERS_052018.csv'\n",
    "\n",
    "customers_df = pd.read_csv(customers_dataset_loc, sep=';', dtype = cat_col_customers)"
   ]
  },
  {
   "cell_type": "code",
   "execution_count": 60,
   "metadata": {},
   "outputs": [
    {
     "name": "stderr",
     "output_type": "stream",
     "text": [
      "/home/ec2-user/anaconda3/envs/amazonei_mxnet_p36/lib/python3.6/site-packages/ipykernel/__main__.py:6: FutureWarning: Sorting because non-concatenation axis is not aligned. A future version\n",
      "of pandas will change to not sort by default.\n",
      "\n",
      "To accept the future behavior, pass 'sort=False'.\n",
      "\n",
      "To retain the current behavior and silence the warning, pass 'sort=True'.\n",
      "\n"
     ]
    },
    {
     "data": {
      "image/png": "[encoded data removed]",
      "text/plain": [
       "<Figure size 432x288 with 1 Axes>"
      ]
     },
     "metadata": {},
     "output_type": "display_data"
    },
    {
     "data": {
      "image/png": "[encoded data removed]",
      "text/plain": [
       "<Figure size 432x288 with 1 Axes>"
      ]
     },
     "metadata": {},
     "output_type": "display_data"
    },
    {
     "data": {
      "image/png": "[encoded data removed]",
      "text/plain": [
       "<Figure size 432x288 with 1 Axes>"
      ]
     },
     "metadata": {},
     "output_type": "display_data"
    },
    {
     "data": {
      "image/png": "[encoded data removed]",
      "text/plain": [
       "<Figure size 432x288 with 1 Axes>"
      ]
     },
     "metadata": {},
     "output_type": "display_data"
    },
    {
     "data": {
      "image/png": "[encoded data removed]",
      "text/plain": [
       "<Figure size 432x288 with 1 Axes>"
      ]
     },
     "metadata": {},
     "output_type": "display_data"
    }
   ],
   "source": [
    "import matplotlib.pyplot as plt\n",
    "from pathlib import Path\n",
    "\n",
    "Path('img/exploration').mkdir(exist_ok=True, parents=True)\n",
    "\n",
    "concatenated = pd.concat([azdias_df.assign(dataset='azdias'), customers_df.assign(dataset='customer')])\n",
    "vof = list(cat_col.keys()) # Variable Of Interest\n",
    "for v in vof[0:5]:\n",
    "    f, ax = plt.subplots()\n",
    "    g = sns.barplot(x=v, \n",
    "                    y=\"percentage\",\n",
    "                    hue='dataset', \n",
    "                    data=concatenated.groupby(['dataset'])[v]\n",
    "                         .value_counts(normalize=True)\n",
    "                         .rename('percentage')\n",
    "                         .mul(100)\n",
    "                         .reset_index()\n",
    "                         .sort_values(v), \n",
    "                    palette=\"ch:.25\")\n",
    "    g.legend(ncol=2, loc=\"upper right\", frameon=True)\n",
    "    fig = g.get_figure()\n",
    "    fig.savefig(Path('img/exploration').joinpath('barplot_' + v))"
   ]
  },
  {
   "cell_type": "code",
   "execution_count": 33,
   "metadata": {},
   "outputs": [
    {
     "name": "stderr",
     "output_type": "stream",
     "text": [
      "/home/ec2-user/anaconda3/envs/amazonei_mxnet_p36/lib/python3.6/site-packages/ipykernel/__main__.py:3: FutureWarning: Sorting because non-concatenation axis is not aligned. A future version\n",
      "of pandas will change to not sort by default.\n",
      "\n",
      "To accept the future behavior, pass 'sort=False'.\n",
      "\n",
      "To retain the current behavior and silence the warning, pass 'sort=True'.\n",
      "\n",
      "  app.launch_new_instance()\n"
     ]
    },
    {
     "data": {
      "image/png": "[encoded data removed]",
      "text/plain": [
       "<Figure size 432x288 with 1 Axes>"
      ]
     },
     "metadata": {},
     "output_type": "display_data"
    }
   ],
   "source": [
    "from  matplotlib.ticker import PercentFormatter\n",
    "\n",
    "concatenated = pd.concat([azdias_df.assign(dataset='azdias'), customers_df.assign(dataset='customer')])\n",
    "vof = 'AKT_DAT_KL' # Variable Of Interest\n",
    "g = sns.barplot(x=vof, \n",
    "                y=\"percentage\",\n",
    "                hue='dataset', \n",
    "                data=concatenated.groupby(['dataset'])[vof]\n",
    "                     .value_counts(normalize=True)\n",
    "                     .rename('percentage')\n",
    "                     .mul(100)\n",
    "                     .reset_index()\n",
    "                     .sort_values(vof), \n",
    "                palette=\"ch:.25\")\n",
    "plt.show()"
   ]
  },
  {
   "cell_type": "code",
   "execution_count": 63,
   "metadata": {},
   "outputs": [
    {
     "name": "stdout",
     "output_type": "stream",
     "text": [
      "Index(['-1', '0', '1', '2', '3'], dtype='object')\n",
      "Index(['-1', '0', '1', '2', '3'], dtype='object')\n"
     ]
    }
   ],
   "source": [
    "print(azdias_df[column].cat.categories)\n",
    "print(customers_df[column].cat.categories)\n"
   ]
  },
  {
   "cell_type": "code",
   "execution_count": 32,
   "metadata": {},
   "outputs": [
    {
     "ename": "NameError",
     "evalue": "name 'AKT_DAT_KL' is not defined",
     "output_type": "error",
     "traceback": [
      "\u001b[0;31m---------------------------------------------------------------------------\u001b[0m",
      "\u001b[0;31mNameError\u001b[0m                                 Traceback (most recent call last)",
      "\u001b[0;32m<ipython-input-32-285fd693b73c>\u001b[0m in \u001b[0;36m<module>\u001b[0;34m()\u001b[0m\n\u001b[0;32m----> 1\u001b[0;31m \u001b[0mazdias_df\u001b[0m\u001b[0;34m[\u001b[0m\u001b[0mAKT_DAT_KL\u001b[0m\u001b[0;34m]\u001b[0m\u001b[0;34m\u001b[0m\u001b[0m\n\u001b[0m",
      "\u001b[0;31mNameError\u001b[0m: name 'AKT_DAT_KL' is not defined"
     ]
    }
   ],
   "source": [
    "azdias_df[AKT_DAT_KL]"
   ]
  },
  {
   "cell_type": "markdown",
   "metadata": {},
   "source": [
    "### Just view table data"
   ]
  },
  {
   "cell_type": "code",
   "execution_count": 3,
   "metadata": {},
   "outputs": [
    {
     "data": {
      "text/html": [
       "<div>\n",
       "<style scoped>\n",
       "    .dataframe tbody tr th:only-of-type {\n",
       "        vertical-align: middle;\n",
       "    }\n",
       "\n",
       "    .dataframe tbody tr th {\n",
       "        vertical-align: top;\n",
       "    }\n",
       "\n",
       "    .dataframe thead th {\n",
       "        text-align: right;\n",
       "    }\n",
       "</style>\n",
       "<table border=\"1\" class=\"dataframe\">\n",
       "  <thead>\n",
       "    <tr style=\"text-align: right;\">\n",
       "      <th></th>\n",
       "      <th>LNR</th>\n",
       "      <th>AGER_TYP</th>\n",
       "      <th>AKT_DAT_KL</th>\n",
       "      <th>ALTER_HH</th>\n",
       "      <th>ALTER_KIND1</th>\n",
       "      <th>ALTER_KIND2</th>\n",
       "      <th>ALTER_KIND3</th>\n",
       "      <th>ALTER_KIND4</th>\n",
       "      <th>ALTERSKATEGORIE_FEIN</th>\n",
       "      <th>ANZ_HAUSHALTE_AKTIV</th>\n",
       "      <th>...</th>\n",
       "      <th>VHN</th>\n",
       "      <th>VK_DHT4A</th>\n",
       "      <th>VK_DISTANZ</th>\n",
       "      <th>VK_ZG11</th>\n",
       "      <th>W_KEIT_KIND_HH</th>\n",
       "      <th>WOHNDAUER_2008</th>\n",
       "      <th>WOHNLAGE</th>\n",
       "      <th>ZABEOTYP</th>\n",
       "      <th>ANREDE_KZ</th>\n",
       "      <th>ALTERSKATEGORIE_GROB</th>\n",
       "    </tr>\n",
       "  </thead>\n",
       "  <tbody>\n",
       "    <tr>\n",
       "      <th>0</th>\n",
       "      <td>910215</td>\n",
       "      <td>-1</td>\n",
       "      <td>NaN</td>\n",
       "      <td>NaN</td>\n",
       "      <td>NaN</td>\n",
       "      <td>NaN</td>\n",
       "      <td>NaN</td>\n",
       "      <td>NaN</td>\n",
       "      <td>NaN</td>\n",
       "      <td>NaN</td>\n",
       "      <td>...</td>\n",
       "      <td>NaN</td>\n",
       "      <td>NaN</td>\n",
       "      <td>NaN</td>\n",
       "      <td>NaN</td>\n",
       "      <td>NaN</td>\n",
       "      <td>NaN</td>\n",
       "      <td>NaN</td>\n",
       "      <td>3</td>\n",
       "      <td>1</td>\n",
       "      <td>2</td>\n",
       "    </tr>\n",
       "    <tr>\n",
       "      <th>1</th>\n",
       "      <td>910220</td>\n",
       "      <td>-1</td>\n",
       "      <td>9.0</td>\n",
       "      <td>0.0</td>\n",
       "      <td>NaN</td>\n",
       "      <td>NaN</td>\n",
       "      <td>NaN</td>\n",
       "      <td>NaN</td>\n",
       "      <td>21.0</td>\n",
       "      <td>11.0</td>\n",
       "      <td>...</td>\n",
       "      <td>4.0</td>\n",
       "      <td>8.0</td>\n",
       "      <td>11.0</td>\n",
       "      <td>10.0</td>\n",
       "      <td>3.0</td>\n",
       "      <td>9.0</td>\n",
       "      <td>4.0</td>\n",
       "      <td>5</td>\n",
       "      <td>2</td>\n",
       "      <td>1</td>\n",
       "    </tr>\n",
       "    <tr>\n",
       "      <th>2</th>\n",
       "      <td>910225</td>\n",
       "      <td>-1</td>\n",
       "      <td>9.0</td>\n",
       "      <td>17.0</td>\n",
       "      <td>NaN</td>\n",
       "      <td>NaN</td>\n",
       "      <td>NaN</td>\n",
       "      <td>NaN</td>\n",
       "      <td>17.0</td>\n",
       "      <td>10.0</td>\n",
       "      <td>...</td>\n",
       "      <td>2.0</td>\n",
       "      <td>9.0</td>\n",
       "      <td>9.0</td>\n",
       "      <td>6.0</td>\n",
       "      <td>3.0</td>\n",
       "      <td>9.0</td>\n",
       "      <td>2.0</td>\n",
       "      <td>5</td>\n",
       "      <td>2</td>\n",
       "      <td>3</td>\n",
       "    </tr>\n",
       "    <tr>\n",
       "      <th>3</th>\n",
       "      <td>910226</td>\n",
       "      <td>2</td>\n",
       "      <td>1.0</td>\n",
       "      <td>13.0</td>\n",
       "      <td>NaN</td>\n",
       "      <td>NaN</td>\n",
       "      <td>NaN</td>\n",
       "      <td>NaN</td>\n",
       "      <td>13.0</td>\n",
       "      <td>1.0</td>\n",
       "      <td>...</td>\n",
       "      <td>0.0</td>\n",
       "      <td>7.0</td>\n",
       "      <td>10.0</td>\n",
       "      <td>11.0</td>\n",
       "      <td>NaN</td>\n",
       "      <td>9.0</td>\n",
       "      <td>7.0</td>\n",
       "      <td>3</td>\n",
       "      <td>2</td>\n",
       "      <td>4</td>\n",
       "    </tr>\n",
       "    <tr>\n",
       "      <th>4</th>\n",
       "      <td>910241</td>\n",
       "      <td>-1</td>\n",
       "      <td>1.0</td>\n",
       "      <td>20.0</td>\n",
       "      <td>NaN</td>\n",
       "      <td>NaN</td>\n",
       "      <td>NaN</td>\n",
       "      <td>NaN</td>\n",
       "      <td>14.0</td>\n",
       "      <td>3.0</td>\n",
       "      <td>...</td>\n",
       "      <td>2.0</td>\n",
       "      <td>3.0</td>\n",
       "      <td>5.0</td>\n",
       "      <td>4.0</td>\n",
       "      <td>2.0</td>\n",
       "      <td>9.0</td>\n",
       "      <td>3.0</td>\n",
       "      <td>4</td>\n",
       "      <td>1</td>\n",
       "      <td>3</td>\n",
       "    </tr>\n",
       "  </tbody>\n",
       "</table>\n",
       "<p>5 rows × 366 columns</p>\n",
       "</div>"
      ],
      "text/plain": [
       "      LNR  AGER_TYP  AKT_DAT_KL  ALTER_HH  ALTER_KIND1  ALTER_KIND2  \\\n",
       "0  910215        -1         NaN       NaN          NaN          NaN   \n",
       "1  910220        -1         9.0       0.0          NaN          NaN   \n",
       "2  910225        -1         9.0      17.0          NaN          NaN   \n",
       "3  910226         2         1.0      13.0          NaN          NaN   \n",
       "4  910241        -1         1.0      20.0          NaN          NaN   \n",
       "\n",
       "   ALTER_KIND3  ALTER_KIND4  ALTERSKATEGORIE_FEIN  ANZ_HAUSHALTE_AKTIV  ...  \\\n",
       "0          NaN          NaN                   NaN                  NaN  ...   \n",
       "1          NaN          NaN                  21.0                 11.0  ...   \n",
       "2          NaN          NaN                  17.0                 10.0  ...   \n",
       "3          NaN          NaN                  13.0                  1.0  ...   \n",
       "4          NaN          NaN                  14.0                  3.0  ...   \n",
       "\n",
       "   VHN  VK_DHT4A  VK_DISTANZ  VK_ZG11  W_KEIT_KIND_HH  WOHNDAUER_2008  \\\n",
       "0  NaN       NaN         NaN      NaN             NaN             NaN   \n",
       "1  4.0       8.0        11.0     10.0             3.0             9.0   \n",
       "2  2.0       9.0         9.0      6.0             3.0             9.0   \n",
       "3  0.0       7.0        10.0     11.0             NaN             9.0   \n",
       "4  2.0       3.0         5.0      4.0             2.0             9.0   \n",
       "\n",
       "   WOHNLAGE ZABEOTYP  ANREDE_KZ  ALTERSKATEGORIE_GROB  \n",
       "0       NaN        3          1                     2  \n",
       "1       4.0        5          2                     1  \n",
       "2       2.0        5          2                     3  \n",
       "3       7.0        3          2                     4  \n",
       "4       3.0        4          1                     3  \n",
       "\n",
       "[5 rows x 366 columns]"
      ]
     },
     "execution_count": 3,
     "metadata": {},
     "output_type": "execute_result"
    }
   ],
   "source": [
    "azdias.head()"
   ]
  },
  {
   "cell_type": "markdown",
   "metadata": {},
   "source": [
    "### list all variables names"
   ]
  },
  {
   "cell_type": "code",
   "execution_count": 4,
   "metadata": {},
   "outputs": [
    {
     "name": "stdout",
     "output_type": "stream",
     "text": [
      "general pop data contains 366 columns\n",
      "general pop data contains 369 columns\n",
      "The following columns are given : \n",
      "LNR\n",
      "AGER_TYP\n",
      "AKT_DAT_KL\n",
      "ALTER_HH\n",
      "ALTER_KIND1\n",
      "ALTER_KIND2\n",
      "ALTER_KIND3\n",
      "ALTER_KIND4\n",
      "ALTERSKATEGORIE_FEIN\n",
      "ANZ_HAUSHALTE_AKTIV\n",
      "ANZ_HH_TITEL\n",
      "ANZ_KINDER\n",
      "ANZ_PERSONEN\n",
      "ANZ_STATISTISCHE_HAUSHALTE\n",
      "ANZ_TITEL\n",
      "ARBEIT\n",
      "BALLRAUM\n",
      "CAMEO_DEU_2015\n",
      "CAMEO_DEUG_2015\n",
      "CAMEO_INTL_2015\n",
      "CJT_GESAMTTYP\n",
      "CJT_KATALOGNUTZER\n",
      "CJT_TYP_1\n",
      "CJT_TYP_2\n",
      "CJT_TYP_3\n",
      "CJT_TYP_4\n",
      "CJT_TYP_5\n",
      "CJT_TYP_6\n",
      "D19_BANKEN_ANZ_12\n",
      "D19_BANKEN_ANZ_24\n",
      "D19_BANKEN_DATUM\n",
      "D19_BANKEN_DIREKT\n",
      "D19_BANKEN_GROSS\n",
      "D19_BANKEN_LOKAL\n",
      "D19_BANKEN_OFFLINE_DATUM\n",
      "D19_BANKEN_ONLINE_DATUM\n",
      "D19_BANKEN_ONLINE_QUOTE_12\n",
      "D19_BANKEN_REST\n",
      "D19_BEKLEIDUNG_GEH\n",
      "D19_BEKLEIDUNG_REST\n",
      "D19_BILDUNG\n",
      "D19_BIO_OEKO\n",
      "D19_BUCH_CD\n",
      "D19_DIGIT_SERV\n",
      "D19_DROGERIEARTIKEL\n",
      "D19_ENERGIE\n",
      "D19_FREIZEIT\n",
      "D19_GARTEN\n",
      "D19_GESAMT_ANZ_12\n",
      "D19_GESAMT_ANZ_24\n",
      "D19_GESAMT_DATUM\n",
      "D19_GESAMT_OFFLINE_DATUM\n",
      "D19_GESAMT_ONLINE_DATUM\n",
      "D19_GESAMT_ONLINE_QUOTE_12\n",
      "D19_HANDWERK\n",
      "D19_HAUS_DEKO\n",
      "D19_KINDERARTIKEL\n",
      "D19_KONSUMTYP\n",
      "D19_KONSUMTYP_MAX\n",
      "D19_KOSMETIK\n",
      "D19_LEBENSMITTEL\n",
      "D19_LETZTER_KAUF_BRANCHE\n",
      "D19_LOTTO\n",
      "D19_NAHRUNGSERGAENZUNG\n",
      "D19_RATGEBER\n",
      "D19_REISEN\n",
      "D19_SAMMELARTIKEL\n",
      "D19_SCHUHE\n",
      "D19_SONSTIGE\n",
      "D19_SOZIALES\n",
      "D19_TECHNIK\n",
      "D19_TELKO_ANZ_12\n",
      "D19_TELKO_ANZ_24\n",
      "D19_TELKO_DATUM\n",
      "D19_TELKO_MOBILE\n",
      "D19_TELKO_OFFLINE_DATUM\n",
      "D19_TELKO_ONLINE_DATUM\n",
      "D19_TELKO_ONLINE_QUOTE_12\n",
      "D19_TELKO_REST\n",
      "D19_TIERARTIKEL\n",
      "D19_VERSAND_ANZ_12\n",
      "D19_VERSAND_ANZ_24\n",
      "D19_VERSAND_DATUM\n",
      "D19_VERSAND_OFFLINE_DATUM\n",
      "D19_VERSAND_ONLINE_DATUM\n",
      "D19_VERSAND_ONLINE_QUOTE_12\n",
      "D19_VERSAND_REST\n",
      "D19_VERSI_ANZ_12\n",
      "D19_VERSI_ANZ_24\n",
      "D19_VERSI_DATUM\n",
      "D19_VERSI_OFFLINE_DATUM\n",
      "D19_VERSI_ONLINE_DATUM\n",
      "D19_VERSI_ONLINE_QUOTE_12\n",
      "D19_VERSICHERUNGEN\n",
      "D19_VOLLSORTIMENT\n",
      "D19_WEIN_FEINKOST\n",
      "DSL_FLAG\n",
      "EINGEFUEGT_AM\n",
      "EINGEZOGENAM_HH_JAHR\n",
      "EWDICHTE\n",
      "EXTSEL992\n",
      "FINANZ_ANLEGER\n",
      "FINANZ_HAUSBAUER\n",
      "FINANZ_MINIMALIST\n",
      "FINANZ_SPARER\n",
      "FINANZ_UNAUFFAELLIGER\n",
      "FINANZ_VORSORGER\n",
      "FINANZTYP\n",
      "FIRMENDICHTE\n",
      "GEBAEUDETYP\n",
      "GEBAEUDETYP_RASTER\n",
      "GEBURTSJAHR\n",
      "GEMEINDETYP\n",
      "GFK_URLAUBERTYP\n",
      "GREEN_AVANTGARDE\n",
      "HEALTH_TYP\n",
      "HH_DELTA_FLAG\n",
      "HH_EINKOMMEN_SCORE\n",
      "INNENSTADT\n",
      "KBA05_ALTER1\n",
      "KBA05_ALTER2\n",
      "KBA05_ALTER3\n",
      "KBA05_ALTER4\n",
      "KBA05_ANHANG\n",
      "KBA05_ANTG1\n",
      "KBA05_ANTG2\n",
      "KBA05_ANTG3\n",
      "KBA05_ANTG4\n",
      "KBA05_AUTOQUOT\n",
      "KBA05_BAUMAX\n",
      "KBA05_CCM1\n",
      "KBA05_CCM2\n",
      "KBA05_CCM3\n",
      "KBA05_CCM4\n",
      "KBA05_DIESEL\n",
      "KBA05_FRAU\n",
      "KBA05_GBZ\n",
      "KBA05_HERST1\n",
      "KBA05_HERST2\n",
      "KBA05_HERST3\n",
      "KBA05_HERST4\n",
      "KBA05_HERST5\n",
      "KBA05_HERSTTEMP\n",
      "KBA05_KRSAQUOT\n",
      "KBA05_KRSHERST1\n",
      "KBA05_KRSHERST2\n",
      "KBA05_KRSHERST3\n",
      "KBA05_KRSKLEIN\n",
      "KBA05_KRSOBER\n",
      "KBA05_KRSVAN\n",
      "KBA05_KRSZUL\n",
      "KBA05_KW1\n",
      "KBA05_KW2\n",
      "KBA05_KW3\n",
      "KBA05_MAXAH\n",
      "KBA05_MAXBJ\n",
      "KBA05_MAXHERST\n",
      "KBA05_MAXSEG\n",
      "KBA05_MAXVORB\n",
      "KBA05_MOD1\n",
      "KBA05_MOD2\n",
      "KBA05_MOD3\n",
      "KBA05_MOD4\n",
      "KBA05_MOD8\n",
      "KBA05_MODTEMP\n",
      "KBA05_MOTOR\n",
      "KBA05_MOTRAD\n",
      "KBA05_SEG1\n",
      "KBA05_SEG10\n",
      "KBA05_SEG2\n",
      "KBA05_SEG3\n",
      "KBA05_SEG4\n",
      "KBA05_SEG5\n",
      "KBA05_SEG6\n",
      "KBA05_SEG7\n",
      "KBA05_SEG8\n",
      "KBA05_SEG9\n",
      "KBA05_VORB0\n",
      "KBA05_VORB1\n",
      "KBA05_VORB2\n",
      "KBA05_ZUL1\n",
      "KBA05_ZUL2\n",
      "KBA05_ZUL3\n",
      "KBA05_ZUL4\n",
      "KBA13_ALTERHALTER_30\n",
      "KBA13_ALTERHALTER_45\n",
      "KBA13_ALTERHALTER_60\n",
      "KBA13_ALTERHALTER_61\n",
      "KBA13_ANTG1\n",
      "KBA13_ANTG2\n",
      "KBA13_ANTG3\n",
      "KBA13_ANTG4\n",
      "KBA13_ANZAHL_PKW\n",
      "KBA13_AUDI\n",
      "KBA13_AUTOQUOTE\n",
      "KBA13_BAUMAX\n",
      "KBA13_BJ_1999\n",
      "KBA13_BJ_2000\n",
      "KBA13_BJ_2004\n",
      "KBA13_BJ_2006\n",
      "KBA13_BJ_2008\n",
      "KBA13_BJ_2009\n",
      "KBA13_BMW\n",
      "KBA13_CCM_0_1400\n",
      "KBA13_CCM_1000\n",
      "KBA13_CCM_1200\n",
      "KBA13_CCM_1400\n",
      "KBA13_CCM_1401_2500\n",
      "KBA13_CCM_1500\n",
      "KBA13_CCM_1600\n",
      "KBA13_CCM_1800\n",
      "KBA13_CCM_2000\n",
      "KBA13_CCM_2500\n",
      "KBA13_CCM_2501\n",
      "KBA13_CCM_3000\n",
      "KBA13_CCM_3001\n",
      "KBA13_FAB_ASIEN\n",
      "KBA13_FAB_SONSTIGE\n",
      "KBA13_FIAT\n",
      "KBA13_FORD\n",
      "KBA13_GBZ\n",
      "KBA13_HALTER_20\n",
      "KBA13_HALTER_25\n",
      "KBA13_HALTER_30\n",
      "KBA13_HALTER_35\n",
      "KBA13_HALTER_40\n",
      "KBA13_HALTER_45\n",
      "KBA13_HALTER_50\n",
      "KBA13_HALTER_55\n",
      "KBA13_HALTER_60\n",
      "KBA13_HALTER_65\n",
      "KBA13_HALTER_66\n",
      "KBA13_HERST_ASIEN\n",
      "KBA13_HERST_AUDI_VW\n",
      "KBA13_HERST_BMW_BENZ\n",
      "KBA13_HERST_EUROPA\n",
      "KBA13_HERST_FORD_OPEL\n",
      "KBA13_HERST_SONST\n",
      "KBA13_HHZ\n",
      "KBA13_KMH_0_140\n",
      "KBA13_KMH_110\n",
      "KBA13_KMH_140\n",
      "KBA13_KMH_140_210\n",
      "KBA13_KMH_180\n",
      "KBA13_KMH_210\n",
      "KBA13_KMH_211\n",
      "KBA13_KMH_250\n",
      "KBA13_KMH_251\n",
      "KBA13_KRSAQUOT\n",
      "KBA13_KRSHERST_AUDI_VW\n",
      "KBA13_KRSHERST_BMW_BENZ\n",
      "KBA13_KRSHERST_FORD_OPEL\n",
      "KBA13_KRSSEG_KLEIN\n",
      "KBA13_KRSSEG_OBER\n",
      "KBA13_KRSSEG_VAN\n",
      "KBA13_KRSZUL_NEU\n",
      "KBA13_KW_0_60\n",
      "KBA13_KW_110\n",
      "KBA13_KW_120\n",
      "KBA13_KW_121\n",
      "KBA13_KW_30\n",
      "KBA13_KW_40\n",
      "KBA13_KW_50\n",
      "KBA13_KW_60\n",
      "KBA13_KW_61_120\n",
      "KBA13_KW_70\n",
      "KBA13_KW_80\n",
      "KBA13_KW_90\n",
      "KBA13_MAZDA\n",
      "KBA13_MERCEDES\n",
      "KBA13_MOTOR\n",
      "KBA13_NISSAN\n",
      "KBA13_OPEL\n",
      "KBA13_PEUGEOT\n",
      "KBA13_RENAULT\n",
      "KBA13_SEG_GELAENDEWAGEN\n",
      "KBA13_SEG_GROSSRAUMVANS\n",
      "KBA13_SEG_KLEINST\n",
      "KBA13_SEG_KLEINWAGEN\n",
      "KBA13_SEG_KOMPAKTKLASSE\n",
      "KBA13_SEG_MINIVANS\n",
      "KBA13_SEG_MINIWAGEN\n",
      "KBA13_SEG_MITTELKLASSE\n",
      "KBA13_SEG_OBEREMITTELKLASSE\n",
      "KBA13_SEG_OBERKLASSE\n",
      "KBA13_SEG_SONSTIGE\n",
      "KBA13_SEG_SPORTWAGEN\n",
      "KBA13_SEG_UTILITIES\n",
      "KBA13_SEG_VAN\n",
      "KBA13_SEG_WOHNMOBILE\n",
      "KBA13_SITZE_4\n",
      "KBA13_SITZE_5\n",
      "KBA13_SITZE_6\n",
      "KBA13_TOYOTA\n",
      "KBA13_VORB_0\n",
      "KBA13_VORB_1\n",
      "KBA13_VORB_1_2\n",
      "KBA13_VORB_2\n",
      "KBA13_VORB_3\n",
      "KBA13_VW\n",
      "KK_KUNDENTYP\n",
      "KKK\n",
      "KOMBIALTER\n",
      "KONSUMNAEHE\n",
      "KONSUMZELLE\n",
      "LP_FAMILIE_FEIN\n",
      "LP_FAMILIE_GROB\n",
      "LP_LEBENSPHASE_FEIN\n",
      "LP_LEBENSPHASE_GROB\n",
      "LP_STATUS_FEIN\n",
      "LP_STATUS_GROB\n",
      "MIN_GEBAEUDEJAHR\n",
      "MOBI_RASTER\n",
      "MOBI_REGIO\n",
      "NATIONALITAET_KZ\n",
      "ONLINE_AFFINITAET\n",
      "ORTSGR_KLS9\n",
      "OST_WEST_KZ\n",
      "PLZ8_ANTG1\n",
      "PLZ8_ANTG2\n",
      "PLZ8_ANTG3\n",
      "PLZ8_ANTG4\n",
      "PLZ8_BAUMAX\n",
      "PLZ8_GBZ\n",
      "PLZ8_HHZ\n",
      "PRAEGENDE_JUGENDJAHRE\n",
      "REGIOTYP\n",
      "RELAT_AB\n",
      "RETOURTYP_BK_S\n",
      "RT_KEIN_ANREIZ\n",
      "RT_SCHNAEPPCHEN\n",
      "RT_UEBERGROESSE\n",
      "SEMIO_DOM\n",
      "SEMIO_ERL\n",
      "SEMIO_FAM\n",
      "SEMIO_KAEM\n",
      "SEMIO_KRIT\n",
      "SEMIO_KULT\n",
      "SEMIO_LUST\n",
      "SEMIO_MAT\n",
      "SEMIO_PFLICHT\n",
      "SEMIO_RAT\n",
      "SEMIO_REL\n",
      "SEMIO_SOZ\n",
      "SEMIO_TRADV\n",
      "SEMIO_VERT\n",
      "SHOPPER_TYP\n",
      "SOHO_KZ\n",
      "STRUKTURTYP\n",
      "TITEL_KZ\n",
      "UMFELD_ALT\n",
      "UMFELD_JUNG\n",
      "UNGLEICHENN_FLAG\n",
      "VERDICHTUNGSRAUM\n",
      "VERS_TYP\n",
      "VHA\n",
      "VHN\n",
      "VK_DHT4A\n",
      "VK_DISTANZ\n",
      "VK_ZG11\n",
      "W_KEIT_KIND_HH\n",
      "WOHNDAUER_2008\n",
      "WOHNLAGE\n",
      "ZABEOTYP\n",
      "ANREDE_KZ\n",
      "ALTERSKATEGORIE_GROB\n"
     ]
    }
   ],
   "source": [
    "print(f'general pop data contains {len(azdias.columns)} columns')\n",
    "print(f'general pop data contains {len(customers.columns)} columns')\n",
    "\n",
    "print('The following columns are given : ')\n",
    "print('\\n'.join(azdias.columns))"
   ]
  },
  {
   "cell_type": "markdown",
   "metadata": {},
   "source": [
    "Not easy to understand everything. Not easy to know which columns could be casted a categories (memory gains).\n",
    "Let's be blunt ... let's use a chunk by chunk processing"
   ]
  },
  {
   "cell_type": "markdown",
   "metadata": {},
   "source": [
    "## Load data in chunks"
   ]
  },
  {
   "cell_type": "code",
   "execution_count": 5,
   "metadata": {},
   "outputs": [],
   "source": [
    "# load in the data\n",
    "reader_azdias = pd.read_csv('Udacity_AZDIAS_052018.csv', sep=';', chunksize=100)\n",
    "azdias_ls = []\n",
    "for chunk in reader_azdias:\n",
    "    azdias_ls.append(chunk)"
   ]
  },
  {
   "cell_type": "code",
   "execution_count": 8,
   "metadata": {},
   "outputs": [
    {
     "ename": "MemoryError",
     "evalue": "",
     "output_type": "error",
     "traceback": [
      "\u001b[0;31m---------------------------------------------------------------------------\u001b[0m",
      "\u001b[0;31mMemoryError\u001b[0m                               Traceback (most recent call last)",
      "\u001b[0;32m<ipython-input-8-4c647ad3514c>\u001b[0m in \u001b[0;36m<module>\u001b[0;34m()\u001b[0m\n\u001b[0;32m----> 1\u001b[0;31m \u001b[0mazdias_df\u001b[0m \u001b[0;34m=\u001b[0m \u001b[0mpd\u001b[0m\u001b[0;34m.\u001b[0m\u001b[0mconcat\u001b[0m\u001b[0;34m(\u001b[0m\u001b[0mazdias_ls\u001b[0m\u001b[0;34m)\u001b[0m\u001b[0;34m\u001b[0m\u001b[0m\n\u001b[0m",
      "\u001b[0;32m~/anaconda3/envs/amazonei_mxnet_p36/lib/python3.6/site-packages/pandas/core/reshape/concat.py\u001b[0m in \u001b[0;36mconcat\u001b[0;34m(objs, axis, join, join_axes, ignore_index, keys, levels, names, verify_integrity, sort, copy)\u001b[0m\n\u001b[1;32m    227\u001b[0m                        \u001b[0mverify_integrity\u001b[0m\u001b[0;34m=\u001b[0m\u001b[0mverify_integrity\u001b[0m\u001b[0;34m,\u001b[0m\u001b[0;34m\u001b[0m\u001b[0m\n\u001b[1;32m    228\u001b[0m                        copy=copy, sort=sort)\n\u001b[0;32m--> 229\u001b[0;31m     \u001b[0;32mreturn\u001b[0m \u001b[0mop\u001b[0m\u001b[0;34m.\u001b[0m\u001b[0mget_result\u001b[0m\u001b[0;34m(\u001b[0m\u001b[0;34m)\u001b[0m\u001b[0;34m\u001b[0m\u001b[0m\n\u001b[0m\u001b[1;32m    230\u001b[0m \u001b[0;34m\u001b[0m\u001b[0m\n\u001b[1;32m    231\u001b[0m \u001b[0;34m\u001b[0m\u001b[0m\n",
      "\u001b[0;32m~/anaconda3/envs/amazonei_mxnet_p36/lib/python3.6/site-packages/pandas/core/reshape/concat.py\u001b[0m in \u001b[0;36mget_result\u001b[0;34m(self)\u001b[0m\n\u001b[1;32m    424\u001b[0m             new_data = concatenate_block_managers(\n\u001b[1;32m    425\u001b[0m                 \u001b[0mmgrs_indexers\u001b[0m\u001b[0;34m,\u001b[0m \u001b[0mself\u001b[0m\u001b[0;34m.\u001b[0m\u001b[0mnew_axes\u001b[0m\u001b[0;34m,\u001b[0m \u001b[0mconcat_axis\u001b[0m\u001b[0;34m=\u001b[0m\u001b[0mself\u001b[0m\u001b[0;34m.\u001b[0m\u001b[0maxis\u001b[0m\u001b[0;34m,\u001b[0m\u001b[0;34m\u001b[0m\u001b[0m\n\u001b[0;32m--> 426\u001b[0;31m                 copy=self.copy)\n\u001b[0m\u001b[1;32m    427\u001b[0m             \u001b[0;32mif\u001b[0m \u001b[0;32mnot\u001b[0m \u001b[0mself\u001b[0m\u001b[0;34m.\u001b[0m\u001b[0mcopy\u001b[0m\u001b[0;34m:\u001b[0m\u001b[0;34m\u001b[0m\u001b[0m\n\u001b[1;32m    428\u001b[0m                 \u001b[0mnew_data\u001b[0m\u001b[0;34m.\u001b[0m\u001b[0m_consolidate_inplace\u001b[0m\u001b[0;34m(\u001b[0m\u001b[0;34m)\u001b[0m\u001b[0;34m\u001b[0m\u001b[0m\n",
      "\u001b[0;32m~/anaconda3/envs/amazonei_mxnet_p36/lib/python3.6/site-packages/pandas/core/internals/managers.py\u001b[0m in \u001b[0;36mconcatenate_block_managers\u001b[0;34m(mgrs_indexers, axes, concat_axis, copy)\u001b[0m\n\u001b[1;32m   2059\u001b[0m         \u001b[0;32melse\u001b[0m\u001b[0;34m:\u001b[0m\u001b[0;34m\u001b[0m\u001b[0m\n\u001b[1;32m   2060\u001b[0m             b = make_block(\n\u001b[0;32m-> 2061\u001b[0;31m                 \u001b[0mconcatenate_join_units\u001b[0m\u001b[0;34m(\u001b[0m\u001b[0mjoin_units\u001b[0m\u001b[0;34m,\u001b[0m \u001b[0mconcat_axis\u001b[0m\u001b[0;34m,\u001b[0m \u001b[0mcopy\u001b[0m\u001b[0;34m=\u001b[0m\u001b[0mcopy\u001b[0m\u001b[0;34m)\u001b[0m\u001b[0;34m,\u001b[0m\u001b[0;34m\u001b[0m\u001b[0m\n\u001b[0m\u001b[1;32m   2062\u001b[0m                 placement=placement)\n\u001b[1;32m   2063\u001b[0m         \u001b[0mblocks\u001b[0m\u001b[0;34m.\u001b[0m\u001b[0mappend\u001b[0m\u001b[0;34m(\u001b[0m\u001b[0mb\u001b[0m\u001b[0;34m)\u001b[0m\u001b[0;34m\u001b[0m\u001b[0m\n",
      "\u001b[0;32m~/anaconda3/envs/amazonei_mxnet_p36/lib/python3.6/site-packages/pandas/core/internals/concat.py\u001b[0m in \u001b[0;36mconcatenate_join_units\u001b[0;34m(join_units, concat_axis, copy)\u001b[0m\n\u001b[1;32m    254\u001b[0m                 \u001b[0mconcat_values\u001b[0m \u001b[0;34m=\u001b[0m \u001b[0mconcat_values\u001b[0m\u001b[0;34m.\u001b[0m\u001b[0mcopy\u001b[0m\u001b[0;34m(\u001b[0m\u001b[0;34m)\u001b[0m\u001b[0;34m\u001b[0m\u001b[0m\n\u001b[1;32m    255\u001b[0m     \u001b[0;32melse\u001b[0m\u001b[0;34m:\u001b[0m\u001b[0;34m\u001b[0m\u001b[0m\n\u001b[0;32m--> 256\u001b[0;31m         \u001b[0mconcat_values\u001b[0m \u001b[0;34m=\u001b[0m \u001b[0m_concat\u001b[0m\u001b[0;34m.\u001b[0m\u001b[0m_concat_compat\u001b[0m\u001b[0;34m(\u001b[0m\u001b[0mto_concat\u001b[0m\u001b[0;34m,\u001b[0m \u001b[0maxis\u001b[0m\u001b[0;34m=\u001b[0m\u001b[0mconcat_axis\u001b[0m\u001b[0;34m)\u001b[0m\u001b[0;34m\u001b[0m\u001b[0m\n\u001b[0m\u001b[1;32m    257\u001b[0m \u001b[0;34m\u001b[0m\u001b[0m\n\u001b[1;32m    258\u001b[0m     \u001b[0;32mreturn\u001b[0m \u001b[0mconcat_values\u001b[0m\u001b[0;34m\u001b[0m\u001b[0m\n",
      "\u001b[0;32m~/anaconda3/envs/amazonei_mxnet_p36/lib/python3.6/site-packages/pandas/core/dtypes/concat.py\u001b[0m in \u001b[0;36m_concat_compat\u001b[0;34m(to_concat, axis)\u001b[0m\n\u001b[1;32m    168\u001b[0m                 \u001b[0mto_concat\u001b[0m \u001b[0;34m=\u001b[0m \u001b[0;34m[\u001b[0m\u001b[0mx\u001b[0m\u001b[0;34m.\u001b[0m\u001b[0mastype\u001b[0m\u001b[0;34m(\u001b[0m\u001b[0;34m'object'\u001b[0m\u001b[0;34m)\u001b[0m \u001b[0;32mfor\u001b[0m \u001b[0mx\u001b[0m \u001b[0;32min\u001b[0m \u001b[0mto_concat\u001b[0m\u001b[0;34m]\u001b[0m\u001b[0;34m\u001b[0m\u001b[0m\n\u001b[1;32m    169\u001b[0m \u001b[0;34m\u001b[0m\u001b[0m\n\u001b[0;32m--> 170\u001b[0;31m     \u001b[0;32mreturn\u001b[0m \u001b[0mnp\u001b[0m\u001b[0;34m.\u001b[0m\u001b[0mconcatenate\u001b[0m\u001b[0;34m(\u001b[0m\u001b[0mto_concat\u001b[0m\u001b[0;34m,\u001b[0m \u001b[0maxis\u001b[0m\u001b[0;34m=\u001b[0m\u001b[0maxis\u001b[0m\u001b[0;34m)\u001b[0m\u001b[0;34m\u001b[0m\u001b[0m\n\u001b[0m\u001b[1;32m    171\u001b[0m \u001b[0;34m\u001b[0m\u001b[0m\n\u001b[1;32m    172\u001b[0m \u001b[0;34m\u001b[0m\u001b[0m\n",
      "\u001b[0;31mMemoryError\u001b[0m: "
     ]
    }
   ],
   "source": [
    "azdias_df = pd.concat(azdias_ls)"
   ]
  },
  {
   "cell_type": "code",
   "execution_count": null,
   "metadata": {},
   "outputs": [],
   "source": [
    "azdias_ls = None"
   ]
  },
  {
   "cell_type": "code",
   "execution_count": null,
   "metadata": {},
   "outputs": [],
   "source": [
    "customers = pd.read_csv('Udacity_CUSTOMERS_052018.csv', sep=';')"
   ]
  },
  {
   "cell_type": "markdown",
   "metadata": {},
   "source": [
    "## Part 1: Customer Segmentation Report\n",
    "\n",
    "The main bulk of your analysis will come in this part of the project. Here, you should use unsupervised learning techniques to describe the relationship between the demographics of the company's existing customers and the general population of Germany. By the end of this part, you should be able to describe parts of the general population that are more likely to be part of the mail-order company's main customer base, and which parts of the general population are less so."
   ]
  },
  {
   "cell_type": "code",
   "execution_count": null,
   "metadata": {},
   "outputs": [],
   "source": []
  },
  {
   "cell_type": "markdown",
   "metadata": {},
   "source": [
    "## Part 2: Supervised Learning Model\n",
    "\n",
    "Now that you've found which parts of the population are more likely to be customers of the mail-order company, it's time to build a prediction model. Each of the rows in the \"MAILOUT\" data files represents an individual that was targeted for a mailout campaign. Ideally, we should be able to use the demographic information from each individual to decide whether or not it will be worth it to include that person in the campaign.\n",
    "\n",
    "The \"MAILOUT\" data has been split into two approximately equal parts, each with almost 43 000 data rows. In this part, you can verify your model with the \"TRAIN\" partition, which includes a column, \"RESPONSE\", that states whether or not a person became a customer of the company following the campaign. In the next part, you'll need to create predictions on the \"TEST\" partition, where the \"RESPONSE\" column has been withheld."
   ]
  },
  {
   "cell_type": "code",
   "execution_count": null,
   "metadata": {},
   "outputs": [],
   "source": [
    "mailout_train = pd.read_csv('../../data/Term2/capstone/arvato_data/Udacity_MAILOUT_052018_TRAIN.csv', sep=';')"
   ]
  },
  {
   "cell_type": "code",
   "execution_count": null,
   "metadata": {},
   "outputs": [],
   "source": []
  },
  {
   "cell_type": "markdown",
   "metadata": {},
   "source": [
    "## Part 3: Kaggle Competition\n",
    "\n",
    "Now that you've created a model to predict which individuals are most likely to respond to a mailout campaign, it's time to test that model in competition through Kaggle. If you click on the link [here](http://www.kaggle.com/t/21e6d45d4c574c7fa2d868f0e8c83140), you'll be taken to the competition page where, if you have a Kaggle account, you can enter. If you're one of the top performers, you may have the chance to be contacted by a hiring manager from Arvato or Bertelsmann for an interview!\n",
    "\n",
    "Your entry to the competition should be a CSV file with two columns. The first column should be a copy of \"LNR\", which acts as an ID number for each individual in the \"TEST\" partition. The second column, \"RESPONSE\", should be some measure of how likely each individual became a customer – this might not be a straightforward probability. As you should have found in Part 2, there is a large output class imbalance, where most individuals did not respond to the mailout. Thus, predicting individual classes and using accuracy does not seem to be an appropriate performance evaluation method. Instead, the competition will be using AUC to evaluate performance. The exact values of the \"RESPONSE\" column do not matter as much: only that the higher values try to capture as many of the actual customers as possible, early in the ROC curve sweep."
   ]
  },
  {
   "cell_type": "code",
   "execution_count": null,
   "metadata": {},
   "outputs": [],
   "source": [
    "mailout_test = pd.read_csv('../../data/Term2/capstone/arvato_data/Udacity_MAILOUT_052018_TEST.csv', sep=';')"
   ]
  },
  {
   "cell_type": "code",
   "execution_count": null,
   "metadata": {},
   "outputs": [],
   "source": []
  }
 ],
 "metadata": {
  "kernelspec": {
   "display_name": "conda_amazonei_mxnet_p36",
   "language": "python",
   "name": "conda_amazonei_mxnet_p36"
  },
  "language_info": {
   "codemirror_mode": {
    "name": "ipython",
    "version": 3
   },
   "file_extension": ".py",
   "mimetype": "text/x-python",
   "name": "python",
   "nbconvert_exporter": "python",
   "pygments_lexer": "ipython3",
   "version": "3.6.5"
  }
 },
 "nbformat": 4,
 "nbformat_minor": 2
}
