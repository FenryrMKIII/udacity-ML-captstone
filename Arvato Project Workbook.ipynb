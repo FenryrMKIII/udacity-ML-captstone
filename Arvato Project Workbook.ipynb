{
 "cells": [
  {
   "cell_type": "markdown",
   "metadata": {},
   "source": [
    "# IMPORT"
   ]
  },
  {
   "cell_type": "code",
   "execution_count": 1,
   "metadata": {
    "scrolled": false
   },
   "outputs": [
    {
     "name": "stdout",
     "output_type": "stream",
     "text": [
      "Collecting seaborn==0.10.1\n",
      "\u001b[?25l  Downloading https://files.pythonhosted.org/packages/c7/e6/54aaaafd0b87f51dfba92ba73da94151aa3bc179e5fe88fc5dfb3038e860/seaborn-0.10.1-py3-none-any.whl (215kB)\n",
      "\u001b[K    100% |████████████████████████████████| 225kB 13.5MB/s ta 0:00:01\n",
      "\u001b[?25hRequirement already satisfied: scipy>=1.0.1 in /home/ec2-user/anaconda3/envs/amazonei_mxnet_p36/lib/python3.6/site-packages (from seaborn==0.10.1) (1.1.0)\n",
      "Requirement already satisfied: matplotlib>=2.1.2 in /home/ec2-user/anaconda3/envs/amazonei_mxnet_p36/lib/python3.6/site-packages (from seaborn==0.10.1) (3.0.3)\n",
      "Requirement already satisfied: pandas>=0.22.0 in /home/ec2-user/anaconda3/envs/amazonei_mxnet_p36/lib/python3.6/site-packages (from seaborn==0.10.1) (0.24.2)\n",
      "Requirement already satisfied: numpy>=1.13.3 in /home/ec2-user/anaconda3/envs/amazonei_mxnet_p36/lib/python3.6/site-packages (from seaborn==0.10.1) (1.14.6)\n",
      "Requirement already satisfied: pyparsing!=2.0.4,!=2.1.2,!=2.1.6,>=2.0.1 in /home/ec2-user/anaconda3/envs/amazonei_mxnet_p36/lib/python3.6/site-packages (from matplotlib>=2.1.2->seaborn==0.10.1) (2.2.0)\n",
      "Requirement already satisfied: python-dateutil>=2.1 in /home/ec2-user/anaconda3/envs/amazonei_mxnet_p36/lib/python3.6/site-packages (from matplotlib>=2.1.2->seaborn==0.10.1) (2.7.3)\n",
      "Requirement already satisfied: kiwisolver>=1.0.1 in /home/ec2-user/anaconda3/envs/amazonei_mxnet_p36/lib/python3.6/site-packages (from matplotlib>=2.1.2->seaborn==0.10.1) (1.0.1)\n",
      "Requirement already satisfied: cycler>=0.10 in /home/ec2-user/anaconda3/envs/amazonei_mxnet_p36/lib/python3.6/site-packages (from matplotlib>=2.1.2->seaborn==0.10.1) (0.10.0)\n",
      "Requirement already satisfied: pytz>=2011k in /home/ec2-user/anaconda3/envs/amazonei_mxnet_p36/lib/python3.6/site-packages (from pandas>=0.22.0->seaborn==0.10.1) (2018.4)\n",
      "Requirement already satisfied: six>=1.5 in /home/ec2-user/anaconda3/envs/amazonei_mxnet_p36/lib/python3.6/site-packages (from python-dateutil>=2.1->matplotlib>=2.1.2->seaborn==0.10.1) (1.11.0)\n",
      "Requirement already satisfied: setuptools in /home/ec2-user/anaconda3/envs/amazonei_mxnet_p36/lib/python3.6/site-packages (from kiwisolver>=1.0.1->matplotlib>=2.1.2->seaborn==0.10.1) (39.1.0)\n",
      "Installing collected packages: seaborn\n",
      "  Found existing installation: seaborn 0.8.1\n",
      "    Uninstalling seaborn-0.8.1:\n",
      "      Successfully uninstalled seaborn-0.8.1\n",
      "Successfully installed seaborn-0.10.1\n",
      "\u001b[33mYou are using pip version 10.0.1, however version 20.2b1 is available.\n",
      "You should consider upgrading via the 'pip install --upgrade pip' command.\u001b[0m\n",
      "Collecting scikit-learn\n",
      "\u001b[?25l  Downloading https://files.pythonhosted.org/packages/d9/3a/eb8d7bbe28f4787d140bb9df685b7d5bf6115c0e2a969def4027144e98b6/scikit_learn-0.23.1-cp36-cp36m-manylinux1_x86_64.whl (6.8MB)\n",
      "\u001b[K    100% |████████████████████████████████| 6.9MB 7.0MB/s eta 0:00:01\n",
      "\u001b[?25hRequirement not upgraded as not directly required: numpy>=1.13.3 in /home/ec2-user/anaconda3/envs/amazonei_mxnet_p36/lib/python3.6/site-packages (from scikit-learn) (1.14.6)\n",
      "Collecting threadpoolctl>=2.0.0 (from scikit-learn)\n",
      "  Downloading https://files.pythonhosted.org/packages/f7/12/ec3f2e203afa394a149911729357aa48affc59c20e2c1c8297a60f33f133/threadpoolctl-2.1.0-py3-none-any.whl\n",
      "Collecting joblib>=0.11 (from scikit-learn)\n",
      "\u001b[?25l  Downloading https://files.pythonhosted.org/packages/b8/a6/d1a816b89aa1e9e96bcb298eb1ee1854f21662ebc6d55ffa3d7b3b50122b/joblib-0.15.1-py3-none-any.whl (298kB)\n",
      "\u001b[K    100% |████████████████████████████████| 307kB 39.8MB/s ta 0:00:01\n",
      "\u001b[?25hRequirement not upgraded as not directly required: scipy>=0.19.1 in /home/ec2-user/anaconda3/envs/amazonei_mxnet_p36/lib/python3.6/site-packages (from scikit-learn) (1.1.0)\n",
      "Installing collected packages: threadpoolctl, joblib, scikit-learn\n",
      "  Found existing installation: scikit-learn 0.20.3\n",
      "    Uninstalling scikit-learn-0.20.3:\n",
      "      Successfully uninstalled scikit-learn-0.20.3\n",
      "Successfully installed joblib-0.15.1 scikit-learn-0.23.1 threadpoolctl-2.1.0\n",
      "\u001b[33mYou are using pip version 10.0.1, however version 20.2b1 is available.\n",
      "You should consider upgrading via the 'pip install --upgrade pip' command.\u001b[0m\n"
     ]
    }
   ],
   "source": [
    "!pip install seaborn==0.10.1\n",
    "!pip install -U scikit-learn"
   ]
  },
  {
   "cell_type": "code",
   "execution_count": 2,
   "metadata": {
    "scrolled": false
   },
   "outputs": [],
   "source": [
    "# import libraries here; add more as necessary\n",
    "import numpy as np\n",
    "import pandas as pd\n",
    "import matplotlib.pyplot as plt\n",
    "import seaborn as sns\n",
    "import gc\n",
    "import psutil\n",
    "import re\n",
    "\n",
    "# magic word for producing visualizations in notebook\n",
    "%matplotlib inline"
   ]
  },
  {
   "cell_type": "markdown",
   "metadata": {},
   "source": [
    "# CUSTOM FUNCTIONS"
   ]
  },
  {
   "cell_type": "code",
   "execution_count": 3,
   "metadata": {
    "scrolled": true
   },
   "outputs": [],
   "source": [
    "def remove_high_corr(corr, threshold, output_high_corr=False):\n",
    "    \"\"\"\n",
    "    Only  keep one element from a chain of highly (> threshold) correlated elements\n",
    "    \n",
    "    Parameters:\n",
    "    -----------\n",
    "    corr (pandas.DataFrame) : the correlation matrix\n",
    "    threshold (float) : the threshold above which a high correlation is considered between elements\n",
    "    \n",
    "    Returns:\n",
    "    --------\n",
    "    if not output_high_corr:\n",
    "    (main_elements, correlated_elements) (tuple) : a tuple containing two lists featuring respectively the main elements (to be kept)\n",
    "                                                   and the correlated elements with the main elements (to be discarded)\n",
    "    if output_high_corr:\n",
    "    (-, -, high_corr) : same as above + high_corr which provides a dictionnary providing pairs of highly correlated variables \n",
    "    \n",
    "    \"\"\"\n",
    "    \n",
    "    indices = np.where(corr > threshold)\n",
    "    high_corr = {corr.index[x] : corr.columns[y] for x, y in zip(*indices)\n",
    "                                        if x != y and x < y}\n",
    "    main_elements = []\n",
    "    correlated_elements = []\n",
    "    \n",
    "    for key in high_corr.keys():\n",
    "        if (key not in main_elements) and (key not in correlated_elements):\n",
    "            main_elements.append(key)\n",
    "            correlated_elements.append(high_corr[key])\n",
    "        elif key in correlated_elements:\n",
    "            correlated_elements.append(high_corr[key])\n",
    "        else:\n",
    "            continue\n",
    "    \n",
    "    if not output_high_corr:\n",
    "        return (main_elements, correlated_elements)\n",
    "    else:\n",
    "        return (main_elements, correlated_elements, high_corr)\n",
    "        "
   ]
  },
  {
   "cell_type": "code",
   "execution_count": 4,
   "metadata": {
    "scrolled": true
   },
   "outputs": [],
   "source": [
    "def drop_full_empty_row(df, df_name=None):\n",
    "    \"\"\"\n",
    "    Drop completely empty rows from  a dataframe\n",
    "    \n",
    "    Parameters:\n",
    "    -----------\n",
    "    df (pandas.DataFrame) : DataFrame to be processed\n",
    "    df_name (str) : a human-understandble name of the dataframe for messaging about operations\n",
    "    \n",
    "    Returns:\n",
    "    --------\n",
    "    None\n",
    "    \"\"\"\n",
    "    if not df_name:\n",
    "        df_name = \"DataFrame\"\n",
    "        \n",
    "    print(f'Before deletion of full empty rows, we have {len(df)} samples in {df_name} data')\n",
    "    df.dropna(axis=0, how='all')\n",
    "    print(f'After deletion of full empty rows, we have {len(df)} samples in {df_name} data')   \n"
   ]
  },
  {
   "cell_type": "code",
   "execution_count": 5,
   "metadata": {
    "scrolled": true
   },
   "outputs": [],
   "source": [
    "def remove_insignificant_columns(df, thresh = 0.8):\n",
    "    \"\"\"\n",
    "    Removes columns where NaN counts / total values exceed thresh\n",
    "    \n",
    "    Parameters:\n",
    "    -----------\n",
    "    df (pandas.DataFrame) : DataFrame to be processed\n",
    "    thresh (float) : threshold for deleting columns\n",
    "    \n",
    "    Returns:\n",
    "    --------\n",
    "    list of removed columns\n",
    "    \n",
    "    \"\"\"\n",
    "    removed_col = []\n",
    "    \n",
    "    total_count  = df.shape[0]\n",
    "    \n",
    "    for col in df.columns:\n",
    "        nan_count = df[col].isna().sum()\n",
    "        if nan_count/total_count > thresh:\n",
    "            df.drop(col, axis=1, inplace=True)\n",
    "            print(f'column {col} has been dropped')\n",
    "            removed_col.append(col)\n",
    "    \n",
    "    return removed_col"
   ]
  },
  {
   "cell_type": "code",
   "execution_count": 6,
   "metadata": {
    "scrolled": true
   },
   "outputs": [],
   "source": [
    "def make_replacement(df, replacement):\n",
    "    \"\"\"\n",
    "    replace values in a dataframe according to a dictionnary\n",
    "    \n",
    "    Parameters:\n",
    "    -----------\n",
    "    df (pandas.DataFrame) : the dataframe on which replacements must be made\n",
    "    replace (dict) : a dictionnary whose keys are (some) of the columns of df and whose values are dictionnaries \n",
    "                     providing {value_to_be_replaced : value_to_replace}\n",
    "                     \n",
    "    Returns:\n",
    "    --------\n",
    "    None\n",
    "    \n",
    "    \n",
    "    \"\"\"\n",
    "    for col in df.columns[1:]:\n",
    "        if col in replacements.keys():\n",
    "            df.loc[:,col].replace(replacements[col])"
   ]
  },
  {
   "cell_type": "code",
   "execution_count": 7,
   "metadata": {
    "scrolled": true
   },
   "outputs": [],
   "source": [
    "def fill_na_presc(df, nan_fill):\n",
    "    \"\"\"\n",
    "    fill NaN values of df with prescription of nan_fill\n",
    "    \n",
    "    Parameters:\n",
    "    -----------\n",
    "    df (pandas.DataFrame) : Dataframe on which NaN will be replaced\n",
    "    nan_fill (pandas.DaTaframe) : DataFrame providing the rules for NaN replacement\n",
    "    \n",
    "    Returns:\n",
    "    --------\n",
    "    None\n",
    "    \n",
    "    Remarks:\n",
    "    --------\n",
    "    nan_fill shall have its index corresponding to columns in df in which one desires to replace NaN values\n",
    "    NaN values in df get found via .isna() of pandas\n",
    "    nan_fill.loc[col, \"Value\"] shall provide the replacement value for NaN found in column col of df\n",
    "    ! first column of df is skipped\n",
    "    ! TODO : make it generic and parameterized\n",
    "\n",
    "    \"\"\"\n",
    "    for col in df.columns[1:] :# skip first column which is an ID, not an attribute\n",
    "        if col in nan_fill.index:\n",
    "            try:\n",
    "                df.loc[df[col].isna()==True, col] = nan_fill.loc[col, \"Value\"]\n",
    "            except Exception as e:\n",
    "                if \"Cannot setitem\" in str(e):\n",
    "                    # if no unknown category yet in that column, add the value to the categories\n",
    "                    df[col].cat.set_categories(np.hstack((df[col].cat.categories.values,\n",
    "                                     nan_fill.loc[col, \"Value\"])), inplace=True)\n",
    "                    df.loc[df[col].isna()==True, col] = nan_fill.loc[col, \"Value\"]\n",
    "                else:\n",
    "                    print(e)"
   ]
  },
  {
   "cell_type": "code",
   "execution_count": 27,
   "metadata": {
    "scrolled": true
   },
   "outputs": [],
   "source": [
    "def df_to_numeric(df):\n",
    "    column_not_converted = []\n",
    "    for col in df.columns:\n",
    "        try:\n",
    "            df[col] = pd.to_numeric(df[col], errors='raise')\n",
    "        except Exception as e:\n",
    "            print(f'column {col} could not be converted to numeric')\n",
    "            column_not_converted.append(col)\n",
    "    return column_not_converted"
   ]
  },
  {
   "cell_type": "code",
   "execution_count": 28,
   "metadata": {
    "scrolled": true
   },
   "outputs": [],
   "source": [
    "def get_non_numeric(df):\n",
    "    non_numeric = []\n",
    "    for col in df.columns:\n",
    "        if df[col].dtype not in (np.float64, np.int64):\n",
    "            non_numeric.append(col)\n",
    "    return non_numeric"
   ]
  },
  {
   "cell_type": "markdown",
   "metadata": {},
   "source": [
    "# DATA STORAGE TO S3"
   ]
  },
  {
   "cell_type": "code",
   "execution_count": 10,
   "metadata": {
    "scrolled": false
   },
   "outputs": [],
   "source": [
    "import sagemaker\n",
    "session = sagemaker.session.Session\n",
    "bucket = 'auto-ml-exploration'"
   ]
  },
  {
   "cell_type": "code",
   "execution_count": 13,
   "metadata": {
    "scrolled": false
   },
   "outputs": [],
   "source": [
    "s3_dataset_path = f's3://{bucket}/dataset'\n",
    "\n",
    "sagemaker.s3.S3Uploader.upload('Udacity_AZDIAS_052018.csv', s3_dataset_path)\n",
    "sagemaker.s3.S3Uploader.upload('Udacity_CUSTOMERS_052018.csv', s3_dataset_path)\n",
    "sagemaker.s3.S3Uploader.upload('Udacity_MAILOUT_052018_TEST.csv', s3_dataset_path)\n",
    "sagemaker.s3.S3Uploader.upload('Udacity_MAILOUT_052018_TRAIN.csv', s3_dataset_path)"
   ]
  },
  {
   "cell_type": "markdown",
   "metadata": {},
   "source": [
    "# LOAD DATA PARTIAL"
   ]
  },
  {
   "cell_type": "code",
   "execution_count": 15,
   "metadata": {
    "scrolled": false
   },
   "outputs": [
    {
     "name": "stderr",
     "output_type": "stream",
     "text": [
      "/home/ec2-user/anaconda3/envs/amazonei_mxnet_p36/lib/python3.6/site-packages/IPython/core/interactiveshell.py:2785: DtypeWarning: Columns (18,19) have mixed types. Specify dtype option on import or set low_memory=False.\n",
      "  interactivity=interactivity, compiler=compiler, result=result)\n"
     ]
    }
   ],
   "source": [
    "# data location on S3\n",
    "pop_dataset_loc = f's3://{bucket}/dataset/Udacity_AZDIAS_052018.csv'\n",
    "customers_dataset_loc = f's3://{bucket}/dataset/Udacity_CUSTOMERS_052018.csv'\n",
    "\n",
    "# partial loading\n",
    "# load in the data, first only a few rows to get an idea\n",
    "# I had a memory issue when loading the complete file\n",
    "# 1 every 2 rows\n",
    "pop_df_partial = pd.read_csv(pop_dataset_loc, sep=';', skiprows = lambda x: x%2) # skiprows because much data... Let's see if one can convert some to categorical to reduce memory usage\n",
    "customers_df_partial = pd.read_csv(customers_dataset_loc, sep=';', skiprows = lambda x: x%2)\n",
    "\n",
    "# Store columns names\n",
    "customers_categories = customers_df_partial.columns\n",
    "pop_categories = pop_df_partial.columns"
   ]
  },
  {
   "cell_type": "markdown",
   "metadata": {},
   "source": [
    "# DATA EXPLORATION - Non Visual"
   ]
  },
  {
   "cell_type": "code",
   "execution_count": 6,
   "metadata": {
    "scrolled": false
   },
   "outputs": [
    {
     "data": {
      "text/html": [
       "<div>\n",
       "<style scoped>\n",
       "    .dataframe tbody tr th:only-of-type {\n",
       "        vertical-align: middle;\n",
       "    }\n",
       "\n",
       "    .dataframe tbody tr th {\n",
       "        vertical-align: top;\n",
       "    }\n",
       "\n",
       "    .dataframe thead th {\n",
       "        text-align: right;\n",
       "    }\n",
       "</style>\n",
       "<table border=\"1\" class=\"dataframe\">\n",
       "  <thead>\n",
       "    <tr style=\"text-align: right;\">\n",
       "      <th></th>\n",
       "      <th>LNR</th>\n",
       "      <th>AGER_TYP</th>\n",
       "      <th>AKT_DAT_KL</th>\n",
       "      <th>ALTER_HH</th>\n",
       "      <th>ALTER_KIND1</th>\n",
       "      <th>ALTER_KIND2</th>\n",
       "      <th>ALTER_KIND3</th>\n",
       "      <th>ALTER_KIND4</th>\n",
       "      <th>ALTERSKATEGORIE_FEIN</th>\n",
       "      <th>ANZ_HAUSHALTE_AKTIV</th>\n",
       "      <th>...</th>\n",
       "      <th>VHN</th>\n",
       "      <th>VK_DHT4A</th>\n",
       "      <th>VK_DISTANZ</th>\n",
       "      <th>VK_ZG11</th>\n",
       "      <th>W_KEIT_KIND_HH</th>\n",
       "      <th>WOHNDAUER_2008</th>\n",
       "      <th>WOHNLAGE</th>\n",
       "      <th>ZABEOTYP</th>\n",
       "      <th>ANREDE_KZ</th>\n",
       "      <th>ALTERSKATEGORIE_GROB</th>\n",
       "    </tr>\n",
       "  </thead>\n",
       "  <tbody>\n",
       "    <tr>\n",
       "      <th>0</th>\n",
       "      <td>910220</td>\n",
       "      <td>-1</td>\n",
       "      <td>9.0</td>\n",
       "      <td>0.0</td>\n",
       "      <td>NaN</td>\n",
       "      <td>NaN</td>\n",
       "      <td>NaN</td>\n",
       "      <td>NaN</td>\n",
       "      <td>21.0</td>\n",
       "      <td>11.0</td>\n",
       "      <td>...</td>\n",
       "      <td>4.0</td>\n",
       "      <td>8.0</td>\n",
       "      <td>11.0</td>\n",
       "      <td>10.0</td>\n",
       "      <td>3.0</td>\n",
       "      <td>9.0</td>\n",
       "      <td>4.0</td>\n",
       "      <td>5.0</td>\n",
       "      <td>2.0</td>\n",
       "      <td>1.0</td>\n",
       "    </tr>\n",
       "    <tr>\n",
       "      <th>1</th>\n",
       "      <td>910226</td>\n",
       "      <td>2</td>\n",
       "      <td>1.0</td>\n",
       "      <td>13.0</td>\n",
       "      <td>NaN</td>\n",
       "      <td>NaN</td>\n",
       "      <td>NaN</td>\n",
       "      <td>NaN</td>\n",
       "      <td>13.0</td>\n",
       "      <td>1.0</td>\n",
       "      <td>...</td>\n",
       "      <td>0.0</td>\n",
       "      <td>7.0</td>\n",
       "      <td>10.0</td>\n",
       "      <td>11.0</td>\n",
       "      <td>NaN</td>\n",
       "      <td>9.0</td>\n",
       "      <td>7.0</td>\n",
       "      <td>3.0</td>\n",
       "      <td>2.0</td>\n",
       "      <td>4.0</td>\n",
       "    </tr>\n",
       "    <tr>\n",
       "      <th>2</th>\n",
       "      <td>910244</td>\n",
       "      <td>3</td>\n",
       "      <td>1.0</td>\n",
       "      <td>10.0</td>\n",
       "      <td>NaN</td>\n",
       "      <td>NaN</td>\n",
       "      <td>NaN</td>\n",
       "      <td>NaN</td>\n",
       "      <td>10.0</td>\n",
       "      <td>5.0</td>\n",
       "      <td>...</td>\n",
       "      <td>2.0</td>\n",
       "      <td>10.0</td>\n",
       "      <td>7.0</td>\n",
       "      <td>4.0</td>\n",
       "      <td>6.0</td>\n",
       "      <td>9.0</td>\n",
       "      <td>7.0</td>\n",
       "      <td>4.0</td>\n",
       "      <td>2.0</td>\n",
       "      <td>1.0</td>\n",
       "    </tr>\n",
       "    <tr>\n",
       "      <th>3</th>\n",
       "      <td>910261</td>\n",
       "      <td>-1</td>\n",
       "      <td>1.0</td>\n",
       "      <td>14.0</td>\n",
       "      <td>NaN</td>\n",
       "      <td>NaN</td>\n",
       "      <td>NaN</td>\n",
       "      <td>NaN</td>\n",
       "      <td>14.0</td>\n",
       "      <td>6.0</td>\n",
       "      <td>...</td>\n",
       "      <td>2.0</td>\n",
       "      <td>10.0</td>\n",
       "      <td>12.0</td>\n",
       "      <td>9.0</td>\n",
       "      <td>5.0</td>\n",
       "      <td>9.0</td>\n",
       "      <td>1.0</td>\n",
       "      <td>1.0</td>\n",
       "      <td>1.0</td>\n",
       "      <td>1.0</td>\n",
       "    </tr>\n",
       "    <tr>\n",
       "      <th>4</th>\n",
       "      <td>645153</td>\n",
       "      <td>-1</td>\n",
       "      <td>5.0</td>\n",
       "      <td>17.0</td>\n",
       "      <td>NaN</td>\n",
       "      <td>NaN</td>\n",
       "      <td>NaN</td>\n",
       "      <td>NaN</td>\n",
       "      <td>17.0</td>\n",
       "      <td>9.0</td>\n",
       "      <td>...</td>\n",
       "      <td>4.0</td>\n",
       "      <td>1.0</td>\n",
       "      <td>1.0</td>\n",
       "      <td>1.0</td>\n",
       "      <td>4.0</td>\n",
       "      <td>3.0</td>\n",
       "      <td>7.0</td>\n",
       "      <td>4.0</td>\n",
       "      <td>2.0</td>\n",
       "      <td>3.0</td>\n",
       "    </tr>\n",
       "  </tbody>\n",
       "</table>\n",
       "<p>5 rows × 366 columns</p>\n",
       "</div>"
      ],
      "text/plain": [
       "      LNR  AGER_TYP  AKT_DAT_KL  ALTER_HH  ALTER_KIND1  ALTER_KIND2  \\\n",
       "0  910220        -1         9.0       0.0          NaN          NaN   \n",
       "1  910226         2         1.0      13.0          NaN          NaN   \n",
       "2  910244         3         1.0      10.0          NaN          NaN   \n",
       "3  910261        -1         1.0      14.0          NaN          NaN   \n",
       "4  645153        -1         5.0      17.0          NaN          NaN   \n",
       "\n",
       "   ALTER_KIND3  ALTER_KIND4  ALTERSKATEGORIE_FEIN  ANZ_HAUSHALTE_AKTIV  ...  \\\n",
       "0          NaN          NaN                  21.0                 11.0  ...   \n",
       "1          NaN          NaN                  13.0                  1.0  ...   \n",
       "2          NaN          NaN                  10.0                  5.0  ...   \n",
       "3          NaN          NaN                  14.0                  6.0  ...   \n",
       "4          NaN          NaN                  17.0                  9.0  ...   \n",
       "\n",
       "   VHN  VK_DHT4A  VK_DISTANZ  VK_ZG11  W_KEIT_KIND_HH  WOHNDAUER_2008  \\\n",
       "0  4.0       8.0        11.0     10.0             3.0             9.0   \n",
       "1  0.0       7.0        10.0     11.0             NaN             9.0   \n",
       "2  2.0      10.0         7.0      4.0             6.0             9.0   \n",
       "3  2.0      10.0        12.0      9.0             5.0             9.0   \n",
       "4  4.0       1.0         1.0      1.0             4.0             3.0   \n",
       "\n",
       "   WOHNLAGE ZABEOTYP ANREDE_KZ ALTERSKATEGORIE_GROB  \n",
       "0       4.0      5.0       2.0                  1.0  \n",
       "1       7.0      3.0       2.0                  4.0  \n",
       "2       7.0      4.0       2.0                  1.0  \n",
       "3       1.0      1.0       1.0                  1.0  \n",
       "4       7.0      4.0       2.0                  3.0  \n",
       "\n",
       "[5 rows x 366 columns]"
      ]
     },
     "execution_count": 6,
     "metadata": {},
     "output_type": "execute_result"
    }
   ],
   "source": [
    "pop_df_partial.head()"
   ]
  },
  {
   "cell_type": "markdown",
   "metadata": {},
   "source": [
    "## Display info"
   ]
  },
  {
   "cell_type": "code",
   "execution_count": 7,
   "metadata": {
    "scrolled": true
   },
   "outputs": [
    {
     "name": "stdout",
     "output_type": "stream",
     "text": [
      "<class 'pandas.core.frame.DataFrame'>\n",
      "RangeIndex: 363212 entries, 0 to 363211\n",
      "Columns: 366 entries, LNR to ALTERSKATEGORIE_GROB\n",
      "dtypes: float64(289), int64(71), object(6)\n",
      "memory usage: 1014.2+ MB\n"
     ]
    }
   ],
   "source": [
    "pop_df_partial.info()"
   ]
  },
  {
   "cell_type": "code",
   "execution_count": 137,
   "metadata": {},
   "outputs": [
    {
     "ename": "TypeError",
     "evalue": "remove_high_corr() missing 1 required positional argument: 'threshold'",
     "output_type": "error",
     "traceback": [
      "\u001b[0;31m---------------------------------------------------------------------------\u001b[0m",
      "\u001b[0;31mTypeError\u001b[0m                                 Traceback (most recent call last)",
      "\u001b[0;32m<ipython-input-137-74e420049d83>\u001b[0m in \u001b[0;36m<module>\u001b[0;34m()\u001b[0m\n\u001b[1;32m      1\u001b[0m \u001b[0mcorr\u001b[0m \u001b[0;34m=\u001b[0m \u001b[0mpop_df_partial\u001b[0m\u001b[0;34m.\u001b[0m\u001b[0mcorr\u001b[0m\u001b[0;34m(\u001b[0m\u001b[0;34m)\u001b[0m\u001b[0;34m\u001b[0m\u001b[0m\n\u001b[0;32m----> 2\u001b[0;31m \u001b[0;34m(\u001b[0m\u001b[0mmain_elements\u001b[0m\u001b[0;34m,\u001b[0m \u001b[0mcorrelated_elements\u001b[0m\u001b[0;34m)\u001b[0m \u001b[0;34m=\u001b[0m \u001b[0mremove_high_corr\u001b[0m\u001b[0;34m(\u001b[0m\u001b[0mcorr\u001b[0m\u001b[0;34m)\u001b[0m\u001b[0;34m\u001b[0m\u001b[0m\n\u001b[0m",
      "\u001b[0;31mTypeError\u001b[0m: remove_high_corr() missing 1 required positional argument: 'threshold'"
     ]
    }
   ],
   "source": [
    "corr = pop_df_partial.corr()\n",
    "(main_elements, correlated_elements) = remove_high_corr(corr, 0.7)"
   ]
  },
  {
   "cell_type": "code",
   "execution_count": 139,
   "metadata": {},
   "outputs": [
    {
     "data": {
      "text/plain": [
       "['ALTER_KIND2',\n",
       " 'ALTER_KIND3',\n",
       " 'ALTER_KIND4',\n",
       " 'PRAEGENDE_JUGENDJAHRE',\n",
       " 'ANZ_STATISTISCHE_HAUSHALTE',\n",
       " 'LP_LEBENSPHASE_GROB',\n",
       " 'FINANZ_SPARER',\n",
       " 'FINANZ_SPARER',\n",
       " 'CJT_TYP_5',\n",
       " 'CJT_TYP_5',\n",
       " 'D19_BANKEN_ONLINE_QUOTE_12',\n",
       " 'D19_BANKEN_ONLINE_DATUM',\n",
       " 'D19_VERSAND_ANZ_24',\n",
       " 'ONLINE_AFFINITAET',\n",
       " 'VK_DHT4A',\n",
       " 'D19_VERSAND_OFFLINE_DATUM',\n",
       " 'D19_VERSAND_ONLINE_DATUM',\n",
       " 'D19_VERSAND_ONLINE_QUOTE_12',\n",
       " 'D19_VERSAND_DATUM',\n",
       " 'D19_VERSAND_ONLINE_DATUM',\n",
       " 'D19_TELKO_ANZ_24',\n",
       " 'D19_VERSAND_ONLINE_QUOTE_12',\n",
       " 'D19_VERSAND_ONLINE_QUOTE_12',\n",
       " 'D19_VERSAND_ONLINE_DATUM',\n",
       " 'D19_VERSI_ANZ_24',\n",
       " 'STRUKTURTYP',\n",
       " 'FINANZ_SPARER',\n",
       " 'LP_STATUS_GROB',\n",
       " 'FINANZ_UNAUFFAELLIGER',\n",
       " 'GEBAEUDETYP_RASTER',\n",
       " 'VERS_TYP',\n",
       " 'KBA05_MAXAH',\n",
       " 'KBA05_SEG6',\n",
       " 'MOBI_REGIO',\n",
       " 'KBA05_KRSAQUOT',\n",
       " 'KBA05_SEG2',\n",
       " 'KBA05_MOTOR',\n",
       " 'KBA05_SEG6',\n",
       " 'MOBI_REGIO',\n",
       " 'KBA05_KRSHERST1',\n",
       " 'KBA05_KRSHERST2',\n",
       " 'KBA05_KRSHERST3',\n",
       " 'KBA05_SEG6',\n",
       " 'KBA05_SEG6',\n",
       " 'KBA05_SEG9',\n",
       " 'KBA05_ZUL4',\n",
       " 'KBA05_SEG2',\n",
       " 'KBA05_SEG5',\n",
       " 'KBA05_SEG6',\n",
       " 'KBA05_SEG6',\n",
       " 'KBA05_SEG5',\n",
       " 'KBA05_SEG4',\n",
       " 'KBA05_SEG3',\n",
       " 'KBA05_SEG2',\n",
       " 'KBA05_SEG9',\n",
       " 'KBA05_SEG6',\n",
       " 'KBA05_SEG6',\n",
       " 'KBA05_SEG6',\n",
       " 'KBA05_SEG9',\n",
       " 'KBA05_SEG6',\n",
       " 'KBA05_SEG9',\n",
       " 'KBA13_HALTER_30',\n",
       " 'KBA13_HALTER_40',\n",
       " 'KBA13_HALTER_55',\n",
       " 'KBA13_HALTER_66',\n",
       " 'PLZ8_ANTG1',\n",
       " 'PLZ8_ANTG2',\n",
       " 'PLZ8_ANTG4',\n",
       " 'PLZ8_BAUMAX',\n",
       " 'PLZ8_HHZ',\n",
       " 'PLZ8_BAUMAX',\n",
       " 'KBA13_VORB_2',\n",
       " 'KBA13_VORB_1',\n",
       " 'KBA13_HERST_BMW_BENZ',\n",
       " 'KBA13_HERST_SONST',\n",
       " 'PLZ8_GBZ',\n",
       " 'KBA13_HALTER_35',\n",
       " 'KBA13_VW',\n",
       " 'KBA13_MERCEDES',\n",
       " 'KBA13_OPEL',\n",
       " 'PLZ8_HHZ',\n",
       " 'KBA13_KMH_140',\n",
       " 'KBA13_KW_30',\n",
       " 'KBA13_KMH_250',\n",
       " 'KBA13_SEG_VAN',\n",
       " 'KBA13_SEG_VAN',\n",
       " 'KBA13_SEG_KLEINWAGEN',\n",
       " 'KBA13_SEG_VAN',\n",
       " 'REGIOTYP',\n",
       " 'LP_LEBENSPHASE_GROB',\n",
       " 'LP_LEBENSPHASE_GROB',\n",
       " 'LP_LEBENSPHASE_GROB',\n",
       " 'LP_STATUS_GROB',\n",
       " 'MOBI_REGIO',\n",
       " 'PLZ8_ANTG4',\n",
       " 'PLZ8_BAUMAX',\n",
       " 'SEMIO_KAEM',\n",
       " 'ANREDE_KZ',\n",
       " 'VK_DISTANZ',\n",
       " 'VK_ZG11']"
      ]
     },
     "execution_count": 139,
     "metadata": {},
     "output_type": "execute_result"
    }
   ],
   "source": [
    "correlated_elements"
   ]
  },
  {
   "cell_type": "code",
   "execution_count": 11,
   "metadata": {
    "scrolled": false
   },
   "outputs": [
    {
     "data": {
      "text/html": [
       "<div>\n",
       "<style scoped>\n",
       "    .dataframe tbody tr th:only-of-type {\n",
       "        vertical-align: middle;\n",
       "    }\n",
       "\n",
       "    .dataframe tbody tr th {\n",
       "        vertical-align: top;\n",
       "    }\n",
       "\n",
       "    .dataframe thead th {\n",
       "        text-align: right;\n",
       "    }\n",
       "</style>\n",
       "<table border=\"1\" class=\"dataframe\">\n",
       "  <thead>\n",
       "    <tr style=\"text-align: right;\">\n",
       "      <th></th>\n",
       "      <th>CAMEO_DEU_2015</th>\n",
       "      <th>CAMEO_DEUG_2015</th>\n",
       "      <th>CAMEO_INTL_2015</th>\n",
       "      <th>D19_LETZTER_KAUF_BRANCHE</th>\n",
       "      <th>EINGEFUEGT_AM</th>\n",
       "      <th>OST_WEST_KZ</th>\n",
       "    </tr>\n",
       "  </thead>\n",
       "  <tbody>\n",
       "    <tr>\n",
       "      <th>0</th>\n",
       "      <td>8A</td>\n",
       "      <td>8</td>\n",
       "      <td>51</td>\n",
       "      <td>NaN</td>\n",
       "      <td>1992-02-10 00:00:00</td>\n",
       "      <td>W</td>\n",
       "    </tr>\n",
       "    <tr>\n",
       "      <th>1</th>\n",
       "      <td>2A</td>\n",
       "      <td>2</td>\n",
       "      <td>12</td>\n",
       "      <td>D19_UNBEKANNT</td>\n",
       "      <td>1997-04-21 00:00:00</td>\n",
       "      <td>W</td>\n",
       "    </tr>\n",
       "    <tr>\n",
       "      <th>2</th>\n",
       "      <td>8C</td>\n",
       "      <td>8</td>\n",
       "      <td>54</td>\n",
       "      <td>D19_ENERGIE</td>\n",
       "      <td>1992-02-12 00:00:00</td>\n",
       "      <td>W</td>\n",
       "    </tr>\n",
       "    <tr>\n",
       "      <th>3</th>\n",
       "      <td>2D</td>\n",
       "      <td>2</td>\n",
       "      <td>14</td>\n",
       "      <td>D19_UNBEKANNT</td>\n",
       "      <td>1992-02-10 00:00:00</td>\n",
       "      <td>W</td>\n",
       "    </tr>\n",
       "    <tr>\n",
       "      <th>4</th>\n",
       "      <td>1E</td>\n",
       "      <td>1</td>\n",
       "      <td>15</td>\n",
       "      <td>D19_KOSMETIK</td>\n",
       "      <td>1992-02-10 00:00:00</td>\n",
       "      <td>W</td>\n",
       "    </tr>\n",
       "    <tr>\n",
       "      <th>5</th>\n",
       "      <td>NaN</td>\n",
       "      <td>NaN</td>\n",
       "      <td>NaN</td>\n",
       "      <td>NaN</td>\n",
       "      <td>NaN</td>\n",
       "      <td>NaN</td>\n",
       "    </tr>\n",
       "    <tr>\n",
       "      <th>6</th>\n",
       "      <td>5C</td>\n",
       "      <td>5</td>\n",
       "      <td>33</td>\n",
       "      <td>D19_VOLLSORTIMENT</td>\n",
       "      <td>2009-01-19 00:00:00</td>\n",
       "      <td>W</td>\n",
       "    </tr>\n",
       "    <tr>\n",
       "      <th>7</th>\n",
       "      <td>8B</td>\n",
       "      <td>8</td>\n",
       "      <td>41</td>\n",
       "      <td>D19_UNBEKANNT</td>\n",
       "      <td>1992-02-12 00:00:00</td>\n",
       "      <td>W</td>\n",
       "    </tr>\n",
       "    <tr>\n",
       "      <th>8</th>\n",
       "      <td>NaN</td>\n",
       "      <td>NaN</td>\n",
       "      <td>NaN</td>\n",
       "      <td>NaN</td>\n",
       "      <td>NaN</td>\n",
       "      <td>NaN</td>\n",
       "    </tr>\n",
       "    <tr>\n",
       "      <th>9</th>\n",
       "      <td>5D</td>\n",
       "      <td>5</td>\n",
       "      <td>34</td>\n",
       "      <td>NaN</td>\n",
       "      <td>1992-02-12 00:00:00</td>\n",
       "      <td>W</td>\n",
       "    </tr>\n",
       "    <tr>\n",
       "      <th>10</th>\n",
       "      <td>9E</td>\n",
       "      <td>9</td>\n",
       "      <td>55</td>\n",
       "      <td>NaN</td>\n",
       "      <td>1992-02-12 00:00:00</td>\n",
       "      <td>W</td>\n",
       "    </tr>\n",
       "    <tr>\n",
       "      <th>11</th>\n",
       "      <td>6B</td>\n",
       "      <td>6</td>\n",
       "      <td>43</td>\n",
       "      <td>D19_BANKEN_GROSS</td>\n",
       "      <td>1992-02-12 00:00:00</td>\n",
       "      <td>W</td>\n",
       "    </tr>\n",
       "    <tr>\n",
       "      <th>12</th>\n",
       "      <td>5C</td>\n",
       "      <td>5</td>\n",
       "      <td>33</td>\n",
       "      <td>D19_UNBEKANNT</td>\n",
       "      <td>1992-02-12 00:00:00</td>\n",
       "      <td>W</td>\n",
       "    </tr>\n",
       "    <tr>\n",
       "      <th>13</th>\n",
       "      <td>9B</td>\n",
       "      <td>9</td>\n",
       "      <td>51</td>\n",
       "      <td>D19_SCHUHE</td>\n",
       "      <td>1996-05-09 00:00:00</td>\n",
       "      <td>W</td>\n",
       "    </tr>\n",
       "    <tr>\n",
       "      <th>14</th>\n",
       "      <td>2A</td>\n",
       "      <td>2</td>\n",
       "      <td>12</td>\n",
       "      <td>D19_BANKEN_GROSS</td>\n",
       "      <td>2005-04-12 00:00:00</td>\n",
       "      <td>W</td>\n",
       "    </tr>\n",
       "    <tr>\n",
       "      <th>15</th>\n",
       "      <td>9D</td>\n",
       "      <td>9</td>\n",
       "      <td>51</td>\n",
       "      <td>D19_UNBEKANNT</td>\n",
       "      <td>1992-02-10 00:00:00</td>\n",
       "      <td>W</td>\n",
       "    </tr>\n",
       "    <tr>\n",
       "      <th>16</th>\n",
       "      <td>8B</td>\n",
       "      <td>8</td>\n",
       "      <td>41</td>\n",
       "      <td>D19_BANKEN_GROSS</td>\n",
       "      <td>1992-02-10 00:00:00</td>\n",
       "      <td>W</td>\n",
       "    </tr>\n",
       "    <tr>\n",
       "      <th>17</th>\n",
       "      <td>NaN</td>\n",
       "      <td>NaN</td>\n",
       "      <td>NaN</td>\n",
       "      <td>NaN</td>\n",
       "      <td>NaN</td>\n",
       "      <td>NaN</td>\n",
       "    </tr>\n",
       "    <tr>\n",
       "      <th>18</th>\n",
       "      <td>4C</td>\n",
       "      <td>4</td>\n",
       "      <td>24</td>\n",
       "      <td>D19_UNBEKANNT</td>\n",
       "      <td>1992-02-12 00:00:00</td>\n",
       "      <td>W</td>\n",
       "    </tr>\n",
       "    <tr>\n",
       "      <th>19</th>\n",
       "      <td>NaN</td>\n",
       "      <td>NaN</td>\n",
       "      <td>NaN</td>\n",
       "      <td>D19_VOLLSORTIMENT</td>\n",
       "      <td>2004-10-14 00:00:00</td>\n",
       "      <td>W</td>\n",
       "    </tr>\n",
       "    <tr>\n",
       "      <th>20</th>\n",
       "      <td>4E</td>\n",
       "      <td>4</td>\n",
       "      <td>25</td>\n",
       "      <td>D19_DROGERIEARTIKEL</td>\n",
       "      <td>1992-02-10 00:00:00</td>\n",
       "      <td>W</td>\n",
       "    </tr>\n",
       "    <tr>\n",
       "      <th>21</th>\n",
       "      <td>4E</td>\n",
       "      <td>4</td>\n",
       "      <td>25</td>\n",
       "      <td>D19_BUCH_CD</td>\n",
       "      <td>1992-02-12 00:00:00</td>\n",
       "      <td>W</td>\n",
       "    </tr>\n",
       "    <tr>\n",
       "      <th>22</th>\n",
       "      <td>7A</td>\n",
       "      <td>7</td>\n",
       "      <td>41</td>\n",
       "      <td>D19_VERSICHERUNGEN</td>\n",
       "      <td>1996-10-30 00:00:00</td>\n",
       "      <td>W</td>\n",
       "    </tr>\n",
       "    <tr>\n",
       "      <th>23</th>\n",
       "      <td>3D</td>\n",
       "      <td>3</td>\n",
       "      <td>25</td>\n",
       "      <td>D19_UNBEKANNT</td>\n",
       "      <td>1992-02-10 00:00:00</td>\n",
       "      <td>W</td>\n",
       "    </tr>\n",
       "    <tr>\n",
       "      <th>24</th>\n",
       "      <td>6B</td>\n",
       "      <td>6</td>\n",
       "      <td>43</td>\n",
       "      <td>NaN</td>\n",
       "      <td>1992-02-12 00:00:00</td>\n",
       "      <td>W</td>\n",
       "    </tr>\n",
       "    <tr>\n",
       "      <th>25</th>\n",
       "      <td>5A</td>\n",
       "      <td>5</td>\n",
       "      <td>31</td>\n",
       "      <td>D19_VERSAND_REST</td>\n",
       "      <td>1992-02-10 00:00:00</td>\n",
       "      <td>W</td>\n",
       "    </tr>\n",
       "    <tr>\n",
       "      <th>26</th>\n",
       "      <td>NaN</td>\n",
       "      <td>NaN</td>\n",
       "      <td>NaN</td>\n",
       "      <td>NaN</td>\n",
       "      <td>NaN</td>\n",
       "      <td>NaN</td>\n",
       "    </tr>\n",
       "    <tr>\n",
       "      <th>27</th>\n",
       "      <td>9B</td>\n",
       "      <td>9</td>\n",
       "      <td>51</td>\n",
       "      <td>NaN</td>\n",
       "      <td>1992-02-10 00:00:00</td>\n",
       "      <td>W</td>\n",
       "    </tr>\n",
       "    <tr>\n",
       "      <th>28</th>\n",
       "      <td>7A</td>\n",
       "      <td>7</td>\n",
       "      <td>41</td>\n",
       "      <td>D19_TELKO_REST</td>\n",
       "      <td>2000-05-10 00:00:00</td>\n",
       "      <td>W</td>\n",
       "    </tr>\n",
       "    <tr>\n",
       "      <th>29</th>\n",
       "      <td>7A</td>\n",
       "      <td>7</td>\n",
       "      <td>41</td>\n",
       "      <td>D19_UNBEKANNT</td>\n",
       "      <td>1992-02-10 00:00:00</td>\n",
       "      <td>W</td>\n",
       "    </tr>\n",
       "    <tr>\n",
       "      <th>...</th>\n",
       "      <td>...</td>\n",
       "      <td>...</td>\n",
       "      <td>...</td>\n",
       "      <td>...</td>\n",
       "      <td>...</td>\n",
       "      <td>...</td>\n",
       "    </tr>\n",
       "    <tr>\n",
       "      <th>363182</th>\n",
       "      <td>6B</td>\n",
       "      <td>6</td>\n",
       "      <td>43</td>\n",
       "      <td>D19_UNBEKANNT</td>\n",
       "      <td>1995-07-05 00:00:00</td>\n",
       "      <td>O</td>\n",
       "    </tr>\n",
       "    <tr>\n",
       "      <th>363183</th>\n",
       "      <td>9A</td>\n",
       "      <td>9</td>\n",
       "      <td>52</td>\n",
       "      <td>NaN</td>\n",
       "      <td>1993-04-01 00:00:00</td>\n",
       "      <td>O</td>\n",
       "    </tr>\n",
       "    <tr>\n",
       "      <th>363184</th>\n",
       "      <td>6D</td>\n",
       "      <td>6</td>\n",
       "      <td>35</td>\n",
       "      <td>D19_UNBEKANNT</td>\n",
       "      <td>1992-02-10 00:00:00</td>\n",
       "      <td>O</td>\n",
       "    </tr>\n",
       "    <tr>\n",
       "      <th>363185</th>\n",
       "      <td>8B</td>\n",
       "      <td>8</td>\n",
       "      <td>41</td>\n",
       "      <td>D19_HAUS_DEKO</td>\n",
       "      <td>1992-02-10 00:00:00</td>\n",
       "      <td>O</td>\n",
       "    </tr>\n",
       "    <tr>\n",
       "      <th>363186</th>\n",
       "      <td>NaN</td>\n",
       "      <td>NaN</td>\n",
       "      <td>NaN</td>\n",
       "      <td>NaN</td>\n",
       "      <td>NaN</td>\n",
       "      <td>NaN</td>\n",
       "    </tr>\n",
       "    <tr>\n",
       "      <th>363187</th>\n",
       "      <td>NaN</td>\n",
       "      <td>NaN</td>\n",
       "      <td>NaN</td>\n",
       "      <td>D19_BANKEN_DIREKT</td>\n",
       "      <td>NaN</td>\n",
       "      <td>NaN</td>\n",
       "    </tr>\n",
       "    <tr>\n",
       "      <th>363188</th>\n",
       "      <td>3D</td>\n",
       "      <td>3</td>\n",
       "      <td>25</td>\n",
       "      <td>D19_VERSICHERUNGEN</td>\n",
       "      <td>1993-09-21 00:00:00</td>\n",
       "      <td>O</td>\n",
       "    </tr>\n",
       "    <tr>\n",
       "      <th>363189</th>\n",
       "      <td>9C</td>\n",
       "      <td>9</td>\n",
       "      <td>51</td>\n",
       "      <td>NaN</td>\n",
       "      <td>1992-02-10 00:00:00</td>\n",
       "      <td>O</td>\n",
       "    </tr>\n",
       "    <tr>\n",
       "      <th>363190</th>\n",
       "      <td>9D</td>\n",
       "      <td>9</td>\n",
       "      <td>51</td>\n",
       "      <td>NaN</td>\n",
       "      <td>1992-02-10 00:00:00</td>\n",
       "      <td>O</td>\n",
       "    </tr>\n",
       "    <tr>\n",
       "      <th>363191</th>\n",
       "      <td>6E</td>\n",
       "      <td>6</td>\n",
       "      <td>45</td>\n",
       "      <td>D19_TELKO_REST</td>\n",
       "      <td>1992-02-10 00:00:00</td>\n",
       "      <td>O</td>\n",
       "    </tr>\n",
       "    <tr>\n",
       "      <th>363192</th>\n",
       "      <td>8B</td>\n",
       "      <td>8</td>\n",
       "      <td>41</td>\n",
       "      <td>D19_VERSAND_REST</td>\n",
       "      <td>1992-02-10 00:00:00</td>\n",
       "      <td>O</td>\n",
       "    </tr>\n",
       "    <tr>\n",
       "      <th>363193</th>\n",
       "      <td>6A</td>\n",
       "      <td>6</td>\n",
       "      <td>31</td>\n",
       "      <td>D19_VOLLSORTIMENT</td>\n",
       "      <td>1995-06-21 00:00:00</td>\n",
       "      <td>O</td>\n",
       "    </tr>\n",
       "    <tr>\n",
       "      <th>363194</th>\n",
       "      <td>6B</td>\n",
       "      <td>6</td>\n",
       "      <td>43</td>\n",
       "      <td>D19_ENERGIE</td>\n",
       "      <td>1992-02-10 00:00:00</td>\n",
       "      <td>O</td>\n",
       "    </tr>\n",
       "    <tr>\n",
       "      <th>363195</th>\n",
       "      <td>3C</td>\n",
       "      <td>3</td>\n",
       "      <td>24</td>\n",
       "      <td>D19_UNBEKANNT</td>\n",
       "      <td>1992-02-10 00:00:00</td>\n",
       "      <td>W</td>\n",
       "    </tr>\n",
       "    <tr>\n",
       "      <th>363196</th>\n",
       "      <td>2A</td>\n",
       "      <td>2</td>\n",
       "      <td>12</td>\n",
       "      <td>D19_VOLLSORTIMENT</td>\n",
       "      <td>1992-02-10 00:00:00</td>\n",
       "      <td>W</td>\n",
       "    </tr>\n",
       "    <tr>\n",
       "      <th>363197</th>\n",
       "      <td>NaN</td>\n",
       "      <td>NaN</td>\n",
       "      <td>NaN</td>\n",
       "      <td>NaN</td>\n",
       "      <td>NaN</td>\n",
       "      <td>NaN</td>\n",
       "    </tr>\n",
       "    <tr>\n",
       "      <th>363198</th>\n",
       "      <td>8B</td>\n",
       "      <td>8</td>\n",
       "      <td>41</td>\n",
       "      <td>NaN</td>\n",
       "      <td>1992-02-10 00:00:00</td>\n",
       "      <td>W</td>\n",
       "    </tr>\n",
       "    <tr>\n",
       "      <th>363199</th>\n",
       "      <td>8B</td>\n",
       "      <td>8</td>\n",
       "      <td>41</td>\n",
       "      <td>D19_UNBEKANNT</td>\n",
       "      <td>1996-03-07 00:00:00</td>\n",
       "      <td>W</td>\n",
       "    </tr>\n",
       "    <tr>\n",
       "      <th>363200</th>\n",
       "      <td>8C</td>\n",
       "      <td>8</td>\n",
       "      <td>54</td>\n",
       "      <td>D19_UNBEKANNT</td>\n",
       "      <td>1994-06-14 00:00:00</td>\n",
       "      <td>O</td>\n",
       "    </tr>\n",
       "    <tr>\n",
       "      <th>363201</th>\n",
       "      <td>4C</td>\n",
       "      <td>4</td>\n",
       "      <td>24</td>\n",
       "      <td>D19_SONSTIGE</td>\n",
       "      <td>1994-02-17 00:00:00</td>\n",
       "      <td>O</td>\n",
       "    </tr>\n",
       "    <tr>\n",
       "      <th>363202</th>\n",
       "      <td>NaN</td>\n",
       "      <td>NaN</td>\n",
       "      <td>NaN</td>\n",
       "      <td>NaN</td>\n",
       "      <td>NaN</td>\n",
       "      <td>NaN</td>\n",
       "    </tr>\n",
       "    <tr>\n",
       "      <th>363203</th>\n",
       "      <td>3C</td>\n",
       "      <td>3</td>\n",
       "      <td>24</td>\n",
       "      <td>D19_UNBEKANNT</td>\n",
       "      <td>1992-02-10 00:00:00</td>\n",
       "      <td>W</td>\n",
       "    </tr>\n",
       "    <tr>\n",
       "      <th>363204</th>\n",
       "      <td>NaN</td>\n",
       "      <td>NaN</td>\n",
       "      <td>NaN</td>\n",
       "      <td>D19_BANKEN_GROSS</td>\n",
       "      <td>NaN</td>\n",
       "      <td>NaN</td>\n",
       "    </tr>\n",
       "    <tr>\n",
       "      <th>363205</th>\n",
       "      <td>2D</td>\n",
       "      <td>2</td>\n",
       "      <td>14</td>\n",
       "      <td>NaN</td>\n",
       "      <td>1992-02-12 00:00:00</td>\n",
       "      <td>W</td>\n",
       "    </tr>\n",
       "    <tr>\n",
       "      <th>363206</th>\n",
       "      <td>8A</td>\n",
       "      <td>8</td>\n",
       "      <td>51</td>\n",
       "      <td>D19_SONSTIGE</td>\n",
       "      <td>1992-02-12 00:00:00</td>\n",
       "      <td>W</td>\n",
       "    </tr>\n",
       "    <tr>\n",
       "      <th>363207</th>\n",
       "      <td>1A</td>\n",
       "      <td>1</td>\n",
       "      <td>13</td>\n",
       "      <td>D19_VERSAND_REST</td>\n",
       "      <td>1992-02-10 00:00:00</td>\n",
       "      <td>W</td>\n",
       "    </tr>\n",
       "    <tr>\n",
       "      <th>363208</th>\n",
       "      <td>8B</td>\n",
       "      <td>8</td>\n",
       "      <td>41</td>\n",
       "      <td>D19_BANKEN_DIREKT</td>\n",
       "      <td>1992-02-12 00:00:00</td>\n",
       "      <td>W</td>\n",
       "    </tr>\n",
       "    <tr>\n",
       "      <th>363209</th>\n",
       "      <td>9A</td>\n",
       "      <td>9</td>\n",
       "      <td>52</td>\n",
       "      <td>D19_UNBEKANNT</td>\n",
       "      <td>2005-04-15 00:00:00</td>\n",
       "      <td>W</td>\n",
       "    </tr>\n",
       "    <tr>\n",
       "      <th>363210</th>\n",
       "      <td>6B</td>\n",
       "      <td>6</td>\n",
       "      <td>43</td>\n",
       "      <td>NaN</td>\n",
       "      <td>1992-02-10 00:00:00</td>\n",
       "      <td>W</td>\n",
       "    </tr>\n",
       "    <tr>\n",
       "      <th>363211</th>\n",
       "      <td>8A</td>\n",
       "      <td>8</td>\n",
       "      <td>51</td>\n",
       "      <td>D19_UNBEKANNT</td>\n",
       "      <td>1992-02-10 00:00:00</td>\n",
       "      <td>NaN</td>\n",
       "    </tr>\n",
       "  </tbody>\n",
       "</table>\n",
       "<p>363212 rows × 6 columns</p>\n",
       "</div>"
      ],
      "text/plain": [
       "       CAMEO_DEU_2015 CAMEO_DEUG_2015 CAMEO_INTL_2015  \\\n",
       "0                  8A               8              51   \n",
       "1                  2A               2              12   \n",
       "2                  8C               8              54   \n",
       "3                  2D               2              14   \n",
       "4                  1E               1              15   \n",
       "5                 NaN             NaN             NaN   \n",
       "6                  5C               5              33   \n",
       "7                  8B               8              41   \n",
       "8                 NaN             NaN             NaN   \n",
       "9                  5D               5              34   \n",
       "10                 9E               9              55   \n",
       "11                 6B               6              43   \n",
       "12                 5C               5              33   \n",
       "13                 9B               9              51   \n",
       "14                 2A               2              12   \n",
       "15                 9D               9              51   \n",
       "16                 8B               8              41   \n",
       "17                NaN             NaN             NaN   \n",
       "18                 4C               4              24   \n",
       "19                NaN             NaN             NaN   \n",
       "20                 4E               4              25   \n",
       "21                 4E               4              25   \n",
       "22                 7A               7              41   \n",
       "23                 3D               3              25   \n",
       "24                 6B               6              43   \n",
       "25                 5A               5              31   \n",
       "26                NaN             NaN             NaN   \n",
       "27                 9B               9              51   \n",
       "28                 7A               7              41   \n",
       "29                 7A               7              41   \n",
       "...               ...             ...             ...   \n",
       "363182             6B               6              43   \n",
       "363183             9A               9              52   \n",
       "363184             6D               6              35   \n",
       "363185             8B               8              41   \n",
       "363186            NaN             NaN             NaN   \n",
       "363187            NaN             NaN             NaN   \n",
       "363188             3D               3              25   \n",
       "363189             9C               9              51   \n",
       "363190             9D               9              51   \n",
       "363191             6E               6              45   \n",
       "363192             8B               8              41   \n",
       "363193             6A               6              31   \n",
       "363194             6B               6              43   \n",
       "363195             3C               3              24   \n",
       "363196             2A               2              12   \n",
       "363197            NaN             NaN             NaN   \n",
       "363198             8B               8              41   \n",
       "363199             8B               8              41   \n",
       "363200             8C               8              54   \n",
       "363201             4C               4              24   \n",
       "363202            NaN             NaN             NaN   \n",
       "363203             3C               3              24   \n",
       "363204            NaN             NaN             NaN   \n",
       "363205             2D               2              14   \n",
       "363206             8A               8              51   \n",
       "363207             1A               1              13   \n",
       "363208             8B               8              41   \n",
       "363209             9A               9              52   \n",
       "363210             6B               6              43   \n",
       "363211             8A               8              51   \n",
       "\n",
       "       D19_LETZTER_KAUF_BRANCHE        EINGEFUEGT_AM OST_WEST_KZ  \n",
       "0                           NaN  1992-02-10 00:00:00           W  \n",
       "1                 D19_UNBEKANNT  1997-04-21 00:00:00           W  \n",
       "2                   D19_ENERGIE  1992-02-12 00:00:00           W  \n",
       "3                 D19_UNBEKANNT  1992-02-10 00:00:00           W  \n",
       "4                  D19_KOSMETIK  1992-02-10 00:00:00           W  \n",
       "5                           NaN                  NaN         NaN  \n",
       "6             D19_VOLLSORTIMENT  2009-01-19 00:00:00           W  \n",
       "7                 D19_UNBEKANNT  1992-02-12 00:00:00           W  \n",
       "8                           NaN                  NaN         NaN  \n",
       "9                           NaN  1992-02-12 00:00:00           W  \n",
       "10                          NaN  1992-02-12 00:00:00           W  \n",
       "11             D19_BANKEN_GROSS  1992-02-12 00:00:00           W  \n",
       "12                D19_UNBEKANNT  1992-02-12 00:00:00           W  \n",
       "13                   D19_SCHUHE  1996-05-09 00:00:00           W  \n",
       "14             D19_BANKEN_GROSS  2005-04-12 00:00:00           W  \n",
       "15                D19_UNBEKANNT  1992-02-10 00:00:00           W  \n",
       "16             D19_BANKEN_GROSS  1992-02-10 00:00:00           W  \n",
       "17                          NaN                  NaN         NaN  \n",
       "18                D19_UNBEKANNT  1992-02-12 00:00:00           W  \n",
       "19            D19_VOLLSORTIMENT  2004-10-14 00:00:00           W  \n",
       "20          D19_DROGERIEARTIKEL  1992-02-10 00:00:00           W  \n",
       "21                  D19_BUCH_CD  1992-02-12 00:00:00           W  \n",
       "22           D19_VERSICHERUNGEN  1996-10-30 00:00:00           W  \n",
       "23                D19_UNBEKANNT  1992-02-10 00:00:00           W  \n",
       "24                          NaN  1992-02-12 00:00:00           W  \n",
       "25             D19_VERSAND_REST  1992-02-10 00:00:00           W  \n",
       "26                          NaN                  NaN         NaN  \n",
       "27                          NaN  1992-02-10 00:00:00           W  \n",
       "28               D19_TELKO_REST  2000-05-10 00:00:00           W  \n",
       "29                D19_UNBEKANNT  1992-02-10 00:00:00           W  \n",
       "...                         ...                  ...         ...  \n",
       "363182            D19_UNBEKANNT  1995-07-05 00:00:00           O  \n",
       "363183                      NaN  1993-04-01 00:00:00           O  \n",
       "363184            D19_UNBEKANNT  1992-02-10 00:00:00           O  \n",
       "363185            D19_HAUS_DEKO  1992-02-10 00:00:00           O  \n",
       "363186                      NaN                  NaN         NaN  \n",
       "363187        D19_BANKEN_DIREKT                  NaN         NaN  \n",
       "363188       D19_VERSICHERUNGEN  1993-09-21 00:00:00           O  \n",
       "363189                      NaN  1992-02-10 00:00:00           O  \n",
       "363190                      NaN  1992-02-10 00:00:00           O  \n",
       "363191           D19_TELKO_REST  1992-02-10 00:00:00           O  \n",
       "363192         D19_VERSAND_REST  1992-02-10 00:00:00           O  \n",
       "363193        D19_VOLLSORTIMENT  1995-06-21 00:00:00           O  \n",
       "363194              D19_ENERGIE  1992-02-10 00:00:00           O  \n",
       "363195            D19_UNBEKANNT  1992-02-10 00:00:00           W  \n",
       "363196        D19_VOLLSORTIMENT  1992-02-10 00:00:00           W  \n",
       "363197                      NaN                  NaN         NaN  \n",
       "363198                      NaN  1992-02-10 00:00:00           W  \n",
       "363199            D19_UNBEKANNT  1996-03-07 00:00:00           W  \n",
       "363200            D19_UNBEKANNT  1994-06-14 00:00:00           O  \n",
       "363201             D19_SONSTIGE  1994-02-17 00:00:00           O  \n",
       "363202                      NaN                  NaN         NaN  \n",
       "363203            D19_UNBEKANNT  1992-02-10 00:00:00           W  \n",
       "363204         D19_BANKEN_GROSS                  NaN         NaN  \n",
       "363205                      NaN  1992-02-12 00:00:00           W  \n",
       "363206             D19_SONSTIGE  1992-02-12 00:00:00           W  \n",
       "363207         D19_VERSAND_REST  1992-02-10 00:00:00           W  \n",
       "363208        D19_BANKEN_DIREKT  1992-02-12 00:00:00           W  \n",
       "363209            D19_UNBEKANNT  2005-04-15 00:00:00           W  \n",
       "363210                      NaN  1992-02-10 00:00:00           W  \n",
       "363211            D19_UNBEKANNT  1992-02-10 00:00:00         NaN  \n",
       "\n",
       "[363212 rows x 6 columns]"
      ]
     },
     "execution_count": 11,
     "metadata": {},
     "output_type": "execute_result"
    }
   ],
   "source": [
    "# Let's check which columns are object\n",
    "pop_df_partial.select_dtypes(object)"
   ]
  },
  {
   "cell_type": "code",
   "execution_count": 76,
   "metadata": {
    "scrolled": true
   },
   "outputs": [
    {
     "name": "stdout",
     "output_type": "stream",
     "text": [
      "type of column CAMEO_DEUG_2015 before processing is <class 'str'>\n",
      "column CAMEO_DEU_2015 could not be converted to numeric\n",
      "column CAMEO_DEUG_2015 could not be converted to numeric\n",
      "column CAMEO_INTL_2015 could not be converted to numeric\n",
      "column D19_LETZTER_KAUF_BRANCHE could not be converted to numeric\n",
      "column EINGEFUEGT_AM could not be converted to numeric\n",
      "column OST_WEST_KZ could not be converted to numeric\n",
      "type of column CAMEO_DEUG_2015 after processing is <class 'str'>\n"
     ]
    },
    {
     "data": {
      "text/plain": [
       "{'1',\n",
       " 1.0,\n",
       " '2',\n",
       " 2.0,\n",
       " '3',\n",
       " 3.0,\n",
       " '4',\n",
       " 4.0,\n",
       " '5',\n",
       " 5.0,\n",
       " '6',\n",
       " 6.0,\n",
       " '7',\n",
       " 7.0,\n",
       " '8',\n",
       " 8.0,\n",
       " '9',\n",
       " 9.0,\n",
       " 'X'}"
      ]
     },
     "execution_count": 76,
     "metadata": {},
     "output_type": "execute_result"
    }
   ],
   "source": [
    "# It seems weird that columns CAMEO_DEUG_2015 & CAMEO_INTL_2015 get mapped to object\n",
    "# let's check them in more details\n",
    "col = 'CAMEO_DEUG_2015'\n",
    "print(f'type of column {col} before processing is {type(pop_df_partial.loc[25, col])}')\n",
    "\n",
    "# this outputs a string and string are handled as objects by Pandas\n",
    "# However, a better type would be float or int\n",
    "# so for appropriate columns, one will want to cast them as float64 or int64\n",
    "\n",
    "# this can be achieved through pandas to_numeric method\n",
    "# which has been embedded into a home-made function\n",
    "\n",
    "# try it\n",
    "object_col = pop_df_partial.select_dtypes(object).columns\n",
    "column_not_converted = df_to_numeric(pop_df_partial.loc[:,object_col])\n",
    "print(f'type of column {col} after processing is {type(pop_df_partial.loc[25, col])}')\n",
    "\n",
    "# apparently, some columns that should be converted (CAMEO ones) are not ... There must be something weird inside\n",
    "# let's have a look\n",
    "set(pop_df_partial.loc[~pop_df_partial[col].isna(), col].values)"
   ]
  },
  {
   "cell_type": "code",
   "execution_count": 136,
   "metadata": {
    "scrolled": true
   },
   "outputs": [
    {
     "name": "stdout",
     "output_type": "stream",
     "text": [
      "there are 145 match for column CAMEO_DEU_2015\n",
      "Matched values are ['XX', 'XX', 'XX', 'XX', 'XX', 'XX', 'XX', 'XX', 'XX', 'XX', 'XX', 'XX', 'XX', 'XX', 'XX', 'XX', 'XX', 'XX', 'XX', 'XX', 'XX', 'XX', 'XX', 'XX', 'XX', 'XX', 'XX', 'XX', 'XX', 'XX', 'XX', 'XX', 'XX', 'XX', 'XX', 'XX', 'XX', 'XX', 'XX', 'XX', 'XX', 'XX', 'XX', 'XX', 'XX', 'XX', 'XX', 'XX', 'XX', 'XX', 'XX', 'XX', 'XX', 'XX', 'XX', 'XX', 'XX', 'XX', 'XX', 'XX', 'XX', 'XX', 'XX', 'XX', 'XX', 'XX', 'XX', 'XX', 'XX', 'XX', 'XX', 'XX', 'XX', 'XX', 'XX', 'XX', 'XX', 'XX', 'XX', 'XX', 'XX', 'XX', 'XX', 'XX', 'XX', 'XX', 'XX', 'XX', 'XX', 'XX', 'XX', 'XX', 'XX', 'XX', 'XX', 'XX', 'XX', 'XX', 'XX', 'XX', 'XX', 'XX', 'XX', 'XX', 'XX', 'XX', 'XX', 'XX', 'XX', 'XX', 'XX', 'XX', 'XX', 'XX', 'XX', 'XX', 'XX', 'XX', 'XX', 'XX', 'XX', 'XX', 'XX', 'XX', 'XX', 'XX', 'XX', 'XX', 'XX', 'XX', 'XX', 'XX', 'XX', 'XX', 'XX', 'XX', 'XX', 'XX', 'XX', 'XX', 'XX', 'XX', 'XX', 'XX', 'XX']\n",
      "there are 145 match for column CAMEO_DEUG_2015\n",
      "Matched values are ['X', 'X', 'X', 'X', 'X', 'X', 'X', 'X', 'X', 'X', 'X', 'X', 'X', 'X', 'X', 'X', 'X', 'X', 'X', 'X', 'X', 'X', 'X', 'X', 'X', 'X', 'X', 'X', 'X', 'X', 'X', 'X', 'X', 'X', 'X', 'X', 'X', 'X', 'X', 'X', 'X', 'X', 'X', 'X', 'X', 'X', 'X', 'X', 'X', 'X', 'X', 'X', 'X', 'X', 'X', 'X', 'X', 'X', 'X', 'X', 'X', 'X', 'X', 'X', 'X', 'X', 'X', 'X', 'X', 'X', 'X', 'X', 'X', 'X', 'X', 'X', 'X', 'X', 'X', 'X', 'X', 'X', 'X', 'X', 'X', 'X', 'X', 'X', 'X', 'X', 'X', 'X', 'X', 'X', 'X', 'X', 'X', 'X', 'X', 'X', 'X', 'X', 'X', 'X', 'X', 'X', 'X', 'X', 'X', 'X', 'X', 'X', 'X', 'X', 'X', 'X', 'X', 'X', 'X', 'X', 'X', 'X', 'X', 'X', 'X', 'X', 'X', 'X', 'X', 'X', 'X', 'X', 'X', 'X', 'X', 'X', 'X', 'X', 'X', 'X', 'X', 'X', 'X', 'X', 'X']\n",
      "there are 145 match for column CAMEO_INTL_2015\n",
      "Matched values are ['XX', 'XX', 'XX', 'XX', 'XX', 'XX', 'XX', 'XX', 'XX', 'XX', 'XX', 'XX', 'XX', 'XX', 'XX', 'XX', 'XX', 'XX', 'XX', 'XX', 'XX', 'XX', 'XX', 'XX', 'XX', 'XX', 'XX', 'XX', 'XX', 'XX', 'XX', 'XX', 'XX', 'XX', 'XX', 'XX', 'XX', 'XX', 'XX', 'XX', 'XX', 'XX', 'XX', 'XX', 'XX', 'XX', 'XX', 'XX', 'XX', 'XX', 'XX', 'XX', 'XX', 'XX', 'XX', 'XX', 'XX', 'XX', 'XX', 'XX', 'XX', 'XX', 'XX', 'XX', 'XX', 'XX', 'XX', 'XX', 'XX', 'XX', 'XX', 'XX', 'XX', 'XX', 'XX', 'XX', 'XX', 'XX', 'XX', 'XX', 'XX', 'XX', 'XX', 'XX', 'XX', 'XX', 'XX', 'XX', 'XX', 'XX', 'XX', 'XX', 'XX', 'XX', 'XX', 'XX', 'XX', 'XX', 'XX', 'XX', 'XX', 'XX', 'XX', 'XX', 'XX', 'XX', 'XX', 'XX', 'XX', 'XX', 'XX', 'XX', 'XX', 'XX', 'XX', 'XX', 'XX', 'XX', 'XX', 'XX', 'XX', 'XX', 'XX', 'XX', 'XX', 'XX', 'XX', 'XX', 'XX', 'XX', 'XX', 'XX', 'XX', 'XX', 'XX', 'XX', 'XX', 'XX', 'XX', 'XX', 'XX', 'XX', 'XX', 'XX', 'XX']\n",
      "there are 0 match for column D19_LETZTER_KAUF_BRANCHE\n",
      "Matched values are []\n",
      "there are 0 match for column EINGEFUEGT_AM\n",
      "Matched values are []\n",
      "there are 0 match for column OST_WEST_KZ\n",
      "Matched values are []\n"
     ]
    }
   ],
   "source": [
    "# one sees there is an \"X\" value and this is what is causing an issue\n",
    "# let's see if this \"X\" value is the problem in the other columns that\n",
    "# can't be converted as well\n",
    "for col in column_not_converted:\n",
    "    result = pop_df_partial.loc[~pop_df_partial[col].isna(), col].apply(lambda x: re.search(r'.*X.*',str(x)))    \n",
    "    print(f'there are {result.notnull().sum()} match for column {col}')\n",
    "    matched_results = [match.group(0) for match in result[result.notnull()]]\n",
    "    print(f'Matched values are {matched_results}')\n",
    "    \n",
    "# So X and XX values could be taken as NaN and replaced\n",
    "# Anyway, one understands that all CAMEO columns provide identical information\n",
    "# It's decided to only keep the international typology i.e. CAMEO_INTL_2015 column\n",
    "# and drop the other ones"
   ]
  },
  {
   "cell_type": "code",
   "execution_count": 127,
   "metadata": {
    "scrolled": true
   },
   "outputs": [],
   "source": [
    "col = 'OST_WEST_KZ'"
   ]
  },
  {
   "cell_type": "code",
   "execution_count": 128,
   "metadata": {
    "scrolled": true
   },
   "outputs": [
    {
     "data": {
      "text/plain": [
       "{'O', 'W'}"
      ]
     },
     "execution_count": 128,
     "metadata": {},
     "output_type": "execute_result"
    }
   ],
   "source": [
    "set(pop_df_partial.loc[~pop_df_partial[col].isna(), col].values)"
   ]
  },
  {
   "cell_type": "code",
   "execution_count": 124,
   "metadata": {},
   "outputs": [
    {
     "data": {
      "text/plain": [
       "0                         NaN\n",
       "1               D19_UNBEKANNT\n",
       "2                 D19_ENERGIE\n",
       "3               D19_UNBEKANNT\n",
       "4                D19_KOSMETIK\n",
       "5                         NaN\n",
       "6           D19_VOLLSORTIMENT\n",
       "7               D19_UNBEKANNT\n",
       "8                         NaN\n",
       "9                         NaN\n",
       "10                        NaN\n",
       "11           D19_BANKEN_GROSS\n",
       "12              D19_UNBEKANNT\n",
       "13                 D19_SCHUHE\n",
       "14           D19_BANKEN_GROSS\n",
       "15              D19_UNBEKANNT\n",
       "16           D19_BANKEN_GROSS\n",
       "17                        NaN\n",
       "18              D19_UNBEKANNT\n",
       "19          D19_VOLLSORTIMENT\n",
       "20        D19_DROGERIEARTIKEL\n",
       "21                D19_BUCH_CD\n",
       "22         D19_VERSICHERUNGEN\n",
       "23              D19_UNBEKANNT\n",
       "24                        NaN\n",
       "25           D19_VERSAND_REST\n",
       "26                        NaN\n",
       "27                        NaN\n",
       "28             D19_TELKO_REST\n",
       "29              D19_UNBEKANNT\n",
       "                 ...         \n",
       "363182          D19_UNBEKANNT\n",
       "363183                    NaN\n",
       "363184          D19_UNBEKANNT\n",
       "363185          D19_HAUS_DEKO\n",
       "363186                    NaN\n",
       "363187      D19_BANKEN_DIREKT\n",
       "363188     D19_VERSICHERUNGEN\n",
       "363189                    NaN\n",
       "363190                    NaN\n",
       "363191         D19_TELKO_REST\n",
       "363192       D19_VERSAND_REST\n",
       "363193      D19_VOLLSORTIMENT\n",
       "363194            D19_ENERGIE\n",
       "363195          D19_UNBEKANNT\n",
       "363196      D19_VOLLSORTIMENT\n",
       "363197                    NaN\n",
       "363198                    NaN\n",
       "363199          D19_UNBEKANNT\n",
       "363200          D19_UNBEKANNT\n",
       "363201           D19_SONSTIGE\n",
       "363202                    NaN\n",
       "363203          D19_UNBEKANNT\n",
       "363204       D19_BANKEN_GROSS\n",
       "363205                    NaN\n",
       "363206           D19_SONSTIGE\n",
       "363207       D19_VERSAND_REST\n",
       "363208      D19_BANKEN_DIREKT\n",
       "363209          D19_UNBEKANNT\n",
       "363210                    NaN\n",
       "363211          D19_UNBEKANNT\n",
       "Name: D19_LETZTER_KAUF_BRANCHE, Length: 363212, dtype: object"
      ]
     },
     "execution_count": 124,
     "metadata": {},
     "output_type": "execute_result"
    }
   ],
   "source": [
    "pop_df_partial[col]"
   ]
  },
  {
   "cell_type": "code",
   "execution_count": 103,
   "metadata": {},
   "outputs": [],
   "source": [
    "result = pop_df_partial.loc[~pop_df_partial[col].isna(), col].apply(lambda x: re.search(r'.*X.*',str(x)))    "
   ]
  },
  {
   "cell_type": "code",
   "execution_count": 119,
   "metadata": {},
   "outputs": [
    {
     "data": {
      "text/plain": [
       "1255      <_sre.SRE_Match object; span=(0, 2), match='XX'>\n",
       "2284      <_sre.SRE_Match object; span=(0, 2), match='XX'>\n",
       "4901      <_sre.SRE_Match object; span=(0, 2), match='XX'>\n",
       "8441      <_sre.SRE_Match object; span=(0, 2), match='XX'>\n",
       "14061     <_sre.SRE_Match object; span=(0, 2), match='XX'>\n",
       "18579     <_sre.SRE_Match object; span=(0, 2), match='XX'>\n",
       "27931     <_sre.SRE_Match object; span=(0, 2), match='XX'>\n",
       "29698     <_sre.SRE_Match object; span=(0, 2), match='XX'>\n",
       "32832     <_sre.SRE_Match object; span=(0, 2), match='XX'>\n",
       "33186     <_sre.SRE_Match object; span=(0, 2), match='XX'>\n",
       "39127     <_sre.SRE_Match object; span=(0, 2), match='XX'>\n",
       "39713     <_sre.SRE_Match object; span=(0, 2), match='XX'>\n",
       "44876     <_sre.SRE_Match object; span=(0, 2), match='XX'>\n",
       "45671     <_sre.SRE_Match object; span=(0, 2), match='XX'>\n",
       "46201     <_sre.SRE_Match object; span=(0, 2), match='XX'>\n",
       "47588     <_sre.SRE_Match object; span=(0, 2), match='XX'>\n",
       "48452     <_sre.SRE_Match object; span=(0, 2), match='XX'>\n",
       "52165     <_sre.SRE_Match object; span=(0, 2), match='XX'>\n",
       "58001     <_sre.SRE_Match object; span=(0, 2), match='XX'>\n",
       "62188     <_sre.SRE_Match object; span=(0, 2), match='XX'>\n",
       "64260     <_sre.SRE_Match object; span=(0, 2), match='XX'>\n",
       "65331     <_sre.SRE_Match object; span=(0, 2), match='XX'>\n",
       "70859     <_sre.SRE_Match object; span=(0, 2), match='XX'>\n",
       "70921     <_sre.SRE_Match object; span=(0, 2), match='XX'>\n",
       "71925     <_sre.SRE_Match object; span=(0, 2), match='XX'>\n",
       "72420     <_sre.SRE_Match object; span=(0, 2), match='XX'>\n",
       "73743     <_sre.SRE_Match object; span=(0, 2), match='XX'>\n",
       "82358     <_sre.SRE_Match object; span=(0, 2), match='XX'>\n",
       "90042     <_sre.SRE_Match object; span=(0, 2), match='XX'>\n",
       "91426     <_sre.SRE_Match object; span=(0, 2), match='XX'>\n",
       "                                ...                       \n",
       "301888    <_sre.SRE_Match object; span=(0, 2), match='XX'>\n",
       "302607    <_sre.SRE_Match object; span=(0, 2), match='XX'>\n",
       "305088    <_sre.SRE_Match object; span=(0, 2), match='XX'>\n",
       "314227    <_sre.SRE_Match object; span=(0, 2), match='XX'>\n",
       "314731    <_sre.SRE_Match object; span=(0, 2), match='XX'>\n",
       "317528    <_sre.SRE_Match object; span=(0, 2), match='XX'>\n",
       "318099    <_sre.SRE_Match object; span=(0, 2), match='XX'>\n",
       "318965    <_sre.SRE_Match object; span=(0, 2), match='XX'>\n",
       "321057    <_sre.SRE_Match object; span=(0, 2), match='XX'>\n",
       "322230    <_sre.SRE_Match object; span=(0, 2), match='XX'>\n",
       "329603    <_sre.SRE_Match object; span=(0, 2), match='XX'>\n",
       "331246    <_sre.SRE_Match object; span=(0, 2), match='XX'>\n",
       "335472    <_sre.SRE_Match object; span=(0, 2), match='XX'>\n",
       "336027    <_sre.SRE_Match object; span=(0, 2), match='XX'>\n",
       "337101    <_sre.SRE_Match object; span=(0, 2), match='XX'>\n",
       "338699    <_sre.SRE_Match object; span=(0, 2), match='XX'>\n",
       "340005    <_sre.SRE_Match object; span=(0, 2), match='XX'>\n",
       "340883    <_sre.SRE_Match object; span=(0, 2), match='XX'>\n",
       "341132    <_sre.SRE_Match object; span=(0, 2), match='XX'>\n",
       "342956    <_sre.SRE_Match object; span=(0, 2), match='XX'>\n",
       "347152    <_sre.SRE_Match object; span=(0, 2), match='XX'>\n",
       "347974    <_sre.SRE_Match object; span=(0, 2), match='XX'>\n",
       "351153    <_sre.SRE_Match object; span=(0, 2), match='XX'>\n",
       "353608    <_sre.SRE_Match object; span=(0, 2), match='XX'>\n",
       "355468    <_sre.SRE_Match object; span=(0, 2), match='XX'>\n",
       "356371    <_sre.SRE_Match object; span=(0, 2), match='XX'>\n",
       "357742    <_sre.SRE_Match object; span=(0, 2), match='XX'>\n",
       "358965    <_sre.SRE_Match object; span=(0, 2), match='XX'>\n",
       "360856    <_sre.SRE_Match object; span=(0, 2), match='XX'>\n",
       "362737    <_sre.SRE_Match object; span=(0, 2), match='XX'>\n",
       "Name: CAMEO_DEU_2015, Length: 145, dtype: object"
      ]
     },
     "execution_count": 119,
     "metadata": {},
     "output_type": "execute_result"
    }
   ],
   "source": [
    "result[result.notnull()]"
   ]
  },
  {
   "cell_type": "code",
   "execution_count": 115,
   "metadata": {},
   "outputs": [
    {
     "data": {
      "text/plain": [
       "True"
      ]
     },
     "execution_count": 115,
     "metadata": {},
     "output_type": "execute_result"
    }
   ],
   "source": [
    "result is not None"
   ]
  },
  {
   "cell_type": "markdown",
   "metadata": {},
   "source": [
    "### Let's identify categorical columns via a heuristic to gain some memory"
   ]
  },
  {
   "cell_type": "code",
   "execution_count": null,
   "metadata": {
    "scrolled": false
   },
   "outputs": [],
   "source": []
  },
  {
   "cell_type": "code",
   "execution_count": 7,
   "metadata": {
    "scrolled": false
   },
   "outputs": [],
   "source": [
    "likely_cat = {}\n",
    "for var in azdias_df.columns:\n",
    "    likely_cat[var] = 1.*pop_df[var].nunique()/pop_df[var].count() < 0.05 #or some other threshold"
   ]
  },
  {
   "cell_type": "code",
   "execution_count": 8,
   "metadata": {
    "scrolled": false
   },
   "outputs": [],
   "source": [
    "cat_col = {}\n",
    "for key, value in likely_cat.items():\n",
    "    if value : \n",
    "        cat_col[key] = 'category'"
   ]
  },
  {
   "cell_type": "code",
   "execution_count": 86,
   "metadata": {
    "scrolled": false
   },
   "outputs": [
    {
     "ename": "NameError",
     "evalue": "name 'cat_col' is not defined",
     "output_type": "error",
     "traceback": [
      "\u001b[0;31m---------------------------------------------------------------------------\u001b[0m",
      "\u001b[0;31mNameError\u001b[0m                                 Traceback (most recent call last)",
      "\u001b[0;32m<ipython-input-86-cabcbd5462a1>\u001b[0m in \u001b[0;36m<module>\u001b[0;34m()\u001b[0m\n\u001b[1;32m      1\u001b[0m \u001b[0;31m# read again but with categorical identified and see memory GAINZ\u001b[0m\u001b[0;34m\u001b[0m\u001b[0;34m\u001b[0m\u001b[0m\n\u001b[0;32m----> 2\u001b[0;31m \u001b[0mpop_df_partial\u001b[0m \u001b[0;34m=\u001b[0m \u001b[0mpd\u001b[0m\u001b[0;34m.\u001b[0m\u001b[0mread_csv\u001b[0m\u001b[0;34m(\u001b[0m\u001b[0mpop_dataset_loc\u001b[0m\u001b[0;34m,\u001b[0m \u001b[0msep\u001b[0m\u001b[0;34m=\u001b[0m\u001b[0;34m';'\u001b[0m\u001b[0;34m,\u001b[0m \u001b[0mskiprows\u001b[0m \u001b[0;34m=\u001b[0m \u001b[0;32mlambda\u001b[0m \u001b[0mx\u001b[0m\u001b[0;34m:\u001b[0m \u001b[0mx\u001b[0m\u001b[0;34m%\u001b[0m\u001b[0;36m2\u001b[0m\u001b[0;34m,\u001b[0m \u001b[0mdtype\u001b[0m \u001b[0;34m=\u001b[0m \u001b[0mcat_col\u001b[0m\u001b[0;34m)\u001b[0m\u001b[0;34m\u001b[0m\u001b[0m\n\u001b[0m\u001b[1;32m      3\u001b[0m \u001b[0mre\u001b[0m\u001b[0;34m.\u001b[0m\u001b[0msearch\u001b[0m\u001b[0;34m(\u001b[0m\u001b[0;34m'memory'\u001b[0m\u001b[0;34m,\u001b[0m \u001b[0mpop_df\u001b[0m\u001b[0;34m.\u001b[0m\u001b[0minfo\u001b[0m\u001b[0;34m(\u001b[0m\u001b[0;34m)\u001b[0m\u001b[0;34m)\u001b[0m\u001b[0;34m\u001b[0m\u001b[0m\n",
      "\u001b[0;31mNameError\u001b[0m: name 'cat_col' is not defined"
     ]
    }
   ],
   "source": [
    "# read again but with categorical identified and see memory GAINZ\n",
    "pop_df_partial = pd.read_csv(pop_dataset_loc, sep=';', skiprows = lambda x: x%2, dtype = cat_col)\n",
    "re.search('memory', pop_df.info())"
   ]
  },
  {
   "cell_type": "code",
   "execution_count": 4,
   "metadata": {
    "scrolled": false
   },
   "outputs": [],
   "source": [
    "# Free up memory \n",
    "pop_df_partial = None\n",
    "customers_df_partial = None"
   ]
  },
  {
   "cell_type": "markdown",
   "metadata": {},
   "source": [
    "## Load full"
   ]
  },
  {
   "cell_type": "code",
   "execution_count": 5,
   "metadata": {
    "scrolled": false
   },
   "outputs": [
    {
     "ename": "NameError",
     "evalue": "name 'cat_col' is not defined",
     "output_type": "error",
     "traceback": [
      "\u001b[0;31m---------------------------------------------------------------------------\u001b[0m",
      "\u001b[0;31mNameError\u001b[0m                                 Traceback (most recent call last)",
      "\u001b[0;32m<ipython-input-5-de5e65e9abc6>\u001b[0m in \u001b[0;36m<module>\u001b[0;34m()\u001b[0m\n\u001b[0;32m----> 1\u001b[0;31m \u001b[0mpop_df\u001b[0m \u001b[0;34m=\u001b[0m \u001b[0mpd\u001b[0m\u001b[0;34m.\u001b[0m\u001b[0mread_csv\u001b[0m\u001b[0;34m(\u001b[0m\u001b[0mpop_dataset_loc\u001b[0m\u001b[0;34m,\u001b[0m \u001b[0msep\u001b[0m\u001b[0;34m=\u001b[0m\u001b[0;34m';'\u001b[0m\u001b[0;34m,\u001b[0m \u001b[0mdtype\u001b[0m \u001b[0;34m=\u001b[0m \u001b[0mcat_col\u001b[0m\u001b[0;34m)\u001b[0m\u001b[0;34m\u001b[0m\u001b[0m\n\u001b[0m",
      "\u001b[0;31mNameError\u001b[0m: name 'cat_col' is not defined"
     ]
    }
   ],
   "source": [
    "pop_df = pd.read_csv(pop_dataset_loc, sep=';', dtype = cat_col)"
   ]
  },
  {
   "cell_type": "code",
   "execution_count": 10,
   "metadata": {
    "scrolled": false
   },
   "outputs": [],
   "source": [
    "cat_col_customers = cat_col.copy()\n",
    "cat_col_customers['CUSTOMER_GROUP'] = 'category'\n",
    "cat_col_customers['ONLINE_PURCHASE'] = 'category'\n",
    "cat_col_customers['PRODUCT_GROUP'] = 'category'\n",
    "\n",
    "customers_dataset_loc = f's3://{bucket}/dataset/Udacity_CUSTOMERS_052018.csv'\n",
    "\n",
    "customers_df = pd.read_csv(customers_dataset_loc, sep=';', dtype = cat_col_customers)"
   ]
  },
  {
   "cell_type": "code",
   "execution_count": 60,
   "metadata": {
    "scrolled": false
   },
   "outputs": [
    {
     "name": "stderr",
     "output_type": "stream",
     "text": [
      "/home/ec2-user/anaconda3/envs/amazonei_mxnet_p36/lib/python3.6/site-packages/ipykernel/__main__.py:6: FutureWarning: Sorting because non-concatenation axis is not aligned. A future version\n",
      "of pandas will change to not sort by default.\n",
      "\n",
      "To accept the future behavior, pass 'sort=False'.\n",
      "\n",
      "To retain the current behavior and silence the warning, pass 'sort=True'.\n",
      "\n"
     ]
    },
    {
     "data": {
      "image/png": "[encoded data removed]",
      "text/plain": [
       "<Figure size 432x288 with 1 Axes>"
      ]
     },
     "metadata": {},
     "output_type": "display_data"
    },
    {
     "data": {
      "image/png": "[encoded data removed]",
      "text/plain": [
       "<Figure size 432x288 with 1 Axes>"
      ]
     },
     "metadata": {},
     "output_type": "display_data"
    },
    {
     "data": {
      "image/png": "[encoded data removed]",
      "text/plain": [
       "<Figure size 432x288 with 1 Axes>"
      ]
     },
     "metadata": {},
     "output_type": "display_data"
    },
    {
     "data": {
      "image/png": "[encoded data removed]",
      "text/plain": [
       "<Figure size 432x288 with 1 Axes>"
      ]
     },
     "metadata": {},
     "output_type": "display_data"
    },
    {
     "data": {
      "image/png": "[encoded data removed]",
      "text/plain": [
       "<Figure size 432x288 with 1 Axes>"
      ]
     },
     "metadata": {},
     "output_type": "display_data"
    }
   ],
   "source": [
    "import matplotlib.pyplot as plt\n",
    "from pathlib import Path\n",
    "\n",
    "Path('img/exploration').mkdir(exist_ok=True, parents=True)\n",
    "\n",
    "concatenated = pd.concat([pop_df.assign(dataset='azdias'), customers_df.assign(dataset='customer')])\n",
    "vof = list(cat_col.keys()) # Variable Of Interest\n",
    "for v in vof[0:5]:\n",
    "    f, ax = plt.subplots()\n",
    "    g = sns.barplot(x=v, \n",
    "                    y=\"percentage\",\n",
    "                    hue='dataset', \n",
    "                    data=concatenated.groupby(['dataset'])[v]\n",
    "                         .value_counts(normalize=True)\n",
    "                         .rename('percentage')\n",
    "                         .mul(100)\n",
    "                         .reset_index()\n",
    "                         .sort_values(v), \n",
    "                    palette=\"ch:.25\")\n",
    "    g.legend(ncol=2, loc=\"upper right\", frameon=True)\n",
    "    fig = g.get_figure()\n",
    "    fig.savefig(Path('img/exploration').joinpath('barplot_' + v))"
   ]
  },
  {
   "cell_type": "markdown",
   "metadata": {},
   "source": [
    "## Just view table data"
   ]
  },
  {
   "cell_type": "code",
   "execution_count": 3,
   "metadata": {
    "scrolled": true
   },
   "outputs": [
    {
     "data": {
      "text/html": [
       "<div>\n",
       "<style scoped>\n",
       "    .dataframe tbody tr th:only-of-type {\n",
       "        vertical-align: middle;\n",
       "    }\n",
       "\n",
       "    .dataframe tbody tr th {\n",
       "        vertical-align: top;\n",
       "    }\n",
       "\n",
       "    .dataframe thead th {\n",
       "        text-align: right;\n",
       "    }\n",
       "</style>\n",
       "<table border=\"1\" class=\"dataframe\">\n",
       "  <thead>\n",
       "    <tr style=\"text-align: right;\">\n",
       "      <th></th>\n",
       "      <th>LNR</th>\n",
       "      <th>AGER_TYP</th>\n",
       "      <th>AKT_DAT_KL</th>\n",
       "      <th>ALTER_HH</th>\n",
       "      <th>ALTER_KIND1</th>\n",
       "      <th>ALTER_KIND2</th>\n",
       "      <th>ALTER_KIND3</th>\n",
       "      <th>ALTER_KIND4</th>\n",
       "      <th>ALTERSKATEGORIE_FEIN</th>\n",
       "      <th>ANZ_HAUSHALTE_AKTIV</th>\n",
       "      <th>...</th>\n",
       "      <th>VHN</th>\n",
       "      <th>VK_DHT4A</th>\n",
       "      <th>VK_DISTANZ</th>\n",
       "      <th>VK_ZG11</th>\n",
       "      <th>W_KEIT_KIND_HH</th>\n",
       "      <th>WOHNDAUER_2008</th>\n",
       "      <th>WOHNLAGE</th>\n",
       "      <th>ZABEOTYP</th>\n",
       "      <th>ANREDE_KZ</th>\n",
       "      <th>ALTERSKATEGORIE_GROB</th>\n",
       "    </tr>\n",
       "  </thead>\n",
       "  <tbody>\n",
       "    <tr>\n",
       "      <th>0</th>\n",
       "      <td>910215</td>\n",
       "      <td>-1</td>\n",
       "      <td>NaN</td>\n",
       "      <td>NaN</td>\n",
       "      <td>NaN</td>\n",
       "      <td>NaN</td>\n",
       "      <td>NaN</td>\n",
       "      <td>NaN</td>\n",
       "      <td>NaN</td>\n",
       "      <td>NaN</td>\n",
       "      <td>...</td>\n",
       "      <td>NaN</td>\n",
       "      <td>NaN</td>\n",
       "      <td>NaN</td>\n",
       "      <td>NaN</td>\n",
       "      <td>NaN</td>\n",
       "      <td>NaN</td>\n",
       "      <td>NaN</td>\n",
       "      <td>3</td>\n",
       "      <td>1</td>\n",
       "      <td>2</td>\n",
       "    </tr>\n",
       "    <tr>\n",
       "      <th>1</th>\n",
       "      <td>910220</td>\n",
       "      <td>-1</td>\n",
       "      <td>9.0</td>\n",
       "      <td>0.0</td>\n",
       "      <td>NaN</td>\n",
       "      <td>NaN</td>\n",
       "      <td>NaN</td>\n",
       "      <td>NaN</td>\n",
       "      <td>21.0</td>\n",
       "      <td>11.0</td>\n",
       "      <td>...</td>\n",
       "      <td>4.0</td>\n",
       "      <td>8.0</td>\n",
       "      <td>11.0</td>\n",
       "      <td>10.0</td>\n",
       "      <td>3.0</td>\n",
       "      <td>9.0</td>\n",
       "      <td>4.0</td>\n",
       "      <td>5</td>\n",
       "      <td>2</td>\n",
       "      <td>1</td>\n",
       "    </tr>\n",
       "    <tr>\n",
       "      <th>2</th>\n",
       "      <td>910225</td>\n",
       "      <td>-1</td>\n",
       "      <td>9.0</td>\n",
       "      <td>17.0</td>\n",
       "      <td>NaN</td>\n",
       "      <td>NaN</td>\n",
       "      <td>NaN</td>\n",
       "      <td>NaN</td>\n",
       "      <td>17.0</td>\n",
       "      <td>10.0</td>\n",
       "      <td>...</td>\n",
       "      <td>2.0</td>\n",
       "      <td>9.0</td>\n",
       "      <td>9.0</td>\n",
       "      <td>6.0</td>\n",
       "      <td>3.0</td>\n",
       "      <td>9.0</td>\n",
       "      <td>2.0</td>\n",
       "      <td>5</td>\n",
       "      <td>2</td>\n",
       "      <td>3</td>\n",
       "    </tr>\n",
       "    <tr>\n",
       "      <th>3</th>\n",
       "      <td>910226</td>\n",
       "      <td>2</td>\n",
       "      <td>1.0</td>\n",
       "      <td>13.0</td>\n",
       "      <td>NaN</td>\n",
       "      <td>NaN</td>\n",
       "      <td>NaN</td>\n",
       "      <td>NaN</td>\n",
       "      <td>13.0</td>\n",
       "      <td>1.0</td>\n",
       "      <td>...</td>\n",
       "      <td>0.0</td>\n",
       "      <td>7.0</td>\n",
       "      <td>10.0</td>\n",
       "      <td>11.0</td>\n",
       "      <td>NaN</td>\n",
       "      <td>9.0</td>\n",
       "      <td>7.0</td>\n",
       "      <td>3</td>\n",
       "      <td>2</td>\n",
       "      <td>4</td>\n",
       "    </tr>\n",
       "    <tr>\n",
       "      <th>4</th>\n",
       "      <td>910241</td>\n",
       "      <td>-1</td>\n",
       "      <td>1.0</td>\n",
       "      <td>20.0</td>\n",
       "      <td>NaN</td>\n",
       "      <td>NaN</td>\n",
       "      <td>NaN</td>\n",
       "      <td>NaN</td>\n",
       "      <td>14.0</td>\n",
       "      <td>3.0</td>\n",
       "      <td>...</td>\n",
       "      <td>2.0</td>\n",
       "      <td>3.0</td>\n",
       "      <td>5.0</td>\n",
       "      <td>4.0</td>\n",
       "      <td>2.0</td>\n",
       "      <td>9.0</td>\n",
       "      <td>3.0</td>\n",
       "      <td>4</td>\n",
       "      <td>1</td>\n",
       "      <td>3</td>\n",
       "    </tr>\n",
       "  </tbody>\n",
       "</table>\n",
       "<p>5 rows × 366 columns</p>\n",
       "</div>"
      ],
      "text/plain": [
       "      LNR  AGER_TYP  AKT_DAT_KL  ALTER_HH  ALTER_KIND1  ALTER_KIND2  \\\n",
       "0  910215        -1         NaN       NaN          NaN          NaN   \n",
       "1  910220        -1         9.0       0.0          NaN          NaN   \n",
       "2  910225        -1         9.0      17.0          NaN          NaN   \n",
       "3  910226         2         1.0      13.0          NaN          NaN   \n",
       "4  910241        -1         1.0      20.0          NaN          NaN   \n",
       "\n",
       "   ALTER_KIND3  ALTER_KIND4  ALTERSKATEGORIE_FEIN  ANZ_HAUSHALTE_AKTIV  ...  \\\n",
       "0          NaN          NaN                   NaN                  NaN  ...   \n",
       "1          NaN          NaN                  21.0                 11.0  ...   \n",
       "2          NaN          NaN                  17.0                 10.0  ...   \n",
       "3          NaN          NaN                  13.0                  1.0  ...   \n",
       "4          NaN          NaN                  14.0                  3.0  ...   \n",
       "\n",
       "   VHN  VK_DHT4A  VK_DISTANZ  VK_ZG11  W_KEIT_KIND_HH  WOHNDAUER_2008  \\\n",
       "0  NaN       NaN         NaN      NaN             NaN             NaN   \n",
       "1  4.0       8.0        11.0     10.0             3.0             9.0   \n",
       "2  2.0       9.0         9.0      6.0             3.0             9.0   \n",
       "3  0.0       7.0        10.0     11.0             NaN             9.0   \n",
       "4  2.0       3.0         5.0      4.0             2.0             9.0   \n",
       "\n",
       "   WOHNLAGE ZABEOTYP  ANREDE_KZ  ALTERSKATEGORIE_GROB  \n",
       "0       NaN        3          1                     2  \n",
       "1       4.0        5          2                     1  \n",
       "2       2.0        5          2                     3  \n",
       "3       7.0        3          2                     4  \n",
       "4       3.0        4          1                     3  \n",
       "\n",
       "[5 rows x 366 columns]"
      ]
     },
     "execution_count": 3,
     "metadata": {},
     "output_type": "execute_result"
    }
   ],
   "source": [
    "pop_df.head()"
   ]
  },
  {
   "cell_type": "markdown",
   "metadata": {},
   "source": [
    "## Better understanding the data"
   ]
  },
  {
   "cell_type": "markdown",
   "metadata": {},
   "source": [
    "In fact, explanations are provided in two Excel files : `DIAS Attributes - Values 2017.xlsx` and `DIAS Information Levels - Attributes 2017.xlsx`\n",
    "\n",
    "From these files, one understand that in fact ALL data are categorical.\n",
    "Also, signification for the categorical values is provided.\n",
    "One sees that many categories have \"unknown\" categorical value ... That would be a nice way for categorizing NaN values !\n",
    "\n",
    "**IN FACT THOSE ARE 2017 INFO AND DO NOT ALIGN WITH 2018 INFO**\n",
    "**SOME COLUMNS ARE THEREFORE NOT FOUND IN THOSE EXCEL FILES AND VICE-VERSA**\n"
   ]
  },
  {
   "cell_type": "markdown",
   "metadata": {},
   "source": [
    "### Load full categorial"
   ]
  },
  {
   "cell_type": "code",
   "execution_count": 5,
   "metadata": {
    "scrolled": false
   },
   "outputs": [],
   "source": [
    "cat_col_pop = {}\n",
    "for col in pop_categories:\n",
    "    cat_col_pop[col] = 'category'\n",
    "        \n",
    "cat_col_customer = {}\n",
    "for col in customers_categories:\n",
    "    cat_col_customer[col] = 'category'       "
   ]
  },
  {
   "cell_type": "code",
   "execution_count": 6,
   "metadata": {
    "scrolled": false
   },
   "outputs": [],
   "source": [
    "pop_df = pd.read_csv(pop_dataset_loc, sep=';', dtype = cat_col_pop)\n",
    "customers_df = pd.read_csv(customers_dataset_loc, sep=';', dtype = cat_col_customer)"
   ]
  },
  {
   "cell_type": "markdown",
   "metadata": {},
   "source": [
    "### Delete completely empty rows"
   ]
  },
  {
   "cell_type": "code",
   "execution_count": 7,
   "metadata": {
    "scrolled": false
   },
   "outputs": [
    {
     "name": "stdout",
     "output_type": "stream",
     "text": [
      "Before deletion of full empty rows, we have 726424 samples in DataFrame data\n",
      "After deletion of full empty rows, we have 726424 samples in DataFrame data\n",
      "Before deletion of full empty rows, we have 191652 samples in customers_df data\n",
      "After deletion of full empty rows, we have 191652 samples in customers_df data\n"
     ]
    }
   ],
   "source": [
    "drop_full_empty_row(pop_df)\n",
    "drop_full_empty_row(customers_df, \"customers_df\")"
   ]
  },
  {
   "cell_type": "markdown",
   "metadata": {},
   "source": [
    "### Delete rows where NaN values form a large percentage of the information"
   ]
  },
  {
   "cell_type": "code",
   "execution_count": 8,
   "metadata": {
    "scrolled": false
   },
   "outputs": [
    {
     "name": "stdout",
     "output_type": "stream",
     "text": [
      "column ALTER_KIND1 has been dropped\n",
      "column ALTER_KIND2 has been dropped\n",
      "column ALTER_KIND3 has been dropped\n",
      "column ALTER_KIND4 has been dropped\n",
      "column ALTER_KIND1 has been dropped\n",
      "column ALTER_KIND2 has been dropped\n",
      "column ALTER_KIND3 has been dropped\n",
      "column ALTER_KIND4 has been dropped\n"
     ]
    }
   ],
   "source": [
    "       \n",
    "removed_col_pop = remove_insignificant_columns(pop_df)\n",
    "removed_col_customer = remove_insignificant_columns(customers_df)\n",
    "\n",
    "diff = set(removed_col_pop) - set(removed_col_customer)\n",
    "\n",
    "\n",
    "for col in diff:\n",
    "    if col in pop_df.columns:\n",
    "        pop_df.drop(col, axis=1, inplace=True)\n",
    "    if col in customers_df:\n",
    "        customers_df.drop(col, axis=1, inplace=True)\n",
    "\n",
    "# Note : I have checked, there are apparently\n",
    "# no empty strings (e.g. '' or ' ') within the dataframe\n",
    "# if that was the case, these should be handled properly as .isna() maps them to False"
   ]
  },
  {
   "cell_type": "markdown",
   "metadata": {},
   "source": [
    "### Try extracting from info files to automate NaN filling"
   ]
  },
  {
   "cell_type": "code",
   "execution_count": 9,
   "metadata": {
    "scrolled": false
   },
   "outputs": [],
   "source": [
    "# construct nan values to be filled in for each attribute\n",
    "\n",
    "nan_info = pd.read_excel('DIAS Attributes - Values 2017.xlsx',\n",
    "                    usecols=[1,3,4])\n",
    "nan_info.columns = [\"Attribute\", \"Value\", \"Meaning\"]\n",
    "nan_info.fillna(method='ffill', axis=0, inplace=True)\n",
    "\n",
    "# store index of lines containing \"unknown\" levels\n",
    "target_index = []\n",
    "for i, row in nan_info.iterrows():\n",
    "    try:\n",
    "        if \"unknown\" in row.iloc[-1]:\n",
    "            target_index.append(i)\n",
    "    except:\n",
    "        continue\n",
    "        \n",
    "nan_fill = nan_info.iloc[target_index, [0,1]]\n",
    "nan_fill.set_index(\"Attribute\", inplace=True) # index provide attribute, corresponding value is the NaN value for that attribute"
   ]
  },
  {
   "cell_type": "code",
   "execution_count": 10,
   "metadata": {
    "scrolled": false
   },
   "outputs": [],
   "source": [
    "# some attributes have two possible values\n",
    "# identify which ones, consider only one value and make\n",
    "# the dataframe pop_df & customer_df consistent with the one considered\n",
    "\n",
    "replacements = {}\n",
    "for i, row in nan_fill.iterrows():\n",
    "    if type(row.values[0]) == str:\n",
    "        if len(row.values[0].split()) > 1:\n",
    "            kept, dropped = row.values[0].split()\n",
    "            nan_fill.loc[i] = kept\n",
    "            replacements[i] = {dropped:kept} # this will be used to replace in original dataframe\n",
    "        "
   ]
  },
  {
   "cell_type": "code",
   "execution_count": 11,
   "metadata": {
    "scrolled": false
   },
   "outputs": [],
   "source": []
  },
  {
   "cell_type": "code",
   "execution_count": 12,
   "metadata": {
    "scrolled": true
   },
   "outputs": [],
   "source": []
  },
  {
   "cell_type": "code",
   "execution_count": 13,
   "metadata": {
    "scrolled": false
   },
   "outputs": [],
   "source": [
    "make_replacement(pop_df, replacements)\n",
    "fill_na_presc(pop_df, nan_fill)\n",
    "make_replacement(customers_df, replacements)\n",
    "fill_na_presc(customers_df, nan_fill)"
   ]
  },
  {
   "cell_type": "markdown",
   "metadata": {},
   "source": [
    "### Fill NaN that could not be filled through previous techniques"
   ]
  },
  {
   "cell_type": "code",
   "execution_count": 14,
   "metadata": {
    "scrolled": false
   },
   "outputs": [],
   "source": []
  },
  {
   "cell_type": "code",
   "execution_count": 15,
   "metadata": {
    "scrolled": false
   },
   "outputs": [],
   "source": [
    "df_to_numeric(customers_df)\n",
    "df_to_numeric(pop_df)"
   ]
  },
  {
   "cell_type": "code",
   "execution_count": 16,
   "metadata": {
    "scrolled": false
   },
   "outputs": [],
   "source": []
  },
  {
   "cell_type": "code",
   "execution_count": 17,
   "metadata": {
    "scrolled": false
   },
   "outputs": [],
   "source": [
    "pop_non_numeric = get_non_numeric(pop_df)\n",
    "pop_numeric = [col for col in pop_df.columns if col not in pop_non_numeric]\n",
    "\n",
    "customers_non_numeric = get_non_numeric(customers_df)\n",
    "customers_numeric = [col for col in customers_df.columns if col not in customers_non_numeric]"
   ]
  },
  {
   "cell_type": "code",
   "execution_count": 6,
   "metadata": {
    "scrolled": false
   },
   "outputs": [],
   "source": [
    "POP_NUMERIC_FILENAME = 'pop_df_numeric.pkl'\n",
    "POP_NON_NUMERIC_FILENAME = 'pop_df_non_numeric.pkl'"
   ]
  },
  {
   "cell_type": "code",
   "execution_count": 18,
   "metadata": {
    "scrolled": false
   },
   "outputs": [],
   "source": [
    "\n",
    "pop_df[pop_non_numeric].to_pickle(pop_non_numeric_filename)\n",
    "pop_df[pop_numeric].to_pickle(pop_numeric_filename)"
   ]
  },
  {
   "cell_type": "code",
   "execution_count": 23,
   "metadata": {
    "scrolled": false
   },
   "outputs": [],
   "source": [
    "customers_df[pop_non_numeric].to_pickle('customers_df_non_numeric.pkl')\n",
    "customers_df[pop_numeric].to_pickle('customers_df_numeric.pkl')"
   ]
  },
  {
   "cell_type": "code",
   "execution_count": 29,
   "metadata": {
    "scrolled": false
   },
   "outputs": [
    {
     "data": {
      "text/plain": [
       "6574"
      ]
     },
     "execution_count": 29,
     "metadata": {},
     "output_type": "execute_result"
    }
   ],
   "source": [
    "\n",
    "pop_df = None\n",
    "customers_df = None\n",
    "\n",
    "gc.collect()"
   ]
  },
  {
   "cell_type": "code",
   "execution_count": 2,
   "metadata": {
    "scrolled": false
   },
   "outputs": [
    {
     "data": {
      "text/plain": [
       "svmem(total=16820322304, available=16079503360, percent=4.4, used=473419776, free=15775965184, active=682991616, inactive=256245760, buffers=48435200, cached=522502144, shared=65536, slab=49676288)"
      ]
     },
     "execution_count": 2,
     "metadata": {},
     "output_type": "execute_result"
    }
   ],
   "source": [
    "mem = psutil.virtual_memory()\n",
    "mem."
   ]
  },
  {
   "cell_type": "code",
   "execution_count": null,
   "metadata": {
    "scrolled": false
   },
   "outputs": [
    {
     "ename": "KeyboardInterrupt",
     "evalue": "",
     "output_type": "error",
     "traceback": [
      "\u001b[0;31m---------------------------------------------------------------------------\u001b[0m",
      "\u001b[0;31mKeyboardInterrupt\u001b[0m                         Traceback (most recent call last)",
      "\u001b[0;32m<ipython-input-7-0af9df9ce0d5>\u001b[0m in \u001b[0;36m<module>\u001b[0;34m()\u001b[0m\n\u001b[1;32m      4\u001b[0m \u001b[0;34m\u001b[0m\u001b[0m\n\u001b[1;32m      5\u001b[0m \u001b[0mimputer\u001b[0m \u001b[0;34m=\u001b[0m \u001b[0mKNNImputer\u001b[0m\u001b[0;34m(\u001b[0m\u001b[0mn_neighbors\u001b[0m\u001b[0;34m=\u001b[0m\u001b[0;36m4\u001b[0m\u001b[0;34m,\u001b[0m \u001b[0mweights\u001b[0m\u001b[0;34m=\u001b[0m\u001b[0;34m\"distance\"\u001b[0m\u001b[0;34m,\u001b[0m \u001b[0mcopy\u001b[0m\u001b[0;34m=\u001b[0m\u001b[0;32mTrue\u001b[0m\u001b[0;34m)\u001b[0m\u001b[0;34m\u001b[0m\u001b[0m\n\u001b[0;32m----> 6\u001b[0;31m \u001b[0mimputer\u001b[0m\u001b[0;34m.\u001b[0m\u001b[0mfit_transform\u001b[0m\u001b[0;34m(\u001b[0m\u001b[0mpop_df_numeric\u001b[0m\u001b[0;34m)\u001b[0m\u001b[0;34m\u001b[0m\u001b[0m\n\u001b[0m",
      "\u001b[0;32m~/anaconda3/envs/amazonei_mxnet_p36/lib/python3.6/site-packages/sklearn/base.py\u001b[0m in \u001b[0;36mfit_transform\u001b[0;34m(self, X, y, **fit_params)\u001b[0m\n\u001b[1;32m    688\u001b[0m         \u001b[0;32mif\u001b[0m \u001b[0my\u001b[0m \u001b[0;32mis\u001b[0m \u001b[0;32mNone\u001b[0m\u001b[0;34m:\u001b[0m\u001b[0;34m\u001b[0m\u001b[0m\n\u001b[1;32m    689\u001b[0m             \u001b[0;31m# fit method of arity 1 (unsupervised transformation)\u001b[0m\u001b[0;34m\u001b[0m\u001b[0;34m\u001b[0m\u001b[0m\n\u001b[0;32m--> 690\u001b[0;31m             \u001b[0;32mreturn\u001b[0m \u001b[0mself\u001b[0m\u001b[0;34m.\u001b[0m\u001b[0mfit\u001b[0m\u001b[0;34m(\u001b[0m\u001b[0mX\u001b[0m\u001b[0;34m,\u001b[0m \u001b[0;34m**\u001b[0m\u001b[0mfit_params\u001b[0m\u001b[0;34m)\u001b[0m\u001b[0;34m.\u001b[0m\u001b[0mtransform\u001b[0m\u001b[0;34m(\u001b[0m\u001b[0mX\u001b[0m\u001b[0;34m)\u001b[0m\u001b[0;34m\u001b[0m\u001b[0m\n\u001b[0m\u001b[1;32m    691\u001b[0m         \u001b[0;32melse\u001b[0m\u001b[0;34m:\u001b[0m\u001b[0;34m\u001b[0m\u001b[0m\n\u001b[1;32m    692\u001b[0m             \u001b[0;31m# fit method of arity 2 (supervised transformation)\u001b[0m\u001b[0;34m\u001b[0m\u001b[0;34m\u001b[0m\u001b[0m\n",
      "\u001b[0;32m~/anaconda3/envs/amazonei_mxnet_p36/lib/python3.6/site-packages/sklearn/impute/_knn.py\u001b[0m in \u001b[0;36mtransform\u001b[0;34m(self, X)\u001b[0m\n\u001b[1;32m    295\u001b[0m             \u001b[0mforce_all_finite\u001b[0m\u001b[0;34m=\u001b[0m\u001b[0mforce_all_finite\u001b[0m\u001b[0;34m,\u001b[0m\u001b[0;34m\u001b[0m\u001b[0m\n\u001b[1;32m    296\u001b[0m             reduce_func=process_chunk)\n\u001b[0;32m--> 297\u001b[0;31m         \u001b[0;32mfor\u001b[0m \u001b[0mchunk\u001b[0m \u001b[0;32min\u001b[0m \u001b[0mgen\u001b[0m\u001b[0;34m:\u001b[0m\u001b[0;34m\u001b[0m\u001b[0m\n\u001b[0m\u001b[1;32m    298\u001b[0m             \u001b[0;31m# process_chunk modifies X in place. No return value.\u001b[0m\u001b[0;34m\u001b[0m\u001b[0;34m\u001b[0m\u001b[0m\n\u001b[1;32m    299\u001b[0m             \u001b[0;32mpass\u001b[0m\u001b[0;34m\u001b[0m\u001b[0m\n",
      "\u001b[0;32m~/anaconda3/envs/amazonei_mxnet_p36/lib/python3.6/site-packages/sklearn/metrics/pairwise.py\u001b[0m in \u001b[0;36mpairwise_distances_chunked\u001b[0;34m(X, Y, reduce_func, metric, n_jobs, working_memory, **kwds)\u001b[0m\n\u001b[1;32m   1620\u001b[0m         \u001b[0;32mif\u001b[0m \u001b[0mreduce_func\u001b[0m \u001b[0;32mis\u001b[0m \u001b[0;32mnot\u001b[0m \u001b[0;32mNone\u001b[0m\u001b[0;34m:\u001b[0m\u001b[0;34m\u001b[0m\u001b[0m\n\u001b[1;32m   1621\u001b[0m             \u001b[0mchunk_size\u001b[0m \u001b[0;34m=\u001b[0m \u001b[0mD_chunk\u001b[0m\u001b[0;34m.\u001b[0m\u001b[0mshape\u001b[0m\u001b[0;34m[\u001b[0m\u001b[0;36m0\u001b[0m\u001b[0;34m]\u001b[0m\u001b[0;34m\u001b[0m\u001b[0m\n\u001b[0;32m-> 1622\u001b[0;31m             \u001b[0mD_chunk\u001b[0m \u001b[0;34m=\u001b[0m \u001b[0mreduce_func\u001b[0m\u001b[0;34m(\u001b[0m\u001b[0mD_chunk\u001b[0m\u001b[0;34m,\u001b[0m \u001b[0msl\u001b[0m\u001b[0;34m.\u001b[0m\u001b[0mstart\u001b[0m\u001b[0;34m)\u001b[0m\u001b[0;34m\u001b[0m\u001b[0m\n\u001b[0m\u001b[1;32m   1623\u001b[0m             \u001b[0m_check_chunk_size\u001b[0m\u001b[0;34m(\u001b[0m\u001b[0mD_chunk\u001b[0m\u001b[0;34m,\u001b[0m \u001b[0mchunk_size\u001b[0m\u001b[0;34m)\u001b[0m\u001b[0;34m\u001b[0m\u001b[0m\n\u001b[1;32m   1624\u001b[0m         \u001b[0;32myield\u001b[0m \u001b[0mD_chunk\u001b[0m\u001b[0;34m\u001b[0m\u001b[0m\n",
      "\u001b[0;32m~/anaconda3/envs/amazonei_mxnet_p36/lib/python3.6/site-packages/sklearn/impute/_knn.py\u001b[0m in \u001b[0;36mprocess_chunk\u001b[0;34m(dist_chunk, start)\u001b[0m\n\u001b[1;32m    257\u001b[0m \u001b[0;34m\u001b[0m\u001b[0m\n\u001b[1;32m    258\u001b[0m                 \u001b[0;31m# distances for samples that needed imputation for column\u001b[0m\u001b[0;34m\u001b[0m\u001b[0;34m\u001b[0m\u001b[0m\n\u001b[0;32m--> 259\u001b[0;31m                 dist_subset = (dist_chunk[dist_idx_map[receivers_idx] - start]\n\u001b[0m\u001b[1;32m    260\u001b[0m                                [:, potential_donors_idx])\n\u001b[1;32m    261\u001b[0m \u001b[0;34m\u001b[0m\u001b[0m\n",
      "\u001b[0;31mKeyboardInterrupt\u001b[0m: "
     ]
    }
   ],
   "source": [
    "from sklearn.impute import KNNImputer\n",
    "\n",
    "pop_df_numeric = pd.read_pickle(POP_NUMERIC_FILENAME)\n",
    "\n",
    "imputer = KNNImputer(n_neighbors=4, weights=\"distance\", copy=True)\n",
    "imputer.fit_transform(pop_df_numeric)"
   ]
  },
  {
   "cell_type": "markdown",
   "metadata": {},
   "source": [
    "# Complete transformation pipeline"
   ]
  },
  {
   "cell_type": "code",
   "execution_count": 12,
   "metadata": {},
   "outputs": [],
   "source": [
    "from sklearn.pipeline import Pipeline\n",
    "from sklearn.preprocessing import StandardScaler\n",
    "from sklearn.base import BaseEstimator, TransformerMixin\n",
    "from sklearn.compose import ColumnTransformer"
   ]
  },
  {
   "cell_type": "code",
   "execution_count": 56,
   "metadata": {},
   "outputs": [],
   "source": [
    "pop_df_mini = pop_df_partial.iloc[0:10,:].copy()"
   ]
  },
  {
   "cell_type": "markdown",
   "metadata": {},
   "source": [
    "## Pre-transform operations"
   ]
  },
  {
   "cell_type": "code",
   "execution_count": 57,
   "metadata": {},
   "outputs": [],
   "source": [
    "pop_df_selected = pop_df_mini"
   ]
  },
  {
   "cell_type": "code",
   "execution_count": 58,
   "metadata": {},
   "outputs": [],
   "source": [
    "# specify columns to be dropped\n",
    "pop_columns_to_drop = ['CAMEO_DEUG_2015', 'CAMEO_DEU_2015']\n",
    "\n",
    "selected_columns = set(pop_df_selected.columns)-set(pop_columns_to_drop)\n",
    "selected_columns = pop_df_selected[selected_columns].columns # because scikit pipeline requires index-type\n",
    "object_columns = pop_df_selected.select_dtypes(object).columns"
   ]
  },
  {
   "cell_type": "code",
   "execution_count": 154,
   "metadata": {},
   "outputs": [],
   "source": [
    "class HighCorr_remover(BaseEstimator, TransformerMixin):\n",
    "    def __init__(self, corr_threshold=0.7):\n",
    "        self.corr_threshold = corr_threshold\n",
    "    def fit(self, X, y=None):\n",
    "        return self\n",
    "    def transform(self, X):\n",
    "        corr = X.corr()\n",
    "        (main_elements, correlated_elements) = remove_high_corr(corr, self.corr_threshold)\n",
    "        \n",
    "        result = X.drop(correlated_elements, axis=1)\n",
    "        self.features = result.columns\n",
    "        \n",
    "        return result\n",
    "    def get_feature_names(self):\n",
    "        return self.features"
   ]
  },
  {
   "cell_type": "code",
   "execution_count": 155,
   "metadata": {},
   "outputs": [],
   "source": [
    "class To_numeric(BaseEstimator, TransformerMixin):\n",
    "    def __init__(self):\n",
    "        pass\n",
    "    def fit(self, X, y=None):\n",
    "        return self\n",
    "    def transform(self, X):\n",
    "        for col in X.columns:\n",
    "            try:\n",
    "                X[col] = pd.to_numeric(X[col], errors='raise')\n",
    "            except Exception as e:\n",
    "                continue\n",
    "        \n",
    "        self.features = X.columns\n",
    "\n",
    "        return X\n",
    "    def get_feature_names(self):\n",
    "        return self.features"
   ]
  },
  {
   "cell_type": "code",
   "execution_count": 156,
   "metadata": {},
   "outputs": [],
   "source": [
    "common_pipeline = Pipeline([\n",
    "('highCorrRemover', HighCorr_remover())\n",
    "                            ])"
   ]
  },
  {
   "cell_type": "code",
   "execution_count": 157,
   "metadata": {},
   "outputs": [],
   "source": [
    "objects_pipeline = Pipeline([\n",
    "('to_numeric', To_numeric())\n",
    "                            ])"
   ]
  },
  {
   "cell_type": "markdown",
   "metadata": {},
   "source": [
    "## Pipeline"
   ]
  },
  {
   "cell_type": "code",
   "execution_count": 158,
   "metadata": {},
   "outputs": [],
   "source": [
    "full_pipeline = ColumnTransformer(\n",
    "     [('all_selected_columns', common_pipeline, selected_columns),\n",
    "      ('objects', objects_pipeline, object_columns)],\n",
    "     remainder='drop')"
   ]
  },
  {
   "cell_type": "code",
   "execution_count": 159,
   "metadata": {},
   "outputs": [
    {
     "data": {
      "text/plain": [
       "ColumnTransformer(transformers=[('all_selected_columns',\n",
       "                                 Pipeline(steps=[('highCorrRemover',\n",
       "                                                  HighCorr_remover())]),\n",
       "                                 Index(['ALTER_KIND2', 'KBA13_KRSSEG_KLEIN', 'FINANZTYP', 'KBA05_FRAU',\n",
       "       'KBA13_HALTER_45', 'KBA05_MOD2', 'KBA13_AUDI', 'KBA13_SEG_WOHNMOBILE',\n",
       "       'D19_BANKEN_REST', 'KBA05_KW1',\n",
       "       ...\n",
       "       'KBA13_ALTERHALTER_61', 'KBA13_VORB_1_2', 'D19_BANKEN_ONLINE_DATUM',\n",
       "       'KBA13_CCM_3000', 'KBA13_KW_30', 'FINANZ_HAUSBAUER', 'D19_BANKEN_DATUM',\n",
       "       'FINANZ_ANLEGER', 'D19_KINDERARTIKEL', 'D19_KONSUMTYP_MAX'],\n",
       "      dtype='object', length=364)),\n",
       "                                ('objects',\n",
       "                                 Pipeline(steps=[('to_numeric', To_numeric())]),\n",
       "                                 Index(['CAMEO_DEU_2015', 'CAMEO_DEUG_2015', 'CAMEO_INTL_2015',\n",
       "       'D19_LETZTER_KAUF_BRANCHE', 'EINGEFUEGT_AM', 'OST_WEST_KZ'],\n",
       "      dtype='object'))])"
      ]
     },
     "execution_count": 159,
     "metadata": {},
     "output_type": "execute_result"
    }
   ],
   "source": [
    "full_pipeline"
   ]
  },
  {
   "cell_type": "code",
   "execution_count": 160,
   "metadata": {},
   "outputs": [
    {
     "data": {
      "text/plain": [
       "ColumnTransformer(transformers=[('all_selected_columns',\n",
       "                                 Pipeline(steps=[('highCorrRemover',\n",
       "                                                  HighCorr_remover())]),\n",
       "                                 Index(['ALTER_KIND2', 'KBA13_KRSSEG_KLEIN', 'FINANZTYP', 'KBA05_FRAU',\n",
       "       'KBA13_HALTER_45', 'KBA05_MOD2', 'KBA13_AUDI', 'KBA13_SEG_WOHNMOBILE',\n",
       "       'D19_BANKEN_REST', 'KBA05_KW1',\n",
       "       ...\n",
       "       'KBA13_ALTERHALTER_61', 'KBA13_VORB_1_2', 'D19_BANKEN_ONLINE_DATUM',\n",
       "       'KBA13_CCM_3000', 'KBA13_KW_30', 'FINANZ_HAUSBAUER', 'D19_BANKEN_DATUM',\n",
       "       'FINANZ_ANLEGER', 'D19_KINDERARTIKEL', 'D19_KONSUMTYP_MAX'],\n",
       "      dtype='object', length=364)),\n",
       "                                ('objects',\n",
       "                                 Pipeline(steps=[('to_numeric', To_numeric())]),\n",
       "                                 Index(['CAMEO_DEU_2015', 'CAMEO_DEUG_2015', 'CAMEO_INTL_2015',\n",
       "       'D19_LETZTER_KAUF_BRANCHE', 'EINGEFUEGT_AM', 'OST_WEST_KZ'],\n",
       "      dtype='object'))])"
      ]
     },
     "execution_count": 160,
     "metadata": {},
     "output_type": "execute_result"
    }
   ],
   "source": [
    "full_pipeline.fit(pop_df_selected)"
   ]
  },
  {
   "cell_type": "code",
   "execution_count": 161,
   "metadata": {},
   "outputs": [
    {
     "data": {
      "text/plain": [
       "Index(['ALTER_KIND2', 'KBA13_KRSSEG_KLEIN', 'FINANZTYP', 'KBA05_FRAU',\n",
       "       'KBA13_HALTER_45', 'KBA05_MOD2', 'KBA13_AUDI', 'KBA13_SEG_WOHNMOBILE',\n",
       "       'D19_BANKEN_REST', 'KBA05_KW1',\n",
       "       ...\n",
       "       'KBA13_KRSSEG_OBER', 'HH_DELTA_FLAG', 'ANZ_PERSONEN', 'KBA05_MAXAH',\n",
       "       'D19_VERSI_DATUM', 'D19_TELKO_ONLINE_QUOTE_12', 'D19_TELKO_ANZ_12',\n",
       "       'D19_BANKEN_ONLINE_DATUM', 'KBA13_KW_30', 'D19_KINDERARTIKEL'],\n",
       "      dtype='object', length=306)"
      ]
     },
     "execution_count": 161,
     "metadata": {},
     "output_type": "execute_result"
    }
   ],
   "source": [
    "full_pipeline.transformers_[0][1].steps[0][1].get_feature_names()"
   ]
  },
  {
   "cell_type": "code",
   "execution_count": 162,
   "metadata": {},
   "outputs": [
    {
     "data": {
      "text/plain": [
       "Index(['CAMEO_DEU_2015', 'CAMEO_DEUG_2015', 'CAMEO_INTL_2015',\n",
       "       'D19_LETZTER_KAUF_BRANCHE', 'EINGEFUEGT_AM', 'OST_WEST_KZ'],\n",
       "      dtype='object')"
      ]
     },
     "execution_count": 162,
     "metadata": {},
     "output_type": "execute_result"
    }
   ],
   "source": [
    "full_pipeline.transformers_[1][1].steps[0][1].get_feature_names()"
   ]
  },
  {
   "cell_type": "code",
   "execution_count": 143,
   "metadata": {},
   "outputs": [
    {
     "ename": "AttributeError",
     "evalue": "Transformer all_selected_columns (type Pipeline) does not provide get_feature_names.",
     "output_type": "error",
     "traceback": [
      "\u001b[0;31m---------------------------------------------------------------------------\u001b[0m",
      "\u001b[0;31mAttributeError\u001b[0m                            Traceback (most recent call last)",
      "\u001b[0;32m<ipython-input-143-5ba489698f6d>\u001b[0m in \u001b[0;36m<module>\u001b[0;34m()\u001b[0m\n\u001b[0;32m----> 1\u001b[0;31m \u001b[0mfull_pipeline\u001b[0m\u001b[0;34m.\u001b[0m\u001b[0mget_feature_names\u001b[0m\u001b[0;34m(\u001b[0m\u001b[0;34m)\u001b[0m\u001b[0;34m\u001b[0m\u001b[0m\n\u001b[0m",
      "\u001b[0;32m~/anaconda3/envs/amazonei_mxnet_p36/lib/python3.6/site-packages/sklearn/compose/_column_transformer.py\u001b[0m in \u001b[0;36mget_feature_names\u001b[0;34m(self)\u001b[0m\n\u001b[1;32m    371\u001b[0m                 raise AttributeError(\"Transformer %s (type %s) does not \"\n\u001b[1;32m    372\u001b[0m                                      \u001b[0;34m\"provide get_feature_names.\"\u001b[0m\u001b[0;34m\u001b[0m\u001b[0m\n\u001b[0;32m--> 373\u001b[0;31m                                      % (str(name), type(trans).__name__))\n\u001b[0m\u001b[1;32m    374\u001b[0m             feature_names.extend([name + \"__\" + f for f in\n\u001b[1;32m    375\u001b[0m                                   trans.get_feature_names()])\n",
      "\u001b[0;31mAttributeError\u001b[0m: Transformer all_selected_columns (type Pipeline) does not provide get_feature_names."
     ]
    }
   ],
   "source": [
    "full_pipeline.get_feature_names()"
   ]
  },
  {
   "cell_type": "code",
   "execution_count": 120,
   "metadata": {},
   "outputs": [],
   "source": [
    "pop_array_processed = full_pipeline.fit_transform(pop_df_selected)"
   ]
  },
  {
   "cell_type": "code",
   "execution_count": 121,
   "metadata": {},
   "outputs": [
    {
     "ename": "AttributeError",
     "evalue": "'numpy.ndarray' object has no attribute 'get_feature_names'",
     "output_type": "error",
     "traceback": [
      "\u001b[0;31m---------------------------------------------------------------------------\u001b[0m",
      "\u001b[0;31mAttributeError\u001b[0m                            Traceback (most recent call last)",
      "\u001b[0;32m<ipython-input-121-83bb91710215>\u001b[0m in \u001b[0;36m<module>\u001b[0;34m()\u001b[0m\n\u001b[0;32m----> 1\u001b[0;31m \u001b[0mpop_array_processed\u001b[0m\u001b[0;34m.\u001b[0m\u001b[0mget_feature_names\u001b[0m\u001b[0;34m(\u001b[0m\u001b[0;34m)\u001b[0m\u001b[0;34m\u001b[0m\u001b[0m\n\u001b[0m",
      "\u001b[0;31mAttributeError\u001b[0m: 'numpy.ndarray' object has no attribute 'get_feature_names'"
     ]
    }
   ],
   "source": [
    "pop_array_processed.get_feature_names()"
   ]
  },
  {
   "cell_type": "code",
   "execution_count": 37,
   "metadata": {},
   "outputs": [
    {
     "data": {
      "text/html": [
       "<div>\n",
       "<style scoped>\n",
       "    .dataframe tbody tr th:only-of-type {\n",
       "        vertical-align: middle;\n",
       "    }\n",
       "\n",
       "    .dataframe tbody tr th {\n",
       "        vertical-align: top;\n",
       "    }\n",
       "\n",
       "    .dataframe thead th {\n",
       "        text-align: right;\n",
       "    }\n",
       "</style>\n",
       "<table border=\"1\" class=\"dataframe\">\n",
       "  <thead>\n",
       "    <tr style=\"text-align: right;\">\n",
       "      <th></th>\n",
       "      <th>LNR</th>\n",
       "      <th>AGER_TYP</th>\n",
       "      <th>AKT_DAT_KL</th>\n",
       "      <th>ALTER_HH</th>\n",
       "      <th>ALTER_KIND1</th>\n",
       "      <th>ALTER_KIND2</th>\n",
       "      <th>ALTER_KIND3</th>\n",
       "      <th>ALTER_KIND4</th>\n",
       "      <th>ALTERSKATEGORIE_FEIN</th>\n",
       "      <th>ANZ_HAUSHALTE_AKTIV</th>\n",
       "      <th>...</th>\n",
       "      <th>VHN</th>\n",
       "      <th>VK_DHT4A</th>\n",
       "      <th>VK_DISTANZ</th>\n",
       "      <th>VK_ZG11</th>\n",
       "      <th>W_KEIT_KIND_HH</th>\n",
       "      <th>WOHNDAUER_2008</th>\n",
       "      <th>WOHNLAGE</th>\n",
       "      <th>ZABEOTYP</th>\n",
       "      <th>ANREDE_KZ</th>\n",
       "      <th>ALTERSKATEGORIE_GROB</th>\n",
       "    </tr>\n",
       "  </thead>\n",
       "  <tbody>\n",
       "    <tr>\n",
       "      <th>0</th>\n",
       "      <td>910220</td>\n",
       "      <td>-1</td>\n",
       "      <td>9.0</td>\n",
       "      <td>0.0</td>\n",
       "      <td>NaN</td>\n",
       "      <td>NaN</td>\n",
       "      <td>NaN</td>\n",
       "      <td>NaN</td>\n",
       "      <td>21.0</td>\n",
       "      <td>11.0</td>\n",
       "      <td>...</td>\n",
       "      <td>4.0</td>\n",
       "      <td>8.0</td>\n",
       "      <td>11.0</td>\n",
       "      <td>10.0</td>\n",
       "      <td>3.0</td>\n",
       "      <td>9.0</td>\n",
       "      <td>4.0</td>\n",
       "      <td>5.0</td>\n",
       "      <td>2.0</td>\n",
       "      <td>1.0</td>\n",
       "    </tr>\n",
       "    <tr>\n",
       "      <th>1</th>\n",
       "      <td>910226</td>\n",
       "      <td>2</td>\n",
       "      <td>1.0</td>\n",
       "      <td>13.0</td>\n",
       "      <td>NaN</td>\n",
       "      <td>NaN</td>\n",
       "      <td>NaN</td>\n",
       "      <td>NaN</td>\n",
       "      <td>13.0</td>\n",
       "      <td>1.0</td>\n",
       "      <td>...</td>\n",
       "      <td>0.0</td>\n",
       "      <td>7.0</td>\n",
       "      <td>10.0</td>\n",
       "      <td>11.0</td>\n",
       "      <td>NaN</td>\n",
       "      <td>9.0</td>\n",
       "      <td>7.0</td>\n",
       "      <td>3.0</td>\n",
       "      <td>2.0</td>\n",
       "      <td>4.0</td>\n",
       "    </tr>\n",
       "    <tr>\n",
       "      <th>2</th>\n",
       "      <td>910244</td>\n",
       "      <td>3</td>\n",
       "      <td>1.0</td>\n",
       "      <td>10.0</td>\n",
       "      <td>NaN</td>\n",
       "      <td>NaN</td>\n",
       "      <td>NaN</td>\n",
       "      <td>NaN</td>\n",
       "      <td>10.0</td>\n",
       "      <td>5.0</td>\n",
       "      <td>...</td>\n",
       "      <td>2.0</td>\n",
       "      <td>10.0</td>\n",
       "      <td>7.0</td>\n",
       "      <td>4.0</td>\n",
       "      <td>6.0</td>\n",
       "      <td>9.0</td>\n",
       "      <td>7.0</td>\n",
       "      <td>4.0</td>\n",
       "      <td>2.0</td>\n",
       "      <td>1.0</td>\n",
       "    </tr>\n",
       "    <tr>\n",
       "      <th>3</th>\n",
       "      <td>910261</td>\n",
       "      <td>-1</td>\n",
       "      <td>1.0</td>\n",
       "      <td>14.0</td>\n",
       "      <td>NaN</td>\n",
       "      <td>NaN</td>\n",
       "      <td>NaN</td>\n",
       "      <td>NaN</td>\n",
       "      <td>14.0</td>\n",
       "      <td>6.0</td>\n",
       "      <td>...</td>\n",
       "      <td>2.0</td>\n",
       "      <td>10.0</td>\n",
       "      <td>12.0</td>\n",
       "      <td>9.0</td>\n",
       "      <td>5.0</td>\n",
       "      <td>9.0</td>\n",
       "      <td>1.0</td>\n",
       "      <td>1.0</td>\n",
       "      <td>1.0</td>\n",
       "      <td>1.0</td>\n",
       "    </tr>\n",
       "    <tr>\n",
       "      <th>4</th>\n",
       "      <td>645153</td>\n",
       "      <td>-1</td>\n",
       "      <td>5.0</td>\n",
       "      <td>17.0</td>\n",
       "      <td>NaN</td>\n",
       "      <td>NaN</td>\n",
       "      <td>NaN</td>\n",
       "      <td>NaN</td>\n",
       "      <td>17.0</td>\n",
       "      <td>9.0</td>\n",
       "      <td>...</td>\n",
       "      <td>4.0</td>\n",
       "      <td>1.0</td>\n",
       "      <td>1.0</td>\n",
       "      <td>1.0</td>\n",
       "      <td>4.0</td>\n",
       "      <td>3.0</td>\n",
       "      <td>7.0</td>\n",
       "      <td>4.0</td>\n",
       "      <td>2.0</td>\n",
       "      <td>3.0</td>\n",
       "    </tr>\n",
       "  </tbody>\n",
       "</table>\n",
       "<p>5 rows × 366 columns</p>\n",
       "</div>"
      ],
      "text/plain": [
       "      LNR  AGER_TYP  AKT_DAT_KL  ALTER_HH  ALTER_KIND1  ALTER_KIND2  \\\n",
       "0  910220        -1         9.0       0.0          NaN          NaN   \n",
       "1  910226         2         1.0      13.0          NaN          NaN   \n",
       "2  910244         3         1.0      10.0          NaN          NaN   \n",
       "3  910261        -1         1.0      14.0          NaN          NaN   \n",
       "4  645153        -1         5.0      17.0          NaN          NaN   \n",
       "\n",
       "   ALTER_KIND3  ALTER_KIND4  ALTERSKATEGORIE_FEIN  ANZ_HAUSHALTE_AKTIV  ...  \\\n",
       "0          NaN          NaN                  21.0                 11.0  ...   \n",
       "1          NaN          NaN                  13.0                  1.0  ...   \n",
       "2          NaN          NaN                  10.0                  5.0  ...   \n",
       "3          NaN          NaN                  14.0                  6.0  ...   \n",
       "4          NaN          NaN                  17.0                  9.0  ...   \n",
       "\n",
       "   VHN  VK_DHT4A  VK_DISTANZ  VK_ZG11  W_KEIT_KIND_HH  WOHNDAUER_2008  \\\n",
       "0  4.0       8.0        11.0     10.0             3.0             9.0   \n",
       "1  0.0       7.0        10.0     11.0             NaN             9.0   \n",
       "2  2.0      10.0         7.0      4.0             6.0             9.0   \n",
       "3  2.0      10.0        12.0      9.0             5.0             9.0   \n",
       "4  4.0       1.0         1.0      1.0             4.0             3.0   \n",
       "\n",
       "   WOHNLAGE ZABEOTYP ANREDE_KZ ALTERSKATEGORIE_GROB  \n",
       "0       4.0      5.0       2.0                  1.0  \n",
       "1       7.0      3.0       2.0                  4.0  \n",
       "2       7.0      4.0       2.0                  1.0  \n",
       "3       1.0      1.0       1.0                  1.0  \n",
       "4       7.0      4.0       2.0                  3.0  \n",
       "\n",
       "[5 rows x 366 columns]"
      ]
     },
     "execution_count": 37,
     "metadata": {},
     "output_type": "execute_result"
    }
   ],
   "source": [
    "pop_df_selected.head()"
   ]
  },
  {
   "cell_type": "code",
   "execution_count": 38,
   "metadata": {},
   "outputs": [
    {
     "ename": "AttributeError",
     "evalue": "'numpy.ndarray' object has no attribute 'head'",
     "output_type": "error",
     "traceback": [
      "\u001b[0;31m---------------------------------------------------------------------------\u001b[0m",
      "\u001b[0;31mAttributeError\u001b[0m                            Traceback (most recent call last)",
      "\u001b[0;32m<ipython-input-38-9e64effc51b5>\u001b[0m in \u001b[0;36m<module>\u001b[0;34m()\u001b[0m\n\u001b[0;32m----> 1\u001b[0;31m \u001b[0mpop_df_processed\u001b[0m\u001b[0;34m.\u001b[0m\u001b[0mhead\u001b[0m\u001b[0;34m(\u001b[0m\u001b[0;34m)\u001b[0m\u001b[0;34m\u001b[0m\u001b[0m\n\u001b[0m",
      "\u001b[0;31mAttributeError\u001b[0m: 'numpy.ndarray' object has no attribute 'head'"
     ]
    }
   ],
   "source": [
    "pop_df_processed = pandas.DataFrame"
   ]
  },
  {
   "cell_type": "markdown",
   "metadata": {},
   "source": [
    "## Part 1: Customer Segmentation Report\n",
    "\n",
    "The main bulk of your analysis will come in this part of the project. Here, you should use unsupervised learning techniques to describe the relationship between the demographics of the company's existing customers and the general population of Germany. By the end of this part, you should be able to describe parts of the general population that are more likely to be part of the mail-order company's main customer base, and which parts of the general population are less so."
   ]
  },
  {
   "cell_type": "code",
   "execution_count": null,
   "metadata": {
    "scrolled": false
   },
   "outputs": [],
   "source": []
  },
  {
   "cell_type": "markdown",
   "metadata": {},
   "source": [
    "## Part 2: Supervised Learning Model\n",
    "\n",
    "Now that you've found which parts of the population are more likely to be customers of the mail-order company, it's time to build a prediction model. Each of the rows in the \"MAILOUT\" data files represents an individual that was targeted for a mailout campaign. Ideally, we should be able to use the demographic information from each individual to decide whether or not it will be worth it to include that person in the campaign.\n",
    "\n",
    "The \"MAILOUT\" data has been split into two approximately equal parts, each with almost 43 000 data rows. In this part, you can verify your model with the \"TRAIN\" partition, which includes a column, \"RESPONSE\", that states whether or not a person became a customer of the company following the campaign. In the next part, you'll need to create predictions on the \"TEST\" partition, where the \"RESPONSE\" column has been withheld."
   ]
  },
  {
   "cell_type": "code",
   "execution_count": null,
   "metadata": {
    "scrolled": false
   },
   "outputs": [],
   "source": [
    "mailout_train = pd.read_csv('../../data/Term2/capstone/arvato_data/Udacity_MAILOUT_052018_TRAIN.csv', sep=';')"
   ]
  },
  {
   "cell_type": "code",
   "execution_count": null,
   "metadata": {
    "scrolled": false
   },
   "outputs": [],
   "source": []
  },
  {
   "cell_type": "markdown",
   "metadata": {},
   "source": [
    "## Part 3: Kaggle Competition\n",
    "\n",
    "Now that you've created a model to predict which individuals are most likely to respond to a mailout campaign, it's time to test that model in competition through Kaggle. If you click on the link [here](http://www.kaggle.com/t/21e6d45d4c574c7fa2d868f0e8c83140), you'll be taken to the competition page where, if you have a Kaggle account, you can enter. If you're one of the top performers, you may have the chance to be contacted by a hiring manager from Arvato or Bertelsmann for an interview!\n",
    "\n",
    "Your entry to the competition should be a CSV file with two columns. The first column should be a copy of \"LNR\", which acts as an ID number for each individual in the \"TEST\" partition. The second column, \"RESPONSE\", should be some measure of how likely each individual became a customer – this might not be a straightforward probability. As you should have found in Part 2, there is a large output class imbalance, where most individuals did not respond to the mailout. Thus, predicting individual classes and using accuracy does not seem to be an appropriate performance evaluation method. Instead, the competition will be using AUC to evaluate performance. The exact values of the \"RESPONSE\" column do not matter as much: only that the higher values try to capture as many of the actual customers as possible, early in the ROC curve sweep."
   ]
  },
  {
   "cell_type": "code",
   "execution_count": null,
   "metadata": {
    "scrolled": false
   },
   "outputs": [],
   "source": [
    "mailout_test = pd.read_csv('../../data/Term2/capstone/arvato_data/Udacity_MAILOUT_052018_TEST.csv', sep=';')"
   ]
  },
  {
   "cell_type": "code",
   "execution_count": null,
   "metadata": {
    "scrolled": false
   },
   "outputs": [],
   "source": []
  },
  {
   "cell_type": "markdown",
   "metadata": {},
   "source": [
    "# DATA INFORMATION"
   ]
  },
  {
   "cell_type": "code",
   "execution_count": null,
   "metadata": {
    "scrolled": false
   },
   "outputs": [],
   "source": []
  }
 ],
 "metadata": {
  "kernelspec": {
   "display_name": "conda_amazonei_mxnet_p36",
   "language": "python",
   "name": "conda_amazonei_mxnet_p36"
  },
  "language_info": {
   "codemirror_mode": {
    "name": "ipython",
    "version": 3
   },
   "file_extension": ".py",
   "mimetype": "text/x-python",
   "name": "python",
   "nbconvert_exporter": "python",
   "pygments_lexer": "ipython3",
   "version": "3.6.5"
  }
 },
 "nbformat": 4,
 "nbformat_minor": 2
}
